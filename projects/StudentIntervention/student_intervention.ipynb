{
 "cells": [
  {
   "cell_type": "markdown",
   "metadata": {},
   "source": [
    "# Project 2: Supervised Learning\n",
    "### Building a Student Intervention System"
   ]
  },
  {
   "cell_type": "markdown",
   "metadata": {},
   "source": [
    "## 1. Classification vs Regression\n",
    "\n",
    "Your goal is to identify students who might need early intervention - which type of supervised machine learning problem is this, classification or regression? Why?\n",
    "\n",
    "This is a binary classification problem, since the prediction the system is required to do is of categorical kind, out of two alternative outputs, that is: \"student passes\" and \"student fails\"\n"
   ]
  },
  {
   "cell_type": "markdown",
   "metadata": {},
   "source": [
    "## 2. Exploring the Data\n",
    "\n",
    "Let's go ahead and read in the student dataset first.\n",
    "\n",
    "_To execute a code cell, click inside it and press **Shift+Enter**._"
   ]
  },
  {
   "cell_type": "code",
   "execution_count": 1,
   "metadata": {
    "collapsed": false
   },
   "outputs": [],
   "source": [
    "# Import libraries\n",
    "%matplotlib inline\n",
    "import numpy as np\n",
    "import pandas as pd\n",
    "import matplotlib\n",
    "import matplotlib.pyplot as plt\n",
    "from IPython.display import display\n",
    "\n",
    "\n",
    "pd.set_option('display.width', 500)"
   ]
  },
  {
   "cell_type": "code",
   "execution_count": 2,
   "metadata": {
    "collapsed": false
   },
   "outputs": [
    {
     "name": "stdout",
     "output_type": "stream",
     "text": [
      "Student data read successfully!\n"
     ]
    }
   ],
   "source": [
    "# Read student data\n",
    "student_data = pd.read_csv(\"student-data.csv\")\n",
    "print \"Student data read successfully!\"\n",
    "# Note: The last column 'passed' is the target/label, all other are feature columns"
   ]
  },
  {
   "cell_type": "markdown",
   "metadata": {},
   "source": [
    "Now, can you find out the following facts about the dataset?\n",
    "- Total number of students\n",
    "- Number of students who passed\n",
    "- Number of students who failed\n",
    "- Graduation rate of the class (%)\n",
    "- Number of features\n",
    "\n",
    "_Use the code block below to compute these values. Instructions/steps are marked using **TODO**s._"
   ]
  },
  {
   "cell_type": "code",
   "execution_count": 3,
   "metadata": {
    "collapsed": false
   },
   "outputs": [
    {
     "name": "stdout",
     "output_type": "stream",
     "text": [
      "\n",
      "Total number of students:      395\n",
      "Number of students who passed: 265\n",
      "Number of students who failed: 130\n",
      "Number of features:            30\n",
      "Graduation rate of the class:  67.09%\n"
     ]
    }
   ],
   "source": [
    "# TODO: Compute desired values - replace each '?' with an appropriate expression/function call\n",
    "n_students = student_data.shape[0]\n",
    "n_features = student_data.shape[1] - 1\n",
    "n_passed = student_data.passed.value_counts()['yes']\n",
    "n_failed = student_data.passed.value_counts()['no']\n",
    "grad_rate = np.float(n_passed)/n_students*100\n",
    "print \"\\nTotal number of students:      {}\".format(n_students)\n",
    "print \"Number of students who passed: {}\".format(n_passed)\n",
    "print \"Number of students who failed: {}\".format(n_failed)\n",
    "print \"Number of features:            {}\".format(n_features)\n",
    "print \"Graduation rate of the class:  {:.2f}%\".format(grad_rate)"
   ]
  },
  {
   "cell_type": "markdown",
   "metadata": {},
   "source": [
    "### A more detailed view of available data through a Data Quality Report"
   ]
  },
  {
   "cell_type": "markdown",
   "metadata": {},
   "source": [
    "Let's define a Python class that collects more detailed central tendency information about the available data"
   ]
  },
  {
   "cell_type": "code",
   "execution_count": 4,
   "metadata": {
    "collapsed": true
   },
   "outputs": [],
   "source": [
    "class DataQualityReport(object):    \n",
    "    '''\n",
    "    Report about data basic statistics\n",
    "    '''\n",
    "    \n",
    "    CONT_TABLE_COLS = ['count', 'missing', 'cardinality', 'min', '1st_quartile', \n",
    "                       'mean', 'median', '3rd_quartile', 'max', 'std_dev']\n",
    "    CAT_TABLE_COLS  = ['count', 'missing', 'cardinality', 'mode', 'mode_freq', \n",
    "                       'mode_percent', '2nd_mode', '2nd_mode_freq', '2nd_mode_percent']\n",
    "        \n",
    "    def __init__(self, df, continuous_features, categorical_features):\n",
    "        '''\n",
    "        Constructor\n",
    "        Parameters:\n",
    "            df - pandas DataFrame object containing the dataset\n",
    "            categorical_features - the list of feature names of categorical type\n",
    "            continuous_features - the list of feature names of continuous type\n",
    "        '''\n",
    "        self._continuous_features   = continuous_features\n",
    "        self._categorical_features  = categorical_features\n",
    "\n",
    "        self.cont_table = pd.DataFrame(columns=DataQualityReport.CONT_TABLE_COLS, index=continuous_features)\n",
    "        self.cat_table  = pd.DataFrame(columns=DataQualityReport.CAT_TABLE_COLS, index=categorical_features)\n",
    "        self.cont_table.index.name = 'feature'\n",
    "        self.cat_table.index.name = 'feature'\n",
    "        stats = df.describe()\n",
    "        self._populate_cont_table(df, stats)\n",
    "        self._populate_cat_table(df, stats)\n",
    "  \n",
    "    def _populate_cont_table(self, df, stats):\n",
    "        for feature in self._continuous_features:\n",
    "            self.cont_table['count'][feature]           = df[feature].value_counts().sum()\n",
    "            self.cont_table['missing'][feature]         = df[feature].isnull().sum()\n",
    "            self.cont_table['cardinality'][feature]     = df[feature].unique().shape[0]\n",
    "            self.cont_table['min'][feature]             = stats[feature]['min']\n",
    "            self.cont_table['1st_quartile'][feature]    = stats[feature]['25%']\n",
    "            self.cont_table['mean'][feature]            = stats[feature]['mean']\n",
    "            self.cont_table['median'][feature]          = stats[feature]['50%']\n",
    "            self.cont_table['3rd_quartile'][feature]    = stats[feature]['75%']\n",
    "            self.cont_table['max'][feature]             = stats[feature]['max']\n",
    "            self.cont_table['std_dev'][feature]         = stats[feature]['std']\n",
    "            \n",
    "            \n",
    "    def _populate_cat_table(self, df, stats):\n",
    "        for feature in self._categorical_features:\n",
    "            self.cat_table['count'][feature]           = df[feature].value_counts().sum()\n",
    "            self.cat_table['missing'][feature]         = df[feature].isnull().sum()\n",
    "            self.cat_table['cardinality'][feature]     = df[feature].unique().shape[0]\n",
    "            vc = df[feature].value_counts()\n",
    "            self.cat_table['mode'][feature]            = vc.index[0]\n",
    "            self.cat_table['mode_freq'][feature]       = vc.values[0]\n",
    "            self.cat_table['mode_percent'][feature]    = float(vc.values[0])/vc.sum()*100\n",
    "            if vc.shape[0] > 1:\n",
    "                self.cat_table['2nd_mode'][feature]            = vc.index[1]\n",
    "                self.cat_table['2nd_mode_freq'][feature]       = vc.values[1]\n",
    "                self.cat_table['2nd_mode_percent'][feature]    = float(vc.values[1])/vc.sum()*100"
   ]
  },
  {
   "cell_type": "markdown",
   "metadata": {},
   "source": [
    "In our dataset, we find the following numerical descriptive features:"
   ]
  },
  {
   "cell_type": "code",
   "execution_count": 5,
   "metadata": {
    "collapsed": true
   },
   "outputs": [],
   "source": [
    "numerical_features = ['age', 'Medu', 'Fedu', 'traveltime', 'studytime', 'failures', 'famrel', 'freetime', \n",
    "                    'goout', 'Dalc', 'Walc', 'health', 'absences']"
   ]
  },
  {
   "cell_type": "markdown",
   "metadata": {},
   "source": [
    "and the following categorical features:"
   ]
  },
  {
   "cell_type": "code",
   "execution_count": 6,
   "metadata": {
    "collapsed": true
   },
   "outputs": [],
   "source": [
    "categorical_features = ['school', 'sex', 'address', 'famsize', 'Pstatus', 'Mjob', 'Fjob', 'reason', 'guardian', \n",
    "                        'schoolsup', 'famsup', 'paid', 'activities', 'nursery', 'higher','internet', 'romantic']"
   ]
  },
  {
   "cell_type": "markdown",
   "metadata": {},
   "source": [
    "Let's build a data quality report:"
   ]
  },
  {
   "cell_type": "code",
   "execution_count": 7,
   "metadata": {
    "collapsed": false
   },
   "outputs": [],
   "source": [
    "dqr = DataQualityReport(student_data, numerical_features, categorical_features)"
   ]
  },
  {
   "cell_type": "markdown",
   "metadata": {},
   "source": [
    "print data quality report for numeric features:"
   ]
  },
  {
   "cell_type": "code",
   "execution_count": 8,
   "metadata": {
    "collapsed": false
   },
   "outputs": [
    {
     "name": "stdout",
     "output_type": "stream",
     "text": [
      "\n",
      "NUMERICAL FEATURES DATA QUALITY REPORT:\n"
     ]
    },
    {
     "data": {
      "text/html": [
       "<div>\n",
       "<table border=\"1\" class=\"dataframe\">\n",
       "  <thead>\n",
       "    <tr style=\"text-align: right;\">\n",
       "      <th></th>\n",
       "      <th>count</th>\n",
       "      <th>missing</th>\n",
       "      <th>cardinality</th>\n",
       "      <th>min</th>\n",
       "      <th>1st_quartile</th>\n",
       "      <th>mean</th>\n",
       "      <th>median</th>\n",
       "      <th>3rd_quartile</th>\n",
       "      <th>max</th>\n",
       "      <th>std_dev</th>\n",
       "    </tr>\n",
       "    <tr>\n",
       "      <th>feature</th>\n",
       "      <th></th>\n",
       "      <th></th>\n",
       "      <th></th>\n",
       "      <th></th>\n",
       "      <th></th>\n",
       "      <th></th>\n",
       "      <th></th>\n",
       "      <th></th>\n",
       "      <th></th>\n",
       "      <th></th>\n",
       "    </tr>\n",
       "  </thead>\n",
       "  <tbody>\n",
       "    <tr>\n",
       "      <th>age</th>\n",
       "      <td>395</td>\n",
       "      <td>0</td>\n",
       "      <td>8</td>\n",
       "      <td>15</td>\n",
       "      <td>16</td>\n",
       "      <td>16.6962</td>\n",
       "      <td>17</td>\n",
       "      <td>18</td>\n",
       "      <td>22</td>\n",
       "      <td>1.27604</td>\n",
       "    </tr>\n",
       "    <tr>\n",
       "      <th>Medu</th>\n",
       "      <td>395</td>\n",
       "      <td>0</td>\n",
       "      <td>5</td>\n",
       "      <td>0</td>\n",
       "      <td>2</td>\n",
       "      <td>2.74937</td>\n",
       "      <td>3</td>\n",
       "      <td>4</td>\n",
       "      <td>4</td>\n",
       "      <td>1.09474</td>\n",
       "    </tr>\n",
       "    <tr>\n",
       "      <th>Fedu</th>\n",
       "      <td>395</td>\n",
       "      <td>0</td>\n",
       "      <td>5</td>\n",
       "      <td>0</td>\n",
       "      <td>2</td>\n",
       "      <td>2.52152</td>\n",
       "      <td>2</td>\n",
       "      <td>3</td>\n",
       "      <td>4</td>\n",
       "      <td>1.0882</td>\n",
       "    </tr>\n",
       "    <tr>\n",
       "      <th>traveltime</th>\n",
       "      <td>395</td>\n",
       "      <td>0</td>\n",
       "      <td>4</td>\n",
       "      <td>1</td>\n",
       "      <td>1</td>\n",
       "      <td>1.4481</td>\n",
       "      <td>1</td>\n",
       "      <td>2</td>\n",
       "      <td>4</td>\n",
       "      <td>0.697505</td>\n",
       "    </tr>\n",
       "    <tr>\n",
       "      <th>studytime</th>\n",
       "      <td>395</td>\n",
       "      <td>0</td>\n",
       "      <td>4</td>\n",
       "      <td>1</td>\n",
       "      <td>1</td>\n",
       "      <td>2.03544</td>\n",
       "      <td>2</td>\n",
       "      <td>2</td>\n",
       "      <td>4</td>\n",
       "      <td>0.83924</td>\n",
       "    </tr>\n",
       "    <tr>\n",
       "      <th>failures</th>\n",
       "      <td>395</td>\n",
       "      <td>0</td>\n",
       "      <td>4</td>\n",
       "      <td>0</td>\n",
       "      <td>0</td>\n",
       "      <td>0.334177</td>\n",
       "      <td>0</td>\n",
       "      <td>0</td>\n",
       "      <td>3</td>\n",
       "      <td>0.743651</td>\n",
       "    </tr>\n",
       "    <tr>\n",
       "      <th>famrel</th>\n",
       "      <td>395</td>\n",
       "      <td>0</td>\n",
       "      <td>5</td>\n",
       "      <td>1</td>\n",
       "      <td>4</td>\n",
       "      <td>3.9443</td>\n",
       "      <td>4</td>\n",
       "      <td>5</td>\n",
       "      <td>5</td>\n",
       "      <td>0.896659</td>\n",
       "    </tr>\n",
       "    <tr>\n",
       "      <th>freetime</th>\n",
       "      <td>395</td>\n",
       "      <td>0</td>\n",
       "      <td>5</td>\n",
       "      <td>1</td>\n",
       "      <td>3</td>\n",
       "      <td>3.23544</td>\n",
       "      <td>3</td>\n",
       "      <td>4</td>\n",
       "      <td>5</td>\n",
       "      <td>0.998862</td>\n",
       "    </tr>\n",
       "    <tr>\n",
       "      <th>goout</th>\n",
       "      <td>395</td>\n",
       "      <td>0</td>\n",
       "      <td>5</td>\n",
       "      <td>1</td>\n",
       "      <td>2</td>\n",
       "      <td>3.10886</td>\n",
       "      <td>3</td>\n",
       "      <td>4</td>\n",
       "      <td>5</td>\n",
       "      <td>1.11328</td>\n",
       "    </tr>\n",
       "    <tr>\n",
       "      <th>Dalc</th>\n",
       "      <td>395</td>\n",
       "      <td>0</td>\n",
       "      <td>5</td>\n",
       "      <td>1</td>\n",
       "      <td>1</td>\n",
       "      <td>1.48101</td>\n",
       "      <td>1</td>\n",
       "      <td>2</td>\n",
       "      <td>5</td>\n",
       "      <td>0.890741</td>\n",
       "    </tr>\n",
       "    <tr>\n",
       "      <th>Walc</th>\n",
       "      <td>395</td>\n",
       "      <td>0</td>\n",
       "      <td>5</td>\n",
       "      <td>1</td>\n",
       "      <td>1</td>\n",
       "      <td>2.29114</td>\n",
       "      <td>2</td>\n",
       "      <td>3</td>\n",
       "      <td>5</td>\n",
       "      <td>1.2879</td>\n",
       "    </tr>\n",
       "    <tr>\n",
       "      <th>health</th>\n",
       "      <td>395</td>\n",
       "      <td>0</td>\n",
       "      <td>5</td>\n",
       "      <td>1</td>\n",
       "      <td>3</td>\n",
       "      <td>3.55443</td>\n",
       "      <td>4</td>\n",
       "      <td>5</td>\n",
       "      <td>5</td>\n",
       "      <td>1.3903</td>\n",
       "    </tr>\n",
       "    <tr>\n",
       "      <th>absences</th>\n",
       "      <td>395</td>\n",
       "      <td>0</td>\n",
       "      <td>34</td>\n",
       "      <td>0</td>\n",
       "      <td>0</td>\n",
       "      <td>5.70886</td>\n",
       "      <td>4</td>\n",
       "      <td>8</td>\n",
       "      <td>75</td>\n",
       "      <td>8.0031</td>\n",
       "    </tr>\n",
       "  </tbody>\n",
       "</table>\n",
       "</div>"
      ],
      "text/plain": [
       "           count missing cardinality min 1st_quartile      mean median 3rd_quartile max   std_dev\n",
       "feature                                                                                          \n",
       "age          395       0           8  15           16   16.6962     17           18  22   1.27604\n",
       "Medu         395       0           5   0            2   2.74937      3            4   4   1.09474\n",
       "Fedu         395       0           5   0            2   2.52152      2            3   4    1.0882\n",
       "traveltime   395       0           4   1            1    1.4481      1            2   4  0.697505\n",
       "studytime    395       0           4   1            1   2.03544      2            2   4   0.83924\n",
       "failures     395       0           4   0            0  0.334177      0            0   3  0.743651\n",
       "famrel       395       0           5   1            4    3.9443      4            5   5  0.896659\n",
       "freetime     395       0           5   1            3   3.23544      3            4   5  0.998862\n",
       "goout        395       0           5   1            2   3.10886      3            4   5   1.11328\n",
       "Dalc         395       0           5   1            1   1.48101      1            2   5  0.890741\n",
       "Walc         395       0           5   1            1   2.29114      2            3   5    1.2879\n",
       "health       395       0           5   1            3   3.55443      4            5   5    1.3903\n",
       "absences     395       0          34   0            0   5.70886      4            8  75    8.0031"
      ]
     },
     "execution_count": 8,
     "metadata": {},
     "output_type": "execute_result"
    }
   ],
   "source": [
    "print \"\\nNUMERICAL FEATURES DATA QUALITY REPORT:\"\n",
    "dqr.cont_table"
   ]
  },
  {
   "cell_type": "markdown",
   "metadata": {},
   "source": [
    "and print data quality report table for categorical features:"
   ]
  },
  {
   "cell_type": "code",
   "execution_count": 9,
   "metadata": {
    "collapsed": false
   },
   "outputs": [
    {
     "name": "stdout",
     "output_type": "stream",
     "text": [
      "\n",
      "CATEGORICAL FEATURES DATA QUALITY REPORT:\n"
     ]
    },
    {
     "data": {
      "text/html": [
       "<div>\n",
       "<table border=\"1\" class=\"dataframe\">\n",
       "  <thead>\n",
       "    <tr style=\"text-align: right;\">\n",
       "      <th></th>\n",
       "      <th>count</th>\n",
       "      <th>missing</th>\n",
       "      <th>cardinality</th>\n",
       "      <th>mode</th>\n",
       "      <th>mode_freq</th>\n",
       "      <th>mode_percent</th>\n",
       "      <th>2nd_mode</th>\n",
       "      <th>2nd_mode_freq</th>\n",
       "      <th>2nd_mode_percent</th>\n",
       "    </tr>\n",
       "    <tr>\n",
       "      <th>feature</th>\n",
       "      <th></th>\n",
       "      <th></th>\n",
       "      <th></th>\n",
       "      <th></th>\n",
       "      <th></th>\n",
       "      <th></th>\n",
       "      <th></th>\n",
       "      <th></th>\n",
       "      <th></th>\n",
       "    </tr>\n",
       "  </thead>\n",
       "  <tbody>\n",
       "    <tr>\n",
       "      <th>school</th>\n",
       "      <td>395</td>\n",
       "      <td>0</td>\n",
       "      <td>2</td>\n",
       "      <td>GP</td>\n",
       "      <td>349</td>\n",
       "      <td>88.3544</td>\n",
       "      <td>MS</td>\n",
       "      <td>46</td>\n",
       "      <td>11.6456</td>\n",
       "    </tr>\n",
       "    <tr>\n",
       "      <th>sex</th>\n",
       "      <td>395</td>\n",
       "      <td>0</td>\n",
       "      <td>2</td>\n",
       "      <td>F</td>\n",
       "      <td>208</td>\n",
       "      <td>52.6582</td>\n",
       "      <td>M</td>\n",
       "      <td>187</td>\n",
       "      <td>47.3418</td>\n",
       "    </tr>\n",
       "    <tr>\n",
       "      <th>address</th>\n",
       "      <td>395</td>\n",
       "      <td>0</td>\n",
       "      <td>2</td>\n",
       "      <td>U</td>\n",
       "      <td>307</td>\n",
       "      <td>77.7215</td>\n",
       "      <td>R</td>\n",
       "      <td>88</td>\n",
       "      <td>22.2785</td>\n",
       "    </tr>\n",
       "    <tr>\n",
       "      <th>famsize</th>\n",
       "      <td>395</td>\n",
       "      <td>0</td>\n",
       "      <td>2</td>\n",
       "      <td>GT3</td>\n",
       "      <td>281</td>\n",
       "      <td>71.1392</td>\n",
       "      <td>LE3</td>\n",
       "      <td>114</td>\n",
       "      <td>28.8608</td>\n",
       "    </tr>\n",
       "    <tr>\n",
       "      <th>Pstatus</th>\n",
       "      <td>395</td>\n",
       "      <td>0</td>\n",
       "      <td>2</td>\n",
       "      <td>T</td>\n",
       "      <td>354</td>\n",
       "      <td>89.6203</td>\n",
       "      <td>A</td>\n",
       "      <td>41</td>\n",
       "      <td>10.3797</td>\n",
       "    </tr>\n",
       "    <tr>\n",
       "      <th>Mjob</th>\n",
       "      <td>395</td>\n",
       "      <td>0</td>\n",
       "      <td>5</td>\n",
       "      <td>other</td>\n",
       "      <td>141</td>\n",
       "      <td>35.6962</td>\n",
       "      <td>services</td>\n",
       "      <td>103</td>\n",
       "      <td>26.0759</td>\n",
       "    </tr>\n",
       "    <tr>\n",
       "      <th>Fjob</th>\n",
       "      <td>395</td>\n",
       "      <td>0</td>\n",
       "      <td>5</td>\n",
       "      <td>other</td>\n",
       "      <td>217</td>\n",
       "      <td>54.9367</td>\n",
       "      <td>services</td>\n",
       "      <td>111</td>\n",
       "      <td>28.1013</td>\n",
       "    </tr>\n",
       "    <tr>\n",
       "      <th>reason</th>\n",
       "      <td>395</td>\n",
       "      <td>0</td>\n",
       "      <td>4</td>\n",
       "      <td>course</td>\n",
       "      <td>145</td>\n",
       "      <td>36.7089</td>\n",
       "      <td>home</td>\n",
       "      <td>109</td>\n",
       "      <td>27.5949</td>\n",
       "    </tr>\n",
       "    <tr>\n",
       "      <th>guardian</th>\n",
       "      <td>395</td>\n",
       "      <td>0</td>\n",
       "      <td>3</td>\n",
       "      <td>mother</td>\n",
       "      <td>273</td>\n",
       "      <td>69.1139</td>\n",
       "      <td>father</td>\n",
       "      <td>90</td>\n",
       "      <td>22.7848</td>\n",
       "    </tr>\n",
       "    <tr>\n",
       "      <th>schoolsup</th>\n",
       "      <td>395</td>\n",
       "      <td>0</td>\n",
       "      <td>2</td>\n",
       "      <td>no</td>\n",
       "      <td>344</td>\n",
       "      <td>87.0886</td>\n",
       "      <td>yes</td>\n",
       "      <td>51</td>\n",
       "      <td>12.9114</td>\n",
       "    </tr>\n",
       "    <tr>\n",
       "      <th>famsup</th>\n",
       "      <td>395</td>\n",
       "      <td>0</td>\n",
       "      <td>2</td>\n",
       "      <td>yes</td>\n",
       "      <td>242</td>\n",
       "      <td>61.2658</td>\n",
       "      <td>no</td>\n",
       "      <td>153</td>\n",
       "      <td>38.7342</td>\n",
       "    </tr>\n",
       "    <tr>\n",
       "      <th>paid</th>\n",
       "      <td>395</td>\n",
       "      <td>0</td>\n",
       "      <td>2</td>\n",
       "      <td>no</td>\n",
       "      <td>214</td>\n",
       "      <td>54.1772</td>\n",
       "      <td>yes</td>\n",
       "      <td>181</td>\n",
       "      <td>45.8228</td>\n",
       "    </tr>\n",
       "    <tr>\n",
       "      <th>activities</th>\n",
       "      <td>395</td>\n",
       "      <td>0</td>\n",
       "      <td>2</td>\n",
       "      <td>yes</td>\n",
       "      <td>201</td>\n",
       "      <td>50.8861</td>\n",
       "      <td>no</td>\n",
       "      <td>194</td>\n",
       "      <td>49.1139</td>\n",
       "    </tr>\n",
       "    <tr>\n",
       "      <th>nursery</th>\n",
       "      <td>395</td>\n",
       "      <td>0</td>\n",
       "      <td>2</td>\n",
       "      <td>yes</td>\n",
       "      <td>314</td>\n",
       "      <td>79.4937</td>\n",
       "      <td>no</td>\n",
       "      <td>81</td>\n",
       "      <td>20.5063</td>\n",
       "    </tr>\n",
       "    <tr>\n",
       "      <th>higher</th>\n",
       "      <td>395</td>\n",
       "      <td>0</td>\n",
       "      <td>2</td>\n",
       "      <td>yes</td>\n",
       "      <td>375</td>\n",
       "      <td>94.9367</td>\n",
       "      <td>no</td>\n",
       "      <td>20</td>\n",
       "      <td>5.06329</td>\n",
       "    </tr>\n",
       "    <tr>\n",
       "      <th>internet</th>\n",
       "      <td>395</td>\n",
       "      <td>0</td>\n",
       "      <td>2</td>\n",
       "      <td>yes</td>\n",
       "      <td>329</td>\n",
       "      <td>83.2911</td>\n",
       "      <td>no</td>\n",
       "      <td>66</td>\n",
       "      <td>16.7089</td>\n",
       "    </tr>\n",
       "    <tr>\n",
       "      <th>romantic</th>\n",
       "      <td>395</td>\n",
       "      <td>0</td>\n",
       "      <td>2</td>\n",
       "      <td>no</td>\n",
       "      <td>263</td>\n",
       "      <td>66.5823</td>\n",
       "      <td>yes</td>\n",
       "      <td>132</td>\n",
       "      <td>33.4177</td>\n",
       "    </tr>\n",
       "  </tbody>\n",
       "</table>\n",
       "</div>"
      ],
      "text/plain": [
       "           count missing cardinality    mode mode_freq mode_percent  2nd_mode 2nd_mode_freq 2nd_mode_percent\n",
       "feature                                                                                                     \n",
       "school       395       0           2      GP       349      88.3544        MS            46          11.6456\n",
       "sex          395       0           2       F       208      52.6582         M           187          47.3418\n",
       "address      395       0           2       U       307      77.7215         R            88          22.2785\n",
       "famsize      395       0           2     GT3       281      71.1392       LE3           114          28.8608\n",
       "Pstatus      395       0           2       T       354      89.6203         A            41          10.3797\n",
       "Mjob         395       0           5   other       141      35.6962  services           103          26.0759\n",
       "Fjob         395       0           5   other       217      54.9367  services           111          28.1013\n",
       "reason       395       0           4  course       145      36.7089      home           109          27.5949\n",
       "guardian     395       0           3  mother       273      69.1139    father            90          22.7848\n",
       "schoolsup    395       0           2      no       344      87.0886       yes            51          12.9114\n",
       "famsup       395       0           2     yes       242      61.2658        no           153          38.7342\n",
       "paid         395       0           2      no       214      54.1772       yes           181          45.8228\n",
       "activities   395       0           2     yes       201      50.8861        no           194          49.1139\n",
       "nursery      395       0           2     yes       314      79.4937        no            81          20.5063\n",
       "higher       395       0           2     yes       375      94.9367        no            20          5.06329\n",
       "internet     395       0           2     yes       329      83.2911        no            66          16.7089\n",
       "romantic     395       0           2      no       263      66.5823       yes           132          33.4177"
      ]
     },
     "execution_count": 9,
     "metadata": {},
     "output_type": "execute_result"
    }
   ],
   "source": [
    "print \"\\nCATEGORICAL FEATURES DATA QUALITY REPORT:\"\n",
    "dqr.cat_table"
   ]
  },
  {
   "cell_type": "markdown",
   "metadata": {},
   "source": [
    "## 3. Preparing the Data\n",
    "In this section, we will prepare the data for modeling, training and testing.\n",
    "\n",
    "### Identify feature and target columns\n",
    "It is often the case that the data you obtain contains non-numeric features. This can be a problem, as most machine learning algorithms expect numeric data to perform computations with.\n",
    "\n",
    "Let's first separate our data into feature and target columns, and see if any features are non-numeric.<br/>\n",
    "**Note**: For this dataset, the last column (`'passed'`) is the target or label we are trying to predict."
   ]
  },
  {
   "cell_type": "code",
   "execution_count": 10,
   "metadata": {
    "collapsed": false
   },
   "outputs": [
    {
     "name": "stdout",
     "output_type": "stream",
     "text": [
      "Feature column(s):-\n",
      "['school', 'sex', 'age', 'address', 'famsize', 'Pstatus', 'Medu', 'Fedu', 'Mjob', 'Fjob', 'reason', 'guardian', 'traveltime', 'studytime', 'failures', 'schoolsup', 'famsup', 'paid', 'activities', 'nursery', 'higher', 'internet', 'romantic', 'famrel', 'freetime', 'goout', 'Dalc', 'Walc', 'health', 'absences']\n",
      "\n",
      "Target column: passed\n"
     ]
    }
   ],
   "source": [
    "# Extract feature (X) and target (y) columns\n",
    "\n",
    "feature_cols = list(student_data.columns[:-1])  # all columns but last are features\n",
    "target_col = student_data.columns[-1]  # last column is the target/label\n",
    "print \"Feature column(s):-\\n{}\".format(feature_cols)\n",
    "print\n",
    "print \"Target column: {}\".format(target_col)"
   ]
  },
  {
   "cell_type": "code",
   "execution_count": 11,
   "metadata": {
    "collapsed": false
   },
   "outputs": [
    {
     "name": "stdout",
     "output_type": "stream",
     "text": [
      "\n",
      "Feature values:-\n"
     ]
    },
    {
     "data": {
      "text/html": [
       "<div>\n",
       "<table border=\"1\" class=\"dataframe\">\n",
       "  <thead>\n",
       "    <tr style=\"text-align: right;\">\n",
       "      <th></th>\n",
       "      <th>school</th>\n",
       "      <th>sex</th>\n",
       "      <th>age</th>\n",
       "      <th>address</th>\n",
       "      <th>famsize</th>\n",
       "      <th>Pstatus</th>\n",
       "      <th>Medu</th>\n",
       "      <th>Fedu</th>\n",
       "      <th>Mjob</th>\n",
       "      <th>Fjob</th>\n",
       "      <th>...</th>\n",
       "      <th>higher</th>\n",
       "      <th>internet</th>\n",
       "      <th>romantic</th>\n",
       "      <th>famrel</th>\n",
       "      <th>freetime</th>\n",
       "      <th>goout</th>\n",
       "      <th>Dalc</th>\n",
       "      <th>Walc</th>\n",
       "      <th>health</th>\n",
       "      <th>absences</th>\n",
       "    </tr>\n",
       "  </thead>\n",
       "  <tbody>\n",
       "    <tr>\n",
       "      <th>0</th>\n",
       "      <td>GP</td>\n",
       "      <td>F</td>\n",
       "      <td>18</td>\n",
       "      <td>U</td>\n",
       "      <td>GT3</td>\n",
       "      <td>A</td>\n",
       "      <td>4</td>\n",
       "      <td>4</td>\n",
       "      <td>at_home</td>\n",
       "      <td>teacher</td>\n",
       "      <td>...</td>\n",
       "      <td>yes</td>\n",
       "      <td>no</td>\n",
       "      <td>no</td>\n",
       "      <td>4</td>\n",
       "      <td>3</td>\n",
       "      <td>4</td>\n",
       "      <td>1</td>\n",
       "      <td>1</td>\n",
       "      <td>3</td>\n",
       "      <td>6</td>\n",
       "    </tr>\n",
       "    <tr>\n",
       "      <th>1</th>\n",
       "      <td>GP</td>\n",
       "      <td>F</td>\n",
       "      <td>17</td>\n",
       "      <td>U</td>\n",
       "      <td>GT3</td>\n",
       "      <td>T</td>\n",
       "      <td>1</td>\n",
       "      <td>1</td>\n",
       "      <td>at_home</td>\n",
       "      <td>other</td>\n",
       "      <td>...</td>\n",
       "      <td>yes</td>\n",
       "      <td>yes</td>\n",
       "      <td>no</td>\n",
       "      <td>5</td>\n",
       "      <td>3</td>\n",
       "      <td>3</td>\n",
       "      <td>1</td>\n",
       "      <td>1</td>\n",
       "      <td>3</td>\n",
       "      <td>4</td>\n",
       "    </tr>\n",
       "    <tr>\n",
       "      <th>2</th>\n",
       "      <td>GP</td>\n",
       "      <td>F</td>\n",
       "      <td>15</td>\n",
       "      <td>U</td>\n",
       "      <td>LE3</td>\n",
       "      <td>T</td>\n",
       "      <td>1</td>\n",
       "      <td>1</td>\n",
       "      <td>at_home</td>\n",
       "      <td>other</td>\n",
       "      <td>...</td>\n",
       "      <td>yes</td>\n",
       "      <td>yes</td>\n",
       "      <td>no</td>\n",
       "      <td>4</td>\n",
       "      <td>3</td>\n",
       "      <td>2</td>\n",
       "      <td>2</td>\n",
       "      <td>3</td>\n",
       "      <td>3</td>\n",
       "      <td>10</td>\n",
       "    </tr>\n",
       "    <tr>\n",
       "      <th>3</th>\n",
       "      <td>GP</td>\n",
       "      <td>F</td>\n",
       "      <td>15</td>\n",
       "      <td>U</td>\n",
       "      <td>GT3</td>\n",
       "      <td>T</td>\n",
       "      <td>4</td>\n",
       "      <td>2</td>\n",
       "      <td>health</td>\n",
       "      <td>services</td>\n",
       "      <td>...</td>\n",
       "      <td>yes</td>\n",
       "      <td>yes</td>\n",
       "      <td>yes</td>\n",
       "      <td>3</td>\n",
       "      <td>2</td>\n",
       "      <td>2</td>\n",
       "      <td>1</td>\n",
       "      <td>1</td>\n",
       "      <td>5</td>\n",
       "      <td>2</td>\n",
       "    </tr>\n",
       "    <tr>\n",
       "      <th>4</th>\n",
       "      <td>GP</td>\n",
       "      <td>F</td>\n",
       "      <td>16</td>\n",
       "      <td>U</td>\n",
       "      <td>GT3</td>\n",
       "      <td>T</td>\n",
       "      <td>3</td>\n",
       "      <td>3</td>\n",
       "      <td>other</td>\n",
       "      <td>other</td>\n",
       "      <td>...</td>\n",
       "      <td>yes</td>\n",
       "      <td>no</td>\n",
       "      <td>no</td>\n",
       "      <td>4</td>\n",
       "      <td>3</td>\n",
       "      <td>2</td>\n",
       "      <td>1</td>\n",
       "      <td>2</td>\n",
       "      <td>5</td>\n",
       "      <td>4</td>\n",
       "    </tr>\n",
       "  </tbody>\n",
       "</table>\n",
       "<p>5 rows × 30 columns</p>\n",
       "</div>"
      ],
      "text/plain": [
       "  school sex  age address famsize Pstatus  Medu  Fedu     Mjob      Fjob   ...    higher internet  romantic  famrel  freetime goout Dalc Walc health absences\n",
       "0     GP   F   18       U     GT3       A     4     4  at_home   teacher   ...       yes       no        no       4         3     4    1    1      3        6\n",
       "1     GP   F   17       U     GT3       T     1     1  at_home     other   ...       yes      yes        no       5         3     3    1    1      3        4\n",
       "2     GP   F   15       U     LE3       T     1     1  at_home     other   ...       yes      yes        no       4         3     2    2    3      3       10\n",
       "3     GP   F   15       U     GT3       T     4     2   health  services   ...       yes      yes       yes       3         2     2    1    1      5        2\n",
       "4     GP   F   16       U     GT3       T     3     3    other     other   ...       yes       no        no       4         3     2    1    2      5        4\n",
       "\n",
       "[5 rows x 30 columns]"
      ]
     },
     "metadata": {},
     "output_type": "display_data"
    }
   ],
   "source": [
    "X_all = student_data[feature_cols]  # feature values for all students\n",
    "print \"\\nFeature values:-\"\n",
    "display(X_all.head())  # print the first 5 rows\n"
   ]
  },
  {
   "cell_type": "code",
   "execution_count": 12,
   "metadata": {
    "collapsed": false
   },
   "outputs": [
    {
     "name": "stdout",
     "output_type": "stream",
     "text": [
      "\n",
      "Target values:-\n"
     ]
    },
    {
     "data": {
      "text/plain": [
       "0     no\n",
       "1     no\n",
       "2    yes\n",
       "3    yes\n",
       "4    yes\n",
       "Name: passed, dtype: object"
      ]
     },
     "execution_count": 12,
     "metadata": {},
     "output_type": "execute_result"
    }
   ],
   "source": [
    "print \"\\nTarget values:-\"\n",
    "y_all = student_data[target_col]  # corresponding targets/labels\n",
    "y_all.head()"
   ]
  },
  {
   "cell_type": "markdown",
   "metadata": {},
   "source": [
    "### Preprocess feature columns\n",
    "\n",
    "As you can see, there are several non-numeric columns that need to be converted! Many of them are simply `yes`/`no`, e.g. `internet`. These can be reasonably converted into `1`/`0` (binary) values.\n",
    "\n",
    "Other columns, like `Mjob` and `Fjob`, have more than two values, and are known as _categorical variables_. The recommended way to handle such a column is to create as many columns as possible values (e.g. `Fjob_teacher`, `Fjob_other`, `Fjob_services`, etc.), and assign a `1` to one of them and `0` to all others.\n",
    "\n",
    "These generated columns are sometimes called _dummy variables_, and we will use the [`pandas.get_dummies()`](http://pandas.pydata.org/pandas-docs/stable/generated/pandas.get_dummies.html?highlight=get_dummies#pandas.get_dummies) function to perform this transformation."
   ]
  },
  {
   "cell_type": "code",
   "execution_count": 13,
   "metadata": {
    "collapsed": false
   },
   "outputs": [
    {
     "name": "stdout",
     "output_type": "stream",
     "text": [
      "Processed feature columns (48):-\n",
      "['school_GP', 'school_MS', 'sex_F', 'sex_M', 'age', 'address_R', 'address_U', 'famsize_GT3', 'famsize_LE3', 'Pstatus_A', 'Pstatus_T', 'Medu', 'Fedu', 'Mjob_at_home', 'Mjob_health', 'Mjob_other', 'Mjob_services', 'Mjob_teacher', 'Fjob_at_home', 'Fjob_health', 'Fjob_other', 'Fjob_services', 'Fjob_teacher', 'reason_course', 'reason_home', 'reason_other', 'reason_reputation', 'guardian_father', 'guardian_mother', 'guardian_other', 'traveltime', 'studytime', 'failures', 'schoolsup', 'famsup', 'paid', 'activities', 'nursery', 'higher', 'internet', 'romantic', 'famrel', 'freetime', 'goout', 'Dalc', 'Walc', 'health', 'absences']\n"
     ]
    }
   ],
   "source": [
    "# Preprocess feature columns\n",
    "def preprocess_features(X):\n",
    "    outX = pd.DataFrame(index=X.index)  # output dataframe, initially empty\n",
    "\n",
    "    # Check each column\n",
    "    for col, col_data in X.iteritems():\n",
    "        # If data type is non-numeric, try to replace all yes/no values with 1/0\n",
    "        if col_data.dtype == object:\n",
    "            col_data = col_data.replace(['yes', 'no'], [1, 0])\n",
    "        # Note: This should change the data type for yes/no columns to int\n",
    "\n",
    "        # If still non-numeric, convert to one or more dummy variables\n",
    "        if col_data.dtype == object:\n",
    "            col_data = pd.get_dummies(col_data, prefix=col)  # e.g. 'school' => 'school_GP', 'school_MS'\n",
    "\n",
    "        outX = outX.join(col_data)  # collect column(s) in output dataframe\n",
    "\n",
    "    return outX\n",
    "\n",
    "X_all = preprocess_features(X_all)\n",
    "print \"Processed feature columns ({}):-\\n{}\".format(len(X_all.columns), list(X_all.columns))"
   ]
  },
  {
   "cell_type": "markdown",
   "metadata": {},
   "source": [
    "### Split data into training and test sets\n",
    "\n",
    "So far, we have converted all _categorical_ features into numeric values. In this next step, we split the data (both features and corresponding labels) into training and test sets."
   ]
  },
  {
   "cell_type": "code",
   "execution_count": 14,
   "metadata": {
    "collapsed": false
   },
   "outputs": [
    {
     "name": "stdout",
     "output_type": "stream",
     "text": [
      "Training set: 300 samples\n",
      "Test set:      95 samples\n"
     ]
    }
   ],
   "source": [
    "# First, decide how many training vs test samples you want\n",
    "num_all = student_data.shape[0]  # same as len(student_data)\n",
    "num_train = 300  # about 75% of the data\n",
    "num_test = num_all - num_train\n",
    "\n",
    "# TODO: Then, select features (X) and corresponding labels (y) for the training and test sets\n",
    "# Note: Shuffle the data or randomly select samples to avoid any bias due to ordering in the dataset\n",
    "from sklearn import cross_validation as cv\n",
    "\n",
    "X_train, X_test, y_train, y_test = cv.train_test_split(X_all, y_all, test_size=num_test, \n",
    "                                                       random_state=433024223)\n",
    "\n",
    "print \"Training set: {} samples\".format(X_train.shape[0])\n",
    "print \"Test set:      {} samples\".format(X_test.shape[0])\n",
    "# Note: If you need a validation set, extract it from within training data"
   ]
  },
  {
   "cell_type": "markdown",
   "metadata": {},
   "source": [
    "Verify that proportions for the target feature levels, namely 'yes' and 'no', are kept after dataset splitting:"
   ]
  },
  {
   "cell_type": "code",
   "execution_count": 15,
   "metadata": {
    "collapsed": false
   },
   "outputs": [
    {
     "name": "stdout",
     "output_type": "stream",
     "text": [
      "Rate of passed in training set is 67.67%\n"
     ]
    }
   ],
   "source": [
    "print \"Rate of passed in training set is {:.2f}%\".format(100.0*y_train.value_counts()['yes']/num_train)"
   ]
  },
  {
   "cell_type": "code",
   "execution_count": 16,
   "metadata": {
    "collapsed": false
   },
   "outputs": [
    {
     "name": "stdout",
     "output_type": "stream",
     "text": [
      "Rate of passed in test set is 65.26%\n"
     ]
    }
   ],
   "source": [
    "print \"Rate of passed in test set is {:.2f}%\".format(100.0*y_test.value_counts()['yes']/num_test)"
   ]
  },
  {
   "cell_type": "markdown",
   "metadata": {},
   "source": [
    "## 4. Training and Evaluating Models\n",
    "Choose 3 supervised learning models that are available in scikit-learn, and appropriate for this problem. For each model:\n",
    "\n",
    "- What are the general applications of this model? What are its strengths and weaknesses?\n",
    "- Given what you know about the data so far, why did you choose this model to apply?\n",
    "\n",
    "<span style=\"color:#107896; font-size: 1.2em;\">\n",
    "I'll reply to these questions separately for each chosen model\n",
    "</span>\n",
    "- Fit this model to the training data, try to predict labels (for both training and test sets), and measure the F<sub>1</sub> score. Repeat this process with different training set sizes (100, 200, 300), keeping test set constant.\n",
    "\n",
    "Produce a table showing training time, prediction time, F<sub>1</sub> score on training set and F<sub>1</sub> score on test set, for each training set size.\n",
    "\n",
    "Note: You need to produce 3 such tables - one for each model."
   ]
  },
  {
   "cell_type": "markdown",
   "metadata": {},
   "source": [
    "#### Here, the definition of a class to collect performance measures for each experiment"
   ]
  },
  {
   "cell_type": "code",
   "execution_count": 17,
   "metadata": {
    "collapsed": true
   },
   "outputs": [],
   "source": [
    "class PerformanceTable(object):\n",
    "    '''\n",
    "    Collect measures of performance for a specific experiment\n",
    "    '''\n",
    "\n",
    "    MEASURES = [\"TRAIN_TIME\", \"PREDICT_TIME_TRAIN\", \"PREDICT_TIME_TEST\", \"F1SCORE_TRAIN\", \"F1SCORE_TEST\"]\n",
    "    \n",
    "    def __init__(self, training_set_sizes):\n",
    "        '''\n",
    "        Constructor\n",
    "        '''\n",
    "        self.table = pd.DataFrame(columns=PerformanceTable.MEASURES, index=training_set_sizes)\n",
    "        self.table.index.name = '# samples'"
   ]
  },
  {
   "cell_type": "markdown",
   "metadata": {},
   "source": [
    "Following, all the functions needed to train models and evaluate their performances are collected"
   ]
  },
  {
   "cell_type": "code",
   "execution_count": 18,
   "metadata": {
    "collapsed": false
   },
   "outputs": [],
   "source": [
    "# Train a model\n",
    "import time\n",
    "\n",
    "def train_classifier(clf, X_train, y_train):\n",
    "    start = time.time()\n",
    "    clf.fit(X_train, y_train)\n",
    "    end = time.time()\n",
    "    training_time = end - start\n",
    "    return training_time\n",
    "\n",
    "\n",
    "# Predict on training set and compute F1 score\n",
    "from sklearn.metrics import f1_score\n",
    "\n",
    "def predict_labels(clf, features, target):\n",
    "    start = time.time()\n",
    "    y_pred = clf.predict(features)\n",
    "    end = time.time()\n",
    "    predict_time = end - start\n",
    "    \n",
    "    return f1_score(target.astype(str), y_pred.astype(str), pos_label='yes'), predict_time\n",
    "\n",
    "\n",
    "# Train and predict using different training set sizes\n",
    "def train_predict(clf, X_train, y_train, X_test, y_test):\n",
    "    training_time = train_classifier(clf, X_train, y_train)\n",
    "    F1Score_train, predict_time_train = predict_labels(clf, X_train, y_train)\n",
    "    F1Score_test, predict_time_test = predict_labels(clf, X_test, y_test)\n",
    "    return training_time, F1Score_train, predict_time_train, F1Score_test, predict_time_test\n",
    "\n",
    "\n",
    "# Kind of learning curve function\n",
    "def train_predict_lc(clf, X_train, y_train, X_test, y_test, training_set_sizes):\n",
    "    perf = PerformanceTable(training_set_sizes)\n",
    "    for train_set_size in training_set_sizes:\n",
    "        training_time, F1Score_train, predict_time_train, F1Score_test, predict_time_test = train_predict(clf, \n",
    "                                                X_train[:train_set_size],y_train[:train_set_size], X_test, y_test)\n",
    "        perf.table['TRAIN_TIME'][train_set_size] = training_time*1000 # milliseconds\n",
    "        perf.table['PREDICT_TIME_TRAIN'][train_set_size] = predict_time_train*1000 # milliseconds\n",
    "        perf.table['PREDICT_TIME_TEST'][train_set_size] = predict_time_test*1000 # milliseconds\n",
    "        perf.table['F1SCORE_TRAIN'][train_set_size] = F1Score_train\n",
    "        perf.table['F1SCORE_TEST'][train_set_size] = F1Score_test\n",
    "    \n",
    "    return perf\n"
   ]
  },
  {
   "cell_type": "markdown",
   "metadata": {
    "collapsed": false
   },
   "source": [
    "### Models choice explanation\n",
    "Given the requirements for this task, chosen model should exibit the following features: demanding as little computational resources (CPU time and RAM) as possible, while still achieving a good or acceptable prediction score.\n",
    "Given these costraint on available resources, i'll not consider models that are computationally more intensive, like SVM and neural networks. For the same reason, i'll not consider ensemble methods, which require possibly training of many learners.\n",
    "After all these considerations, the models that i chose and that i expect to meet the above requirements, are:\n",
    "\n",
    "- Decision Tree Classifier\n",
    "- Naive Bayes\n",
    "- Logistic Regression"
   ]
  },
  {
   "cell_type": "markdown",
   "metadata": {},
   "source": [
    " ### 1. Decision Tree Classifier\n",
    "- #### What are the general applications of this model? What are its strengths and weaknesses?\n",
    " Decision trees are supervised learning models that can be used for both classification and regression tasks.\n",
    "\n",
    " ##### Strenghts\n",
    "    - Easy to interpret: after training, the rules that are formed by the tree can be visualized and undestood.\n",
    "    - it doesn't require particular data preprocessing, and it can deal seamlessly with both numerical and categorical data.\n",
    "    - It can learn from datasets where linear separability doesn't hold.\n",
    "    - Robust respect to outliers.\n",
    "    - Fast and scalable: runtime cost for prediciton is logarithmic on the number of samples of the used training set. Learning the globally optimal decision tree is proved to be NP-complete, nevertheless  runtime complexity of the practical algorithms used to train decision trees is polinomially bounded.\n",
    "    \n",
    " ##### Weaknesses\n",
    "    - Easily overfit, mostly when number of features is high, reapect to the size of the available training set. Particular attention must be payed to hyperparameters like max depth or minimum number of samples per leaf, to name a few, in order to prevent overfitting. At the rescue, ensemble methods are used to overcome overfitting quite effectively.\n",
    "    - It doens't support online learning. This feature could be desireable in an application like this, where the model could be refined when new data available. \n",
    "    - It could be sensitive to unbalanced datasets \n",
    "\n",
    "\n",
    "- #### Given what you know about the data so far, why did you choose this model to apply?\n",
    " \n",
    " Available dataset contains both numerical and categorical data; classes are not strongly unbalanced; number of features is not bigger that dataset size; even though some feature shows some outlier value, decision tree can handle it seamlessly. For these reasons, decision tree looks like a very good fit. "
   ]
  },
  {
   "cell_type": "markdown",
   "metadata": {},
   "source": [
    "Following, the experiment with Decision Tree Classifier is conducted, collecting and displaying the requested perfomance measurements"
   ]
  },
  {
   "cell_type": "code",
   "execution_count": 19,
   "metadata": {
    "collapsed": false
   },
   "outputs": [
    {
     "name": "stdout",
     "output_type": "stream",
     "text": [
      "Perfomance table for DecisionTreeClassifier: \n",
      "(*** note ***: times are expressed in milliseconds)\n"
     ]
    },
    {
     "data": {
      "text/html": [
       "<div>\n",
       "<table border=\"1\" class=\"dataframe\">\n",
       "  <thead>\n",
       "    <tr style=\"text-align: right;\">\n",
       "      <th></th>\n",
       "      <th>TRAIN_TIME</th>\n",
       "      <th>PREDICT_TIME_TRAIN</th>\n",
       "      <th>PREDICT_TIME_TEST</th>\n",
       "      <th>F1SCORE_TRAIN</th>\n",
       "      <th>F1SCORE_TEST</th>\n",
       "    </tr>\n",
       "    <tr>\n",
       "      <th># samples</th>\n",
       "      <th></th>\n",
       "      <th></th>\n",
       "      <th></th>\n",
       "      <th></th>\n",
       "      <th></th>\n",
       "    </tr>\n",
       "  </thead>\n",
       "  <tbody>\n",
       "    <tr>\n",
       "      <th>20</th>\n",
       "      <td>0.844002</td>\n",
       "      <td>0.173092</td>\n",
       "      <td>0.190973</td>\n",
       "      <td>0.727273</td>\n",
       "      <td>0.373626</td>\n",
       "    </tr>\n",
       "    <tr>\n",
       "      <th>40</th>\n",
       "      <td>0.52309</td>\n",
       "      <td>0.159025</td>\n",
       "      <td>0.161886</td>\n",
       "      <td>0.529412</td>\n",
       "      <td>0.359551</td>\n",
       "    </tr>\n",
       "    <tr>\n",
       "      <th>60</th>\n",
       "      <td>0.661135</td>\n",
       "      <td>0.201941</td>\n",
       "      <td>0.173807</td>\n",
       "      <td>0.760563</td>\n",
       "      <td>0.530973</td>\n",
       "    </tr>\n",
       "    <tr>\n",
       "      <th>80</th>\n",
       "      <td>0.648022</td>\n",
       "      <td>0.169992</td>\n",
       "      <td>0.164032</td>\n",
       "      <td>0.803922</td>\n",
       "      <td>0.637168</td>\n",
       "    </tr>\n",
       "    <tr>\n",
       "      <th>100</th>\n",
       "      <td>0.702143</td>\n",
       "      <td>0.294924</td>\n",
       "      <td>0.164032</td>\n",
       "      <td>0.765217</td>\n",
       "      <td>0.696429</td>\n",
       "    </tr>\n",
       "    <tr>\n",
       "      <th>120</th>\n",
       "      <td>0.778913</td>\n",
       "      <td>0.174046</td>\n",
       "      <td>0.172138</td>\n",
       "      <td>0.732824</td>\n",
       "      <td>0.62963</td>\n",
       "    </tr>\n",
       "    <tr>\n",
       "      <th>140</th>\n",
       "      <td>0.905991</td>\n",
       "      <td>0.246048</td>\n",
       "      <td>0.217915</td>\n",
       "      <td>0.815642</td>\n",
       "      <td>0.741379</td>\n",
       "    </tr>\n",
       "    <tr>\n",
       "      <th>160</th>\n",
       "      <td>0.990152</td>\n",
       "      <td>0.389099</td>\n",
       "      <td>0.169992</td>\n",
       "      <td>0.79803</td>\n",
       "      <td>0.741379</td>\n",
       "    </tr>\n",
       "    <tr>\n",
       "      <th>180</th>\n",
       "      <td>1.06788</td>\n",
       "      <td>0.257015</td>\n",
       "      <td>0.239134</td>\n",
       "      <td>0.719212</td>\n",
       "      <td>0.697248</td>\n",
       "    </tr>\n",
       "    <tr>\n",
       "      <th>200</th>\n",
       "      <td>1.11914</td>\n",
       "      <td>0.221014</td>\n",
       "      <td>0.170946</td>\n",
       "      <td>0.810606</td>\n",
       "      <td>0.760331</td>\n",
       "    </tr>\n",
       "    <tr>\n",
       "      <th>220</th>\n",
       "      <td>1.0829</td>\n",
       "      <td>0.211954</td>\n",
       "      <td>0.176907</td>\n",
       "      <td>0.809689</td>\n",
       "      <td>0.731707</td>\n",
       "    </tr>\n",
       "    <tr>\n",
       "      <th>240</th>\n",
       "      <td>1.23596</td>\n",
       "      <td>0.22316</td>\n",
       "      <td>0.187159</td>\n",
       "      <td>0.829851</td>\n",
       "      <td>0.808824</td>\n",
       "    </tr>\n",
       "    <tr>\n",
       "      <th>260</th>\n",
       "      <td>1.25599</td>\n",
       "      <td>0.279903</td>\n",
       "      <td>0.192165</td>\n",
       "      <td>0.82153</td>\n",
       "      <td>0.763359</td>\n",
       "    </tr>\n",
       "    <tr>\n",
       "      <th>280</th>\n",
       "      <td>1.38497</td>\n",
       "      <td>0.234127</td>\n",
       "      <td>0.181913</td>\n",
       "      <td>0.822917</td>\n",
       "      <td>0.748092</td>\n",
       "    </tr>\n",
       "    <tr>\n",
       "      <th>300</th>\n",
       "      <td>1.32513</td>\n",
       "      <td>0.275135</td>\n",
       "      <td>0.174999</td>\n",
       "      <td>0.806202</td>\n",
       "      <td>0.766667</td>\n",
       "    </tr>\n",
       "  </tbody>\n",
       "</table>\n",
       "</div>"
      ],
      "text/plain": [
       "          TRAIN_TIME PREDICT_TIME_TRAIN PREDICT_TIME_TEST F1SCORE_TRAIN F1SCORE_TEST\n",
       "# samples                                                                           \n",
       "20          0.844002           0.173092          0.190973      0.727273     0.373626\n",
       "40           0.52309           0.159025          0.161886      0.529412     0.359551\n",
       "60          0.661135           0.201941          0.173807      0.760563     0.530973\n",
       "80          0.648022           0.169992          0.164032      0.803922     0.637168\n",
       "100         0.702143           0.294924          0.164032      0.765217     0.696429\n",
       "120         0.778913           0.174046          0.172138      0.732824      0.62963\n",
       "140         0.905991           0.246048          0.217915      0.815642     0.741379\n",
       "160         0.990152           0.389099          0.169992       0.79803     0.741379\n",
       "180          1.06788           0.257015          0.239134      0.719212     0.697248\n",
       "200          1.11914           0.221014          0.170946      0.810606     0.760331\n",
       "220           1.0829           0.211954          0.176907      0.809689     0.731707\n",
       "240          1.23596            0.22316          0.187159      0.829851     0.808824\n",
       "260          1.25599           0.279903          0.192165       0.82153     0.763359\n",
       "280          1.38497           0.234127          0.181913      0.822917     0.748092\n",
       "300          1.32513           0.275135          0.174999      0.806202     0.766667"
      ]
     },
     "execution_count": 19,
     "metadata": {},
     "output_type": "execute_result"
    }
   ],
   "source": [
    "\n",
    "from sklearn.tree import DecisionTreeClassifier \n",
    "clf = DecisionTreeClassifier(min_samples_leaf=9,min_weight_fraction_leaf=0.02, max_depth=4, class_weight='balanced')\n",
    "\n",
    "step = 20\n",
    "training_set_sizes = range(step,num_train+1,step)\n",
    "perf_1 = train_predict_lc(clf, X_train, y_train, X_test, y_test, training_set_sizes)\n",
    "    \n",
    "print \"Perfomance table for DecisionTreeClassifier: \"\n",
    "print \"(*** note ***: times are expressed in milliseconds)\" \n",
    "perf_1.table\n",
    "# Note: Keep the test set constant"
   ]
  },
  {
   "cell_type": "markdown",
   "metadata": {},
   "source": [
    "Let's show these results ina graph:"
   ]
  },
  {
   "cell_type": "code",
   "execution_count": 20,
   "metadata": {
    "collapsed": false
   },
   "outputs": [
    {
     "data": {
      "image/png": "[encoded data removed]",
      "text/plain": [
       "<matplotlib.figure.Figure at 0x11439ced0>"
      ]
     },
     "metadata": {},
     "output_type": "display_data"
    }
   ],
   "source": [
    "def plot_learning_curve(performance_table, classifier_name):\n",
    "    ax = performance_table.table[['F1SCORE_TRAIN','F1SCORE_TEST']].plot(\n",
    "        title=\"{} learning curve\".format(classifier_name), \n",
    "        grid=True,figsize=(9,5.06))\n",
    "                                                                        \n",
    "plot_learning_curve(perf_1, clf.__class__.__name__)"
   ]
  },
  {
   "cell_type": "code",
   "execution_count": 21,
   "metadata": {
    "collapsed": false
   },
   "outputs": [
    {
     "data": {
      "image/png": "[encoded data removed]",
      "text/plain": [
       "<matplotlib.figure.Figure at 0x11276d8d0>"
      ]
     },
     "metadata": {},
     "output_type": "display_data"
    }
   ],
   "source": [
    "def plot_timings(performance_table, classifier_name):\n",
    "    ax = performance_table.table[[\"TRAIN_TIME\", \"PREDICT_TIME_TRAIN\", \"PREDICT_TIME_TEST\"]].plot(title=classifier_name,\n",
    "                                                                                grid=True,figsize=(9,5.06))\n",
    "\n",
    "plot_timings(perf_1, clf.__class__.__name__)"
   ]
  },
  {
   "cell_type": "markdown",
   "metadata": {},
   "source": [
    "### 2. Naive Bayes\n",
    "- #### What are the general applications of this model? What are its strengths and weaknesses?\n",
    " Naive Bayes model is a supervised learning classification algorithm that fits particularly well when we have many features respect to the dataset size. They are often used in applications like text classification and spam filtering, where the features can be a whole vocabulary set of words.   \n",
    "\n",
    " ##### Strenghts\n",
    " - Very simple to implement\n",
    " - Very fast, both for learning and querying, compared to other ML algorithms.\n",
    " - It works fine even if the conditional independence assumption doens't quite hold\n",
    " - Learning can converge quicker than in other models, so one may need less data for training\n",
    "\n",
    " ##### Weaknesses\n",
    " -  It can't learn interactions between features, just because of the \"naive\" assumption, then it should not be used when important interactions between features are expected for the learning problem at hand.\n",
    "\n",
    "- #### Given what you know about the data so far, why did you choose this model to apply?\n",
    " Being the dataset small and features number not that small, if compared to dataset size, Naive Bayes is definitely worth investigating as a solution."
   ]
  },
  {
   "cell_type": "code",
   "execution_count": 22,
   "metadata": {
    "collapsed": false
   },
   "outputs": [
    {
     "name": "stdout",
     "output_type": "stream",
     "text": [
      "Perfomance table for GaussianNB: \n",
      "(*** note ***: times are expressed in milliseconds)\n"
     ]
    },
    {
     "data": {
      "text/html": [
       "<div>\n",
       "<table border=\"1\" class=\"dataframe\">\n",
       "  <thead>\n",
       "    <tr style=\"text-align: right;\">\n",
       "      <th></th>\n",
       "      <th>TRAIN_TIME</th>\n",
       "      <th>PREDICT_TIME_TRAIN</th>\n",
       "      <th>PREDICT_TIME_TEST</th>\n",
       "      <th>F1SCORE_TRAIN</th>\n",
       "      <th>F1SCORE_TEST</th>\n",
       "    </tr>\n",
       "    <tr>\n",
       "      <th># samples</th>\n",
       "      <th></th>\n",
       "      <th></th>\n",
       "      <th></th>\n",
       "      <th></th>\n",
       "      <th></th>\n",
       "    </tr>\n",
       "  </thead>\n",
       "  <tbody>\n",
       "    <tr>\n",
       "      <th>20</th>\n",
       "      <td>0.616074</td>\n",
       "      <td>0.231028</td>\n",
       "      <td>0.288963</td>\n",
       "      <td>0.869565</td>\n",
       "      <td>0.672131</td>\n",
       "    </tr>\n",
       "    <tr>\n",
       "      <th>40</th>\n",
       "      <td>0.544071</td>\n",
       "      <td>0.225067</td>\n",
       "      <td>0.263929</td>\n",
       "      <td>0.631579</td>\n",
       "      <td>0.489796</td>\n",
       "    </tr>\n",
       "    <tr>\n",
       "      <th>60</th>\n",
       "      <td>0.632048</td>\n",
       "      <td>0.28801</td>\n",
       "      <td>0.283957</td>\n",
       "      <td>0.716418</td>\n",
       "      <td>0.54902</td>\n",
       "    </tr>\n",
       "    <tr>\n",
       "      <th>80</th>\n",
       "      <td>0.605106</td>\n",
       "      <td>0.251055</td>\n",
       "      <td>0.264168</td>\n",
       "      <td>0.681818</td>\n",
       "      <td>0.525253</td>\n",
       "    </tr>\n",
       "    <tr>\n",
       "      <th>100</th>\n",
       "      <td>0.634909</td>\n",
       "      <td>0.420809</td>\n",
       "      <td>0.335932</td>\n",
       "      <td>0.865248</td>\n",
       "      <td>0.761194</td>\n",
       "    </tr>\n",
       "    <tr>\n",
       "      <th>120</th>\n",
       "      <td>0.566006</td>\n",
       "      <td>0.272989</td>\n",
       "      <td>0.277042</td>\n",
       "      <td>0.846626</td>\n",
       "      <td>0.730159</td>\n",
       "    </tr>\n",
       "    <tr>\n",
       "      <th>140</th>\n",
       "      <td>2.17104</td>\n",
       "      <td>0.406027</td>\n",
       "      <td>0.497103</td>\n",
       "      <td>0.836735</td>\n",
       "      <td>0.723077</td>\n",
       "    </tr>\n",
       "    <tr>\n",
       "      <th>160</th>\n",
       "      <td>1.07908</td>\n",
       "      <td>0.612974</td>\n",
       "      <td>0.956059</td>\n",
       "      <td>0.831858</td>\n",
       "      <td>0.728682</td>\n",
       "    </tr>\n",
       "    <tr>\n",
       "      <th>180</th>\n",
       "      <td>0.923157</td>\n",
       "      <td>0.533104</td>\n",
       "      <td>0.39196</td>\n",
       "      <td>0.834646</td>\n",
       "      <td>0.708661</td>\n",
       "    </tr>\n",
       "    <tr>\n",
       "      <th>200</th>\n",
       "      <td>1.16897</td>\n",
       "      <td>0.469923</td>\n",
       "      <td>0.385046</td>\n",
       "      <td>0.824373</td>\n",
       "      <td>0.71875</td>\n",
       "    </tr>\n",
       "    <tr>\n",
       "      <th>220</th>\n",
       "      <td>1.50299</td>\n",
       "      <td>0.494957</td>\n",
       "      <td>0.28801</td>\n",
       "      <td>0.810631</td>\n",
       "      <td>0.709677</td>\n",
       "    </tr>\n",
       "    <tr>\n",
       "      <th>240</th>\n",
       "      <td>0.812054</td>\n",
       "      <td>0.422955</td>\n",
       "      <td>0.286102</td>\n",
       "      <td>0.815476</td>\n",
       "      <td>0.757576</td>\n",
       "    </tr>\n",
       "    <tr>\n",
       "      <th>260</th>\n",
       "      <td>0.803947</td>\n",
       "      <td>0.429153</td>\n",
       "      <td>0.296116</td>\n",
       "      <td>0.812155</td>\n",
       "      <td>0.766917</td>\n",
       "    </tr>\n",
       "    <tr>\n",
       "      <th>280</th>\n",
       "      <td>0.853062</td>\n",
       "      <td>0.399113</td>\n",
       "      <td>0.282049</td>\n",
       "      <td>0.81407</td>\n",
       "      <td>0.75188</td>\n",
       "    </tr>\n",
       "    <tr>\n",
       "      <th>300</th>\n",
       "      <td>1.42288</td>\n",
       "      <td>0.421047</td>\n",
       "      <td>0.283957</td>\n",
       "      <td>0.816901</td>\n",
       "      <td>0.746269</td>\n",
       "    </tr>\n",
       "  </tbody>\n",
       "</table>\n",
       "</div>"
      ],
      "text/plain": [
       "          TRAIN_TIME PREDICT_TIME_TRAIN PREDICT_TIME_TEST F1SCORE_TRAIN F1SCORE_TEST\n",
       "# samples                                                                           \n",
       "20          0.616074           0.231028          0.288963      0.869565     0.672131\n",
       "40          0.544071           0.225067          0.263929      0.631579     0.489796\n",
       "60          0.632048            0.28801          0.283957      0.716418      0.54902\n",
       "80          0.605106           0.251055          0.264168      0.681818     0.525253\n",
       "100         0.634909           0.420809          0.335932      0.865248     0.761194\n",
       "120         0.566006           0.272989          0.277042      0.846626     0.730159\n",
       "140          2.17104           0.406027          0.497103      0.836735     0.723077\n",
       "160          1.07908           0.612974          0.956059      0.831858     0.728682\n",
       "180         0.923157           0.533104           0.39196      0.834646     0.708661\n",
       "200          1.16897           0.469923          0.385046      0.824373      0.71875\n",
       "220          1.50299           0.494957           0.28801      0.810631     0.709677\n",
       "240         0.812054           0.422955          0.286102      0.815476     0.757576\n",
       "260         0.803947           0.429153          0.296116      0.812155     0.766917\n",
       "280         0.853062           0.399113          0.282049       0.81407      0.75188\n",
       "300          1.42288           0.421047          0.283957      0.816901     0.746269"
      ]
     },
     "execution_count": 22,
     "metadata": {},
     "output_type": "execute_result"
    }
   ],
   "source": [
    "# Second model\n",
    "from sklearn.naive_bayes import GaussianNB \n",
    "clf = GaussianNB()\n",
    "\n",
    "perf_2 = train_predict_lc(clf, X_train, y_train, X_test, y_test, training_set_sizes)\n",
    "print \"Perfomance table for GaussianNB: \"\n",
    "print \"(*** note ***: times are expressed in milliseconds)\" \n",
    "perf_2.table"
   ]
  },
  {
   "cell_type": "markdown",
   "metadata": {},
   "source": [
    "Let's diplay above data in graphs for Score and for timings, as we did for DecisionTreeClassifier:"
   ]
  },
  {
   "cell_type": "code",
   "execution_count": 23,
   "metadata": {
    "collapsed": false
   },
   "outputs": [
    {
     "data": {
      "image/png": "[encoded data removed]",
      "text/plain": [
       "<matplotlib.figure.Figure at 0x11439cd10>"
      ]
     },
     "metadata": {},
     "output_type": "display_data"
    },
    {
     "data": {
      "image/png": "[encoded data removed]",
      "text/plain": [
       "<matplotlib.figure.Figure at 0x116ef1790>"
      ]
     },
     "metadata": {},
     "output_type": "display_data"
    }
   ],
   "source": [
    "plot_learning_curve(perf_2, clf.__class__.__name__)\n",
    "plot_timings(perf_2, clf.__class__.__name__)"
   ]
  },
  {
   "cell_type": "markdown",
   "metadata": {},
   "source": [
    "### 3. Logistic Regression\n",
    "- #### What are the general applications of this model? What are its strengths and weaknesses?\n",
    " Logistic regression is a supervised learning classissification algorithm that is used in many fields, like medical and social sciences\n",
    "\n",
    " ##### Strenghts\n",
    " - It can control overfitting via different methods for regularization\n",
    " - it porvides a probabilistic interpretation, which we don't have with Decision Trees, for example \n",
    " - It can perform online learning. When new training data is available, one can update the model training just with that new data.\n",
    "\n",
    " ##### Weaknesses\n",
    " - Training time is not that fast, as in Decision Trees or Naive Bayes. \n",
    " - If linear separability doesn't hold for the dataset at hand, a reasonable perfomance might not be achieved.\n",
    "\n",
    "- #### Given what you know about the data so far, why did you choose this model to apply?\n",
    " Logistic regression is often succesfully used for binomial classification tasks, it's worth trying its perfomrance for this task too. Its ability to learn online could be a good appeal, this gives the possibility of refining the model once new data is available. "
   ]
  },
  {
   "cell_type": "code",
   "execution_count": 24,
   "metadata": {
    "collapsed": false
   },
   "outputs": [
    {
     "name": "stdout",
     "output_type": "stream",
     "text": [
      "Perfomance table for LogisticRegression: \n",
      "(*** note ***: times are expressed in milliseconds)\n"
     ]
    },
    {
     "data": {
      "text/html": [
       "<div>\n",
       "<table border=\"1\" class=\"dataframe\">\n",
       "  <thead>\n",
       "    <tr style=\"text-align: right;\">\n",
       "      <th></th>\n",
       "      <th>TRAIN_TIME</th>\n",
       "      <th>PREDICT_TIME_TRAIN</th>\n",
       "      <th>PREDICT_TIME_TEST</th>\n",
       "      <th>F1SCORE_TRAIN</th>\n",
       "      <th>F1SCORE_TEST</th>\n",
       "    </tr>\n",
       "    <tr>\n",
       "      <th># samples</th>\n",
       "      <th></th>\n",
       "      <th></th>\n",
       "      <th></th>\n",
       "      <th></th>\n",
       "      <th></th>\n",
       "    </tr>\n",
       "  </thead>\n",
       "  <tbody>\n",
       "    <tr>\n",
       "      <th>20</th>\n",
       "      <td>1.08409</td>\n",
       "      <td>0.194073</td>\n",
       "      <td>0.175953</td>\n",
       "      <td>1</td>\n",
       "      <td>0.761194</td>\n",
       "    </tr>\n",
       "    <tr>\n",
       "      <th>40</th>\n",
       "      <td>0.608921</td>\n",
       "      <td>0.152111</td>\n",
       "      <td>0.189066</td>\n",
       "      <td>0.941176</td>\n",
       "      <td>0.783217</td>\n",
       "    </tr>\n",
       "    <tr>\n",
       "      <th>60</th>\n",
       "      <td>0.761032</td>\n",
       "      <td>0.168085</td>\n",
       "      <td>0.164986</td>\n",
       "      <td>0.953488</td>\n",
       "      <td>0.780142</td>\n",
       "    </tr>\n",
       "    <tr>\n",
       "      <th>80</th>\n",
       "      <td>1.2579</td>\n",
       "      <td>0.190973</td>\n",
       "      <td>0.256062</td>\n",
       "      <td>0.95</td>\n",
       "      <td>0.805556</td>\n",
       "    </tr>\n",
       "    <tr>\n",
       "      <th>100</th>\n",
       "      <td>1.04713</td>\n",
       "      <td>0.213146</td>\n",
       "      <td>0.165939</td>\n",
       "      <td>0.90411</td>\n",
       "      <td>0.808824</td>\n",
       "    </tr>\n",
       "    <tr>\n",
       "      <th>120</th>\n",
       "      <td>1.43504</td>\n",
       "      <td>0.196934</td>\n",
       "      <td>0.184059</td>\n",
       "      <td>0.858824</td>\n",
       "      <td>0.791045</td>\n",
       "    </tr>\n",
       "    <tr>\n",
       "      <th>140</th>\n",
       "      <td>1.53995</td>\n",
       "      <td>6.34289</td>\n",
       "      <td>0.163078</td>\n",
       "      <td>0.870813</td>\n",
       "      <td>0.820144</td>\n",
       "    </tr>\n",
       "    <tr>\n",
       "      <th>160</th>\n",
       "      <td>1.53112</td>\n",
       "      <td>1.70588</td>\n",
       "      <td>0.350952</td>\n",
       "      <td>0.878661</td>\n",
       "      <td>0.811189</td>\n",
       "    </tr>\n",
       "    <tr>\n",
       "      <th>180</th>\n",
       "      <td>1.59407</td>\n",
       "      <td>16.923</td>\n",
       "      <td>0.168085</td>\n",
       "      <td>0.862454</td>\n",
       "      <td>0.8</td>\n",
       "    </tr>\n",
       "    <tr>\n",
       "      <th>200</th>\n",
       "      <td>1.53995</td>\n",
       "      <td>0.164986</td>\n",
       "      <td>0.157118</td>\n",
       "      <td>0.860068</td>\n",
       "      <td>0.8</td>\n",
       "    </tr>\n",
       "    <tr>\n",
       "      <th>220</th>\n",
       "      <td>1.78909</td>\n",
       "      <td>0.165939</td>\n",
       "      <td>0.140905</td>\n",
       "      <td>0.861538</td>\n",
       "      <td>0.8</td>\n",
       "    </tr>\n",
       "    <tr>\n",
       "      <th>240</th>\n",
       "      <td>2.14696</td>\n",
       "      <td>0.176907</td>\n",
       "      <td>0.142097</td>\n",
       "      <td>0.845938</td>\n",
       "      <td>0.808824</td>\n",
       "    </tr>\n",
       "    <tr>\n",
       "      <th>260</th>\n",
       "      <td>2.20394</td>\n",
       "      <td>0.222921</td>\n",
       "      <td>0.175953</td>\n",
       "      <td>0.849741</td>\n",
       "      <td>0.788321</td>\n",
       "    </tr>\n",
       "    <tr>\n",
       "      <th>280</th>\n",
       "      <td>2.74181</td>\n",
       "      <td>3.64804</td>\n",
       "      <td>0.254154</td>\n",
       "      <td>0.8523</td>\n",
       "      <td>0.788321</td>\n",
       "    </tr>\n",
       "    <tr>\n",
       "      <th>300</th>\n",
       "      <td>2.37489</td>\n",
       "      <td>0.173807</td>\n",
       "      <td>0.141859</td>\n",
       "      <td>0.848073</td>\n",
       "      <td>0.779412</td>\n",
       "    </tr>\n",
       "  </tbody>\n",
       "</table>\n",
       "</div>"
      ],
      "text/plain": [
       "          TRAIN_TIME PREDICT_TIME_TRAIN PREDICT_TIME_TEST F1SCORE_TRAIN F1SCORE_TEST\n",
       "# samples                                                                           \n",
       "20           1.08409           0.194073          0.175953             1     0.761194\n",
       "40          0.608921           0.152111          0.189066      0.941176     0.783217\n",
       "60          0.761032           0.168085          0.164986      0.953488     0.780142\n",
       "80            1.2579           0.190973          0.256062          0.95     0.805556\n",
       "100          1.04713           0.213146          0.165939       0.90411     0.808824\n",
       "120          1.43504           0.196934          0.184059      0.858824     0.791045\n",
       "140          1.53995            6.34289          0.163078      0.870813     0.820144\n",
       "160          1.53112            1.70588          0.350952      0.878661     0.811189\n",
       "180          1.59407             16.923          0.168085      0.862454          0.8\n",
       "200          1.53995           0.164986          0.157118      0.860068          0.8\n",
       "220          1.78909           0.165939          0.140905      0.861538          0.8\n",
       "240          2.14696           0.176907          0.142097      0.845938     0.808824\n",
       "260          2.20394           0.222921          0.175953      0.849741     0.788321\n",
       "280          2.74181            3.64804          0.254154        0.8523     0.788321\n",
       "300          2.37489           0.173807          0.141859      0.848073     0.779412"
      ]
     },
     "execution_count": 24,
     "metadata": {},
     "output_type": "execute_result"
    }
   ],
   "source": [
    "# Third model\n",
    "from sklearn.linear_model import LogisticRegression \n",
    "clf = LogisticRegression(penalty='l2', max_iter=300)#, class_weight=\"balanced\")\n",
    "\n",
    "perf_3 = train_predict_lc(clf, X_train, y_train, X_test, y_test, training_set_sizes)\n",
    "print \"Perfomance table for {}: \".format(clf.__class__.__name__)\n",
    "print \"(*** note ***: times are expressed in milliseconds)\" \n",
    "perf_3.table"
   ]
  },
  {
   "cell_type": "markdown",
   "metadata": {},
   "source": [
    "Let's diplay above data in graphs for Score and for timings, as we did before:"
   ]
  },
  {
   "cell_type": "code",
   "execution_count": 25,
   "metadata": {
    "collapsed": false
   },
   "outputs": [
    {
     "data": {
      "image/png": "[encoded data removed]",
      "text/plain": [
       "<matplotlib.figure.Figure at 0x1170ba290>"
      ]
     },
     "metadata": {},
     "output_type": "display_data"
    },
    {
     "data": {
      "image/png": "[encoded data removed]",
      "text/plain": [
       "<matplotlib.figure.Figure at 0x11799bdd0>"
      ]
     },
     "metadata": {},
     "output_type": "display_data"
    }
   ],
   "source": [
    "plot_learning_curve(perf_3, clf.__class__.__name__)\n",
    "plot_timings(perf_3, clf.__class__.__name__)"
   ]
  },
  {
   "cell_type": "markdown",
   "metadata": {},
   "source": [
    "## 5. Choosing the Best Model\n",
    "\n",
    "- #### Based on the experiments you performed earlier, in 1-2 paragraphs explain to the board of supervisors what single model you chose as the best model. Which model is generally the most appropriate based on the available data, limited resources, cost, and performance?\n",
    "\n",
    " The choice of the model has to be a trade off between scoring performance and runtime performance. \n",
    "Looking at the perfomance tables and learning curves produced so far, Logistic Regression seems to be the best choice.\n",
    "In the learning curve graph, training and test curve seems to converge in a smoother way to their optimal score, respect to Decision Tree and Naive Bayes, where instead we can see a few bumps, which means that their learning is more sensitive to the specific sub-training set got used. In the average, the F1 Score curve for the test set looks better for the Logistic Regression model. Always looking at the learning curve graph, we can argue that training set size that gives the best result is something between 150-250. Sizes greater than 250 seem to worsen the score. \n",
    "Considering the runtime costs, we can see that, for the training phase, Logistic Regression model is the most expensive, somehow doubling the runtimes of Decision Tree and Naive Bayes models. On prediction phase, instead, runtimes costs are quite similar for all of the three models.\n",
    "Despite it's more expensive on training phase,  Logistic Regression remains the best choice, considering that training is done just once, before using the model in production. Also it's worth considering its ability to learn 'online', that is to refine the model with new training data, without the need to re-train with the already used training data.\n",
    "This could be appealing for the task at hand, considering the goal of reaching 95% rate of passed by the next few years, as stated in the requirements. \n",
    "\n",
    "- #### In 1-2 paragraphs explain to the board of supervisors in layman's terms how the final model chosen is supposed to work (for example if you chose a Decision Tree or Support Vector Machine, how does it make a prediction).\n",
    " Logistic regression is a machine learning method aimed for classification tasks. Applied to our case, a logistic regression model try to predict if a given student will pass or not, on the basis of the information available related to the student. These information can be of various kind, namely numerical, like the age, or even categorical, like parents job. Interestingly enough, compared to other methods such as Decision Tree, Logistic Regression provides a probabilistic interpretation, since what  is actually returned by its prediction is the probability for the queried student to pass or not. We can use then this probability to make the proper intervention choice. \n",
    "Worth mentioning, the model can be refined as soon as new data is available, maybe at the end of the school year, in order to achieve better accuracy, at reasonable cost.\n",
    "\n",
    "\n",
    "- Fine-tune the model. Use Gridsearch with at least one important parameter tuned and with at least 3 settings. Use the entire training set for this.\n",
    "- What is the model's final F<sub>1</sub> score?"
   ]
  },
  {
   "cell_type": "markdown",
   "metadata": {},
   "source": [
    "#### Let's fine-tune the model, using the whole training set"
   ]
  },
  {
   "cell_type": "code",
   "execution_count": 30,
   "metadata": {
    "collapsed": false
   },
   "outputs": [
    {
     "name": "stdout",
     "output_type": "stream",
     "text": [
      "Best estimator is: \n",
      "LogisticRegression(C=0.07, class_weight=None, dual=False, fit_intercept=True,\n",
      "          intercept_scaling=1, max_iter=10, multi_class='ovr', n_jobs=1,\n",
      "          penalty='l1', random_state=None, solver='liblinear', tol=0.0001,\n",
      "          verbose=0, warm_start=False)\n"
     ]
    }
   ],
   "source": [
    "# TODO: Fine-tune your model and report the best F1 score\n",
    "from sklearn.grid_search import GridSearchCV\n",
    "\n",
    "def scorer_fun(clf,X,target):\n",
    "    prediction=clf.predict(X)\n",
    "    return f1_score(target.astype(str), prediction.astype(str), \n",
    "                    pos_label='yes')\n",
    "\n",
    "clf = LogisticRegression()\n",
    "param_grid = {'penalty': ['l1', 'l2'],\n",
    "              'C': [0.01, 0.05, 0.06, 0.07, 0.08, 0.09, 0.1,0.2,0.5,1.0,1.5,2.0],\n",
    "              'max_iter': [10, 20, 50, 100,200,300,500,1000],\n",
    "             'class_weight': [None, 'balanced']}\n",
    "\n",
    "grid = GridSearchCV(clf, param_grid, scoring=scorer_fun, \n",
    "                    fit_params=None, n_jobs=1, cv=6)\n",
    "grid.fit(X_train, y_train)\n",
    "print \"Best estimator is: \"\n",
    "print grid.best_estimator_\n"
   ]
  },
  {
   "cell_type": "code",
   "execution_count": 27,
   "metadata": {
    "collapsed": false
   },
   "outputs": [
    {
     "name": "stdout",
     "output_type": "stream",
     "text": [
      "F1 score, after training with the whole training set, is: 0.805369127517\n"
     ]
    }
   ],
   "source": [
    "print \"F1 score, after training with the whole training set, is: {}\".format(\n",
    "                                                                scorer_fun(grid.best_estimator_,X_test, y_test))"
   ]
  },
  {
   "cell_type": "markdown",
   "metadata": {},
   "source": [
    "Since it was previously argued that with less training data we can achieve same or better performance, let's try fine-tuning the model with just 150 samples from the training set"
   ]
  },
  {
   "cell_type": "code",
   "execution_count": 28,
   "metadata": {
    "collapsed": false
   },
   "outputs": [
    {
     "name": "stdout",
     "output_type": "stream",
     "text": [
      "Best estimator is: \n",
      "LogisticRegression(C=0.06, class_weight=None, dual=False, fit_intercept=True,\n",
      "          intercept_scaling=1, max_iter=10, multi_class='ovr', n_jobs=1,\n",
      "          penalty='l2', random_state=None, solver='liblinear', tol=0.0001,\n",
      "          verbose=0, warm_start=False)\n"
     ]
    }
   ],
   "source": [
    "clf = LogisticRegression()\n",
    "grid = GridSearchCV(clf, param_grid, scoring=scorer_fun, \n",
    "                    fit_params=None, n_jobs=1, cv=6)\n",
    "grid.fit(X_train[0:150], y_train[0:150])\n",
    "print \"Best estimator is: \"\n",
    "print grid.best_estimator_"
   ]
  },
  {
   "cell_type": "code",
   "execution_count": 29,
   "metadata": {
    "collapsed": false
   },
   "outputs": [
    {
     "name": "stdout",
     "output_type": "stream",
     "text": [
      "Final F1 score, with training set size == 150, is: 0.807947019868\n"
     ]
    }
   ],
   "source": [
    "print \"Final F1 score, with training set size == 150, is: {}\".format(scorer_fun(grid.best_estimator_,X_test, y_test))"
   ]
  }
 ],
 "metadata": {
  "kernelspec": {
   "display_name": "Python 2",
   "language": "python",
   "name": "python2"
  },
  "language_info": {
   "codemirror_mode": {
    "name": "ipython",
    "version": 2
   },
   "file_extension": ".py",
   "mimetype": "text/x-python",
   "name": "python",
   "nbconvert_exporter": "python",
   "pygments_lexer": "ipython2",
   "version": "2.7.11"
  }
 },
 "nbformat": 4,
 "nbformat_minor": 0
}
