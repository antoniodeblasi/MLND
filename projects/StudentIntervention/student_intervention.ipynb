{
 "cells": [
  {
   "cell_type": "markdown",
   "metadata": {},
   "source": [
    "# Project 2: Supervised Learning\n",
    "### Building a Student Intervention System"
   ]
  },
  {
   "cell_type": "markdown",
   "metadata": {},
   "source": [
    "## 1. Classification vs Regression\n",
    "\n",
    "Your goal is to identify students who might need early intervention - which type of supervised machine learning problem is this, classification or regression? Why?\n",
    "\n",
    "<span style=\"color:#107896\", max-width=\"105ex\">\n",
    "This is a binary classification problem, since the prediction the system is required to do is of categorical kind, out of two mutually exclusive outputs, that is: \"student passes\" and \"student fails\"\n",
    "</span>"
   ]
  },
  {
   "cell_type": "markdown",
   "metadata": {},
   "source": [
    "## 2. Exploring the Data\n",
    "\n",
    "Let's go ahead and read in the student dataset first.\n",
    "\n",
    "_To execute a code cell, click inside it and press **Shift+Enter**._"
   ]
  },
  {
   "cell_type": "code",
   "execution_count": 1,
   "metadata": {
    "collapsed": false
   },
   "outputs": [],
   "source": [
    "# Import libraries\n",
    "%matplotlib inline\n",
    "import numpy as np\n",
    "import pandas as pd\n",
    "import matplotlib\n",
    "import matplotlib.pyplot as plt\n",
    "\n",
    "\n",
    "pd.set_option('display.width', 500)"
   ]
  },
  {
   "cell_type": "code",
   "execution_count": 2,
   "metadata": {
    "collapsed": false
   },
   "outputs": [
    {
     "name": "stdout",
     "output_type": "stream",
     "text": [
      "Student data read successfully!\n"
     ]
    }
   ],
   "source": [
    "# Read student data\n",
    "student_data = pd.read_csv(\"student-data.csv\")\n",
    "print \"Student data read successfully!\"\n",
    "# Note: The last column 'passed' is the target/label, all other are feature columns"
   ]
  },
  {
   "cell_type": "markdown",
   "metadata": {},
   "source": [
    "Now, can you find out the following facts about the dataset?\n",
    "- Total number of students\n",
    "- Number of students who passed\n",
    "- Number of students who failed\n",
    "- Graduation rate of the class (%)\n",
    "- Number of features\n",
    "\n",
    "_Use the code block below to compute these values. Instructions/steps are marked using **TODO**s._"
   ]
  },
  {
   "cell_type": "code",
   "execution_count": 3,
   "metadata": {
    "collapsed": false
   },
   "outputs": [
    {
     "name": "stdout",
     "output_type": "stream",
     "text": [
      "\n",
      "Total number of students:      395\n",
      "Number of students who passed: 265\n",
      "Number of students who failed: 130\n",
      "Number of features:            30\n",
      "Graduation rate of the class:  67.09%\n"
     ]
    }
   ],
   "source": [
    "# TODO: Compute desired values - replace each '?' with an appropriate expression/function call\n",
    "n_students = student_data.shape[0]\n",
    "n_features = student_data.shape[1] - 1\n",
    "n_passed = student_data.passed.value_counts()['yes']\n",
    "n_failed = student_data.passed.value_counts()['no']\n",
    "grad_rate = np.float(n_passed)/n_students*100\n",
    "print \"\\nTotal number of students:      {}\".format(n_students)\n",
    "print \"Number of students who passed: {}\".format(n_passed)\n",
    "print \"Number of students who failed: {}\".format(n_failed)\n",
    "print \"Number of features:            {}\".format(n_features)\n",
    "print \"Graduation rate of the class:  {:.2f}%\".format(grad_rate)"
   ]
  },
  {
   "cell_type": "markdown",
   "metadata": {},
   "source": [
    "#### A more detailed view of available data through a Data Quality Report"
   ]
  },
  {
   "cell_type": "markdown",
   "metadata": {},
   "source": [
    "Let's define a Python class that collects more detailed central tendency information about the available data"
   ]
  },
  {
   "cell_type": "code",
   "execution_count": 4,
   "metadata": {
    "collapsed": true
   },
   "outputs": [],
   "source": [
    "class DataQualityReport(object):    \n",
    "    '''\n",
    "    Report about data basic statistics\n",
    "    '''\n",
    "    \n",
    "    CONT_TABLE_COLS = ['count', 'missing', 'cardinality', 'min', '1st_quartile', \n",
    "                       'mean', 'median', '3rd_quartile', 'max', 'std_dev']\n",
    "    CAT_TABLE_COLS  = ['count', 'missing', 'cardinality', 'mode', 'mode_freq', \n",
    "                       'mode_percent', '2nd_mode', '2nd_mode_freq', '2nd_mode_percent']\n",
    "        \n",
    "    def __init__(self, df, continuous_features, categorical_features):\n",
    "        '''\n",
    "        Constructor\n",
    "        Parameters:\n",
    "            df - pandas DataFrame object containing the dataset\n",
    "            categorical_features - the list of feature names of categorical type\n",
    "            continuous_features - the list of feature names of continuous type\n",
    "        '''\n",
    "        self._continuous_features   = continuous_features\n",
    "        self._categorical_features  = categorical_features\n",
    "\n",
    "        self.cont_table = pd.DataFrame(columns=DataQualityReport.CONT_TABLE_COLS, index=continuous_features)\n",
    "        self.cat_table  = pd.DataFrame(columns=DataQualityReport.CAT_TABLE_COLS, index=categorical_features)\n",
    "        stats = df.describe()\n",
    "        self._populate_cont_table(df, stats)\n",
    "        self._populate_cat_table(df, stats)\n",
    "  \n",
    "    def _populate_cont_table(self, df, stats):\n",
    "        for feature in self._continuous_features:\n",
    "            self.cont_table['count'][feature]           = df[feature].value_counts().sum()\n",
    "            self.cont_table['missing'][feature]         = df[feature].isnull().sum()\n",
    "            self.cont_table['cardinality'][feature]     = df[feature].unique().shape[0]\n",
    "            self.cont_table['min'][feature]             = stats[feature]['min']\n",
    "            self.cont_table['1st_quartile'][feature]    = stats[feature]['25%']\n",
    "            self.cont_table['mean'][feature]            = stats[feature]['mean']\n",
    "            self.cont_table['median'][feature]          = stats[feature]['50%']\n",
    "            self.cont_table['3rd_quartile'][feature]    = stats[feature]['75%']\n",
    "            self.cont_table['max'][feature]             = stats[feature]['max']\n",
    "            self.cont_table['std_dev'][feature]         = stats[feature]['std']\n",
    "            \n",
    "            \n",
    "    def _populate_cat_table(self, df, stats):\n",
    "        for feature in self._categorical_features:\n",
    "            self.cat_table['count'][feature]           = df[feature].value_counts().sum()\n",
    "            self.cat_table['missing'][feature]         = df[feature].isnull().sum()\n",
    "            self.cat_table['cardinality'][feature]     = df[feature].unique().shape[0]\n",
    "            vc = df[feature].value_counts()\n",
    "            self.cat_table['mode'][feature]            = vc.index[0]\n",
    "            self.cat_table['mode_freq'][feature]       = vc.values[0]\n",
    "            self.cat_table['mode_percent'][feature]    = float(vc.values[0])/vc.sum()*100\n",
    "            if vc.shape[0] > 1:\n",
    "                self.cat_table['2nd_mode'][feature]            = vc.index[1]\n",
    "                self.cat_table['2nd_mode_freq'][feature]       = vc.values[1]\n",
    "                self.cat_table['2nd_mode_percent'][feature]    = float(vc.values[1])/vc.sum()*100"
   ]
  },
  {
   "cell_type": "markdown",
   "metadata": {},
   "source": [
    "In our dataset, we find the following continuous/numeric descriptive features:"
   ]
  },
  {
   "cell_type": "code",
   "execution_count": 5,
   "metadata": {
    "collapsed": true
   },
   "outputs": [],
   "source": [
    "numeric_features = ['age', 'Medu', 'Fedu', 'traveltime', 'studytime', 'failures', 'famrel', 'freetime', \n",
    "                    'goout', 'Dalc', 'Walc', 'health', 'absences']"
   ]
  },
  {
   "cell_type": "markdown",
   "metadata": {},
   "source": [
    "and the following categorical features:"
   ]
  },
  {
   "cell_type": "code",
   "execution_count": 6,
   "metadata": {
    "collapsed": true
   },
   "outputs": [],
   "source": [
    "categorical_features = ['school', 'sex', 'address', 'famsize', 'Pstatus', 'Mjob', 'Fjob', 'reason', 'guardian', \n",
    "                        'schoolsup', 'famsup', 'paid', 'activities', 'nursery', 'higher','internet', 'romantic']"
   ]
  },
  {
   "cell_type": "markdown",
   "metadata": {},
   "source": [
    "Let's build a data quality report:"
   ]
  },
  {
   "cell_type": "code",
   "execution_count": 7,
   "metadata": {
    "collapsed": false
   },
   "outputs": [],
   "source": [
    "dqr = DataQualityReport(student_data, numeric_features, categorical_features)"
   ]
  },
  {
   "cell_type": "markdown",
   "metadata": {},
   "source": [
    "print data quality report for numeric features:"
   ]
  },
  {
   "cell_type": "code",
   "execution_count": 8,
   "metadata": {
    "collapsed": false
   },
   "outputs": [
    {
     "name": "stdout",
     "output_type": "stream",
     "text": [
      "\n",
      "NUMERIC FEATURES DATA QUALITY REPORT:\n"
     ]
    },
    {
     "data": {
      "text/html": [
       "<div>\n",
       "<table border=\"1\" class=\"dataframe\">\n",
       "  <thead>\n",
       "    <tr style=\"text-align: right;\">\n",
       "      <th></th>\n",
       "      <th>count</th>\n",
       "      <th>missing</th>\n",
       "      <th>cardinality</th>\n",
       "      <th>min</th>\n",
       "      <th>1st_quartile</th>\n",
       "      <th>mean</th>\n",
       "      <th>median</th>\n",
       "      <th>3rd_quartile</th>\n",
       "      <th>max</th>\n",
       "      <th>std_dev</th>\n",
       "    </tr>\n",
       "  </thead>\n",
       "  <tbody>\n",
       "    <tr>\n",
       "      <th>age</th>\n",
       "      <td>395</td>\n",
       "      <td>0</td>\n",
       "      <td>8</td>\n",
       "      <td>15</td>\n",
       "      <td>16</td>\n",
       "      <td>16.6962</td>\n",
       "      <td>17</td>\n",
       "      <td>18</td>\n",
       "      <td>22</td>\n",
       "      <td>1.27604</td>\n",
       "    </tr>\n",
       "    <tr>\n",
       "      <th>Medu</th>\n",
       "      <td>395</td>\n",
       "      <td>0</td>\n",
       "      <td>5</td>\n",
       "      <td>0</td>\n",
       "      <td>2</td>\n",
       "      <td>2.74937</td>\n",
       "      <td>3</td>\n",
       "      <td>4</td>\n",
       "      <td>4</td>\n",
       "      <td>1.09474</td>\n",
       "    </tr>\n",
       "    <tr>\n",
       "      <th>Fedu</th>\n",
       "      <td>395</td>\n",
       "      <td>0</td>\n",
       "      <td>5</td>\n",
       "      <td>0</td>\n",
       "      <td>2</td>\n",
       "      <td>2.52152</td>\n",
       "      <td>2</td>\n",
       "      <td>3</td>\n",
       "      <td>4</td>\n",
       "      <td>1.0882</td>\n",
       "    </tr>\n",
       "    <tr>\n",
       "      <th>traveltime</th>\n",
       "      <td>395</td>\n",
       "      <td>0</td>\n",
       "      <td>4</td>\n",
       "      <td>1</td>\n",
       "      <td>1</td>\n",
       "      <td>1.4481</td>\n",
       "      <td>1</td>\n",
       "      <td>2</td>\n",
       "      <td>4</td>\n",
       "      <td>0.697505</td>\n",
       "    </tr>\n",
       "    <tr>\n",
       "      <th>studytime</th>\n",
       "      <td>395</td>\n",
       "      <td>0</td>\n",
       "      <td>4</td>\n",
       "      <td>1</td>\n",
       "      <td>1</td>\n",
       "      <td>2.03544</td>\n",
       "      <td>2</td>\n",
       "      <td>2</td>\n",
       "      <td>4</td>\n",
       "      <td>0.83924</td>\n",
       "    </tr>\n",
       "    <tr>\n",
       "      <th>failures</th>\n",
       "      <td>395</td>\n",
       "      <td>0</td>\n",
       "      <td>4</td>\n",
       "      <td>0</td>\n",
       "      <td>0</td>\n",
       "      <td>0.334177</td>\n",
       "      <td>0</td>\n",
       "      <td>0</td>\n",
       "      <td>3</td>\n",
       "      <td>0.743651</td>\n",
       "    </tr>\n",
       "    <tr>\n",
       "      <th>famrel</th>\n",
       "      <td>395</td>\n",
       "      <td>0</td>\n",
       "      <td>5</td>\n",
       "      <td>1</td>\n",
       "      <td>4</td>\n",
       "      <td>3.9443</td>\n",
       "      <td>4</td>\n",
       "      <td>5</td>\n",
       "      <td>5</td>\n",
       "      <td>0.896659</td>\n",
       "    </tr>\n",
       "    <tr>\n",
       "      <th>freetime</th>\n",
       "      <td>395</td>\n",
       "      <td>0</td>\n",
       "      <td>5</td>\n",
       "      <td>1</td>\n",
       "      <td>3</td>\n",
       "      <td>3.23544</td>\n",
       "      <td>3</td>\n",
       "      <td>4</td>\n",
       "      <td>5</td>\n",
       "      <td>0.998862</td>\n",
       "    </tr>\n",
       "    <tr>\n",
       "      <th>goout</th>\n",
       "      <td>395</td>\n",
       "      <td>0</td>\n",
       "      <td>5</td>\n",
       "      <td>1</td>\n",
       "      <td>2</td>\n",
       "      <td>3.10886</td>\n",
       "      <td>3</td>\n",
       "      <td>4</td>\n",
       "      <td>5</td>\n",
       "      <td>1.11328</td>\n",
       "    </tr>\n",
       "    <tr>\n",
       "      <th>Dalc</th>\n",
       "      <td>395</td>\n",
       "      <td>0</td>\n",
       "      <td>5</td>\n",
       "      <td>1</td>\n",
       "      <td>1</td>\n",
       "      <td>1.48101</td>\n",
       "      <td>1</td>\n",
       "      <td>2</td>\n",
       "      <td>5</td>\n",
       "      <td>0.890741</td>\n",
       "    </tr>\n",
       "    <tr>\n",
       "      <th>Walc</th>\n",
       "      <td>395</td>\n",
       "      <td>0</td>\n",
       "      <td>5</td>\n",
       "      <td>1</td>\n",
       "      <td>1</td>\n",
       "      <td>2.29114</td>\n",
       "      <td>2</td>\n",
       "      <td>3</td>\n",
       "      <td>5</td>\n",
       "      <td>1.2879</td>\n",
       "    </tr>\n",
       "    <tr>\n",
       "      <th>health</th>\n",
       "      <td>395</td>\n",
       "      <td>0</td>\n",
       "      <td>5</td>\n",
       "      <td>1</td>\n",
       "      <td>3</td>\n",
       "      <td>3.55443</td>\n",
       "      <td>4</td>\n",
       "      <td>5</td>\n",
       "      <td>5</td>\n",
       "      <td>1.3903</td>\n",
       "    </tr>\n",
       "    <tr>\n",
       "      <th>absences</th>\n",
       "      <td>395</td>\n",
       "      <td>0</td>\n",
       "      <td>34</td>\n",
       "      <td>0</td>\n",
       "      <td>0</td>\n",
       "      <td>5.70886</td>\n",
       "      <td>4</td>\n",
       "      <td>8</td>\n",
       "      <td>75</td>\n",
       "      <td>8.0031</td>\n",
       "    </tr>\n",
       "  </tbody>\n",
       "</table>\n",
       "</div>"
      ],
      "text/plain": [
       "           count missing cardinality min 1st_quartile      mean median 3rd_quartile max   std_dev\n",
       "age          395       0           8  15           16   16.6962     17           18  22   1.27604\n",
       "Medu         395       0           5   0            2   2.74937      3            4   4   1.09474\n",
       "Fedu         395       0           5   0            2   2.52152      2            3   4    1.0882\n",
       "traveltime   395       0           4   1            1    1.4481      1            2   4  0.697505\n",
       "studytime    395       0           4   1            1   2.03544      2            2   4   0.83924\n",
       "failures     395       0           4   0            0  0.334177      0            0   3  0.743651\n",
       "famrel       395       0           5   1            4    3.9443      4            5   5  0.896659\n",
       "freetime     395       0           5   1            3   3.23544      3            4   5  0.998862\n",
       "goout        395       0           5   1            2   3.10886      3            4   5   1.11328\n",
       "Dalc         395       0           5   1            1   1.48101      1            2   5  0.890741\n",
       "Walc         395       0           5   1            1   2.29114      2            3   5    1.2879\n",
       "health       395       0           5   1            3   3.55443      4            5   5    1.3903\n",
       "absences     395       0          34   0            0   5.70886      4            8  75    8.0031"
      ]
     },
     "execution_count": 8,
     "metadata": {},
     "output_type": "execute_result"
    }
   ],
   "source": [
    "print \"\\nNUMERIC FEATURES DATA QUALITY REPORT:\"\n",
    "dqr.cont_table"
   ]
  },
  {
   "cell_type": "markdown",
   "metadata": {},
   "source": [
    "and print data quality report table for categorical features:"
   ]
  },
  {
   "cell_type": "code",
   "execution_count": 9,
   "metadata": {
    "collapsed": false
   },
   "outputs": [
    {
     "name": "stdout",
     "output_type": "stream",
     "text": [
      "\n",
      "CATEGORICAL FEATURES DATA QUALITY REPORT:\n"
     ]
    },
    {
     "data": {
      "text/html": [
       "<div>\n",
       "<table border=\"1\" class=\"dataframe\">\n",
       "  <thead>\n",
       "    <tr style=\"text-align: right;\">\n",
       "      <th></th>\n",
       "      <th>count</th>\n",
       "      <th>missing</th>\n",
       "      <th>cardinality</th>\n",
       "      <th>mode</th>\n",
       "      <th>mode_freq</th>\n",
       "      <th>mode_percent</th>\n",
       "      <th>2nd_mode</th>\n",
       "      <th>2nd_mode_freq</th>\n",
       "      <th>2nd_mode_percent</th>\n",
       "    </tr>\n",
       "  </thead>\n",
       "  <tbody>\n",
       "    <tr>\n",
       "      <th>school</th>\n",
       "      <td>395</td>\n",
       "      <td>0</td>\n",
       "      <td>2</td>\n",
       "      <td>GP</td>\n",
       "      <td>349</td>\n",
       "      <td>88.3544</td>\n",
       "      <td>MS</td>\n",
       "      <td>46</td>\n",
       "      <td>11.6456</td>\n",
       "    </tr>\n",
       "    <tr>\n",
       "      <th>sex</th>\n",
       "      <td>395</td>\n",
       "      <td>0</td>\n",
       "      <td>2</td>\n",
       "      <td>F</td>\n",
       "      <td>208</td>\n",
       "      <td>52.6582</td>\n",
       "      <td>M</td>\n",
       "      <td>187</td>\n",
       "      <td>47.3418</td>\n",
       "    </tr>\n",
       "    <tr>\n",
       "      <th>address</th>\n",
       "      <td>395</td>\n",
       "      <td>0</td>\n",
       "      <td>2</td>\n",
       "      <td>U</td>\n",
       "      <td>307</td>\n",
       "      <td>77.7215</td>\n",
       "      <td>R</td>\n",
       "      <td>88</td>\n",
       "      <td>22.2785</td>\n",
       "    </tr>\n",
       "    <tr>\n",
       "      <th>famsize</th>\n",
       "      <td>395</td>\n",
       "      <td>0</td>\n",
       "      <td>2</td>\n",
       "      <td>GT3</td>\n",
       "      <td>281</td>\n",
       "      <td>71.1392</td>\n",
       "      <td>LE3</td>\n",
       "      <td>114</td>\n",
       "      <td>28.8608</td>\n",
       "    </tr>\n",
       "    <tr>\n",
       "      <th>Pstatus</th>\n",
       "      <td>395</td>\n",
       "      <td>0</td>\n",
       "      <td>2</td>\n",
       "      <td>T</td>\n",
       "      <td>354</td>\n",
       "      <td>89.6203</td>\n",
       "      <td>A</td>\n",
       "      <td>41</td>\n",
       "      <td>10.3797</td>\n",
       "    </tr>\n",
       "    <tr>\n",
       "      <th>Mjob</th>\n",
       "      <td>395</td>\n",
       "      <td>0</td>\n",
       "      <td>5</td>\n",
       "      <td>other</td>\n",
       "      <td>141</td>\n",
       "      <td>35.6962</td>\n",
       "      <td>services</td>\n",
       "      <td>103</td>\n",
       "      <td>26.0759</td>\n",
       "    </tr>\n",
       "    <tr>\n",
       "      <th>Fjob</th>\n",
       "      <td>395</td>\n",
       "      <td>0</td>\n",
       "      <td>5</td>\n",
       "      <td>other</td>\n",
       "      <td>217</td>\n",
       "      <td>54.9367</td>\n",
       "      <td>services</td>\n",
       "      <td>111</td>\n",
       "      <td>28.1013</td>\n",
       "    </tr>\n",
       "    <tr>\n",
       "      <th>reason</th>\n",
       "      <td>395</td>\n",
       "      <td>0</td>\n",
       "      <td>4</td>\n",
       "      <td>course</td>\n",
       "      <td>145</td>\n",
       "      <td>36.7089</td>\n",
       "      <td>home</td>\n",
       "      <td>109</td>\n",
       "      <td>27.5949</td>\n",
       "    </tr>\n",
       "    <tr>\n",
       "      <th>guardian</th>\n",
       "      <td>395</td>\n",
       "      <td>0</td>\n",
       "      <td>3</td>\n",
       "      <td>mother</td>\n",
       "      <td>273</td>\n",
       "      <td>69.1139</td>\n",
       "      <td>father</td>\n",
       "      <td>90</td>\n",
       "      <td>22.7848</td>\n",
       "    </tr>\n",
       "    <tr>\n",
       "      <th>schoolsup</th>\n",
       "      <td>395</td>\n",
       "      <td>0</td>\n",
       "      <td>2</td>\n",
       "      <td>no</td>\n",
       "      <td>344</td>\n",
       "      <td>87.0886</td>\n",
       "      <td>yes</td>\n",
       "      <td>51</td>\n",
       "      <td>12.9114</td>\n",
       "    </tr>\n",
       "    <tr>\n",
       "      <th>famsup</th>\n",
       "      <td>395</td>\n",
       "      <td>0</td>\n",
       "      <td>2</td>\n",
       "      <td>yes</td>\n",
       "      <td>242</td>\n",
       "      <td>61.2658</td>\n",
       "      <td>no</td>\n",
       "      <td>153</td>\n",
       "      <td>38.7342</td>\n",
       "    </tr>\n",
       "    <tr>\n",
       "      <th>paid</th>\n",
       "      <td>395</td>\n",
       "      <td>0</td>\n",
       "      <td>2</td>\n",
       "      <td>no</td>\n",
       "      <td>214</td>\n",
       "      <td>54.1772</td>\n",
       "      <td>yes</td>\n",
       "      <td>181</td>\n",
       "      <td>45.8228</td>\n",
       "    </tr>\n",
       "    <tr>\n",
       "      <th>activities</th>\n",
       "      <td>395</td>\n",
       "      <td>0</td>\n",
       "      <td>2</td>\n",
       "      <td>yes</td>\n",
       "      <td>201</td>\n",
       "      <td>50.8861</td>\n",
       "      <td>no</td>\n",
       "      <td>194</td>\n",
       "      <td>49.1139</td>\n",
       "    </tr>\n",
       "    <tr>\n",
       "      <th>nursery</th>\n",
       "      <td>395</td>\n",
       "      <td>0</td>\n",
       "      <td>2</td>\n",
       "      <td>yes</td>\n",
       "      <td>314</td>\n",
       "      <td>79.4937</td>\n",
       "      <td>no</td>\n",
       "      <td>81</td>\n",
       "      <td>20.5063</td>\n",
       "    </tr>\n",
       "    <tr>\n",
       "      <th>higher</th>\n",
       "      <td>395</td>\n",
       "      <td>0</td>\n",
       "      <td>2</td>\n",
       "      <td>yes</td>\n",
       "      <td>375</td>\n",
       "      <td>94.9367</td>\n",
       "      <td>no</td>\n",
       "      <td>20</td>\n",
       "      <td>5.06329</td>\n",
       "    </tr>\n",
       "    <tr>\n",
       "      <th>internet</th>\n",
       "      <td>395</td>\n",
       "      <td>0</td>\n",
       "      <td>2</td>\n",
       "      <td>yes</td>\n",
       "      <td>329</td>\n",
       "      <td>83.2911</td>\n",
       "      <td>no</td>\n",
       "      <td>66</td>\n",
       "      <td>16.7089</td>\n",
       "    </tr>\n",
       "    <tr>\n",
       "      <th>romantic</th>\n",
       "      <td>395</td>\n",
       "      <td>0</td>\n",
       "      <td>2</td>\n",
       "      <td>no</td>\n",
       "      <td>263</td>\n",
       "      <td>66.5823</td>\n",
       "      <td>yes</td>\n",
       "      <td>132</td>\n",
       "      <td>33.4177</td>\n",
       "    </tr>\n",
       "  </tbody>\n",
       "</table>\n",
       "</div>"
      ],
      "text/plain": [
       "           count missing cardinality    mode mode_freq mode_percent  2nd_mode 2nd_mode_freq 2nd_mode_percent\n",
       "school       395       0           2      GP       349      88.3544        MS            46          11.6456\n",
       "sex          395       0           2       F       208      52.6582         M           187          47.3418\n",
       "address      395       0           2       U       307      77.7215         R            88          22.2785\n",
       "famsize      395       0           2     GT3       281      71.1392       LE3           114          28.8608\n",
       "Pstatus      395       0           2       T       354      89.6203         A            41          10.3797\n",
       "Mjob         395       0           5   other       141      35.6962  services           103          26.0759\n",
       "Fjob         395       0           5   other       217      54.9367  services           111          28.1013\n",
       "reason       395       0           4  course       145      36.7089      home           109          27.5949\n",
       "guardian     395       0           3  mother       273      69.1139    father            90          22.7848\n",
       "schoolsup    395       0           2      no       344      87.0886       yes            51          12.9114\n",
       "famsup       395       0           2     yes       242      61.2658        no           153          38.7342\n",
       "paid         395       0           2      no       214      54.1772       yes           181          45.8228\n",
       "activities   395       0           2     yes       201      50.8861        no           194          49.1139\n",
       "nursery      395       0           2     yes       314      79.4937        no            81          20.5063\n",
       "higher       395       0           2     yes       375      94.9367        no            20          5.06329\n",
       "internet     395       0           2     yes       329      83.2911        no            66          16.7089\n",
       "romantic     395       0           2      no       263      66.5823       yes           132          33.4177"
      ]
     },
     "execution_count": 9,
     "metadata": {},
     "output_type": "execute_result"
    }
   ],
   "source": [
    "print \"\\nCATEGORICAL FEATURES DATA QUALITY REPORT:\"\n",
    "dqr.cat_table"
   ]
  },
  {
   "cell_type": "markdown",
   "metadata": {},
   "source": [
    "## 3. Preparing the Data\n",
    "In this section, we will prepare the data for modeling, training and testing.\n",
    "\n",
    "### Identify feature and target columns\n",
    "It is often the case that the data you obtain contains non-numeric features. This can be a problem, as most machine learning algorithms expect numeric data to perform computations with.\n",
    "\n",
    "Let's first separate our data into feature and target columns, and see if any features are non-numeric.<br/>\n",
    "**Note**: For this dataset, the last column (`'passed'`) is the target or label we are trying to predict."
   ]
  },
  {
   "cell_type": "code",
   "execution_count": 10,
   "metadata": {
    "collapsed": false
   },
   "outputs": [
    {
     "name": "stdout",
     "output_type": "stream",
     "text": [
      "Feature column(s):-\n",
      "['school', 'sex', 'age', 'address', 'famsize', 'Pstatus', 'Medu', 'Fedu', 'Mjob', 'Fjob', 'reason', 'guardian', 'traveltime', 'studytime', 'failures', 'schoolsup', 'famsup', 'paid', 'activities', 'nursery', 'higher', 'internet', 'romantic', 'famrel', 'freetime', 'goout', 'Dalc', 'Walc', 'health', 'absences']\n",
      "\n",
      "Target column: passed\n"
     ]
    }
   ],
   "source": [
    "# Extract feature (X) and target (y) columns\n",
    "from IPython.display import display, HTML\n",
    "\n",
    "feature_cols = list(student_data.columns[:-1])  # all columns but last are features\n",
    "target_col = student_data.columns[-1]  # last column is the target/label\n",
    "print \"Feature column(s):-\\n{}\".format(feature_cols)\n",
    "print\n",
    "print \"Target column: {}\".format(target_col)"
   ]
  },
  {
   "cell_type": "code",
   "execution_count": 11,
   "metadata": {
    "collapsed": false
   },
   "outputs": [
    {
     "name": "stdout",
     "output_type": "stream",
     "text": [
      "\n",
      "Feature values:-\n"
     ]
    },
    {
     "data": {
      "text/html": [
       "<div>\n",
       "<table border=\"1\" class=\"dataframe\">\n",
       "  <thead>\n",
       "    <tr style=\"text-align: right;\">\n",
       "      <th></th>\n",
       "      <th>school</th>\n",
       "      <th>sex</th>\n",
       "      <th>age</th>\n",
       "      <th>address</th>\n",
       "      <th>famsize</th>\n",
       "      <th>Pstatus</th>\n",
       "      <th>Medu</th>\n",
       "      <th>Fedu</th>\n",
       "      <th>Mjob</th>\n",
       "      <th>Fjob</th>\n",
       "      <th>...</th>\n",
       "      <th>higher</th>\n",
       "      <th>internet</th>\n",
       "      <th>romantic</th>\n",
       "      <th>famrel</th>\n",
       "      <th>freetime</th>\n",
       "      <th>goout</th>\n",
       "      <th>Dalc</th>\n",
       "      <th>Walc</th>\n",
       "      <th>health</th>\n",
       "      <th>absences</th>\n",
       "    </tr>\n",
       "  </thead>\n",
       "  <tbody>\n",
       "    <tr>\n",
       "      <th>0</th>\n",
       "      <td>GP</td>\n",
       "      <td>F</td>\n",
       "      <td>18</td>\n",
       "      <td>U</td>\n",
       "      <td>GT3</td>\n",
       "      <td>A</td>\n",
       "      <td>4</td>\n",
       "      <td>4</td>\n",
       "      <td>at_home</td>\n",
       "      <td>teacher</td>\n",
       "      <td>...</td>\n",
       "      <td>yes</td>\n",
       "      <td>no</td>\n",
       "      <td>no</td>\n",
       "      <td>4</td>\n",
       "      <td>3</td>\n",
       "      <td>4</td>\n",
       "      <td>1</td>\n",
       "      <td>1</td>\n",
       "      <td>3</td>\n",
       "      <td>6</td>\n",
       "    </tr>\n",
       "    <tr>\n",
       "      <th>1</th>\n",
       "      <td>GP</td>\n",
       "      <td>F</td>\n",
       "      <td>17</td>\n",
       "      <td>U</td>\n",
       "      <td>GT3</td>\n",
       "      <td>T</td>\n",
       "      <td>1</td>\n",
       "      <td>1</td>\n",
       "      <td>at_home</td>\n",
       "      <td>other</td>\n",
       "      <td>...</td>\n",
       "      <td>yes</td>\n",
       "      <td>yes</td>\n",
       "      <td>no</td>\n",
       "      <td>5</td>\n",
       "      <td>3</td>\n",
       "      <td>3</td>\n",
       "      <td>1</td>\n",
       "      <td>1</td>\n",
       "      <td>3</td>\n",
       "      <td>4</td>\n",
       "    </tr>\n",
       "    <tr>\n",
       "      <th>2</th>\n",
       "      <td>GP</td>\n",
       "      <td>F</td>\n",
       "      <td>15</td>\n",
       "      <td>U</td>\n",
       "      <td>LE3</td>\n",
       "      <td>T</td>\n",
       "      <td>1</td>\n",
       "      <td>1</td>\n",
       "      <td>at_home</td>\n",
       "      <td>other</td>\n",
       "      <td>...</td>\n",
       "      <td>yes</td>\n",
       "      <td>yes</td>\n",
       "      <td>no</td>\n",
       "      <td>4</td>\n",
       "      <td>3</td>\n",
       "      <td>2</td>\n",
       "      <td>2</td>\n",
       "      <td>3</td>\n",
       "      <td>3</td>\n",
       "      <td>10</td>\n",
       "    </tr>\n",
       "    <tr>\n",
       "      <th>3</th>\n",
       "      <td>GP</td>\n",
       "      <td>F</td>\n",
       "      <td>15</td>\n",
       "      <td>U</td>\n",
       "      <td>GT3</td>\n",
       "      <td>T</td>\n",
       "      <td>4</td>\n",
       "      <td>2</td>\n",
       "      <td>health</td>\n",
       "      <td>services</td>\n",
       "      <td>...</td>\n",
       "      <td>yes</td>\n",
       "      <td>yes</td>\n",
       "      <td>yes</td>\n",
       "      <td>3</td>\n",
       "      <td>2</td>\n",
       "      <td>2</td>\n",
       "      <td>1</td>\n",
       "      <td>1</td>\n",
       "      <td>5</td>\n",
       "      <td>2</td>\n",
       "    </tr>\n",
       "    <tr>\n",
       "      <th>4</th>\n",
       "      <td>GP</td>\n",
       "      <td>F</td>\n",
       "      <td>16</td>\n",
       "      <td>U</td>\n",
       "      <td>GT3</td>\n",
       "      <td>T</td>\n",
       "      <td>3</td>\n",
       "      <td>3</td>\n",
       "      <td>other</td>\n",
       "      <td>other</td>\n",
       "      <td>...</td>\n",
       "      <td>yes</td>\n",
       "      <td>no</td>\n",
       "      <td>no</td>\n",
       "      <td>4</td>\n",
       "      <td>3</td>\n",
       "      <td>2</td>\n",
       "      <td>1</td>\n",
       "      <td>2</td>\n",
       "      <td>5</td>\n",
       "      <td>4</td>\n",
       "    </tr>\n",
       "  </tbody>\n",
       "</table>\n",
       "<p>5 rows × 30 columns</p>\n",
       "</div>"
      ],
      "text/plain": [
       "  school sex  age address famsize Pstatus  Medu  Fedu     Mjob      Fjob   ...    higher internet  romantic  famrel  freetime goout Dalc Walc health absences\n",
       "0     GP   F   18       U     GT3       A     4     4  at_home   teacher   ...       yes       no        no       4         3     4    1    1      3        6\n",
       "1     GP   F   17       U     GT3       T     1     1  at_home     other   ...       yes      yes        no       5         3     3    1    1      3        4\n",
       "2     GP   F   15       U     LE3       T     1     1  at_home     other   ...       yes      yes        no       4         3     2    2    3      3       10\n",
       "3     GP   F   15       U     GT3       T     4     2   health  services   ...       yes      yes       yes       3         2     2    1    1      5        2\n",
       "4     GP   F   16       U     GT3       T     3     3    other     other   ...       yes       no        no       4         3     2    1    2      5        4\n",
       "\n",
       "[5 rows x 30 columns]"
      ]
     },
     "metadata": {},
     "output_type": "display_data"
    }
   ],
   "source": [
    "X_all = student_data[feature_cols]  # feature values for all students\n",
    "print \"\\nFeature values:-\"\n",
    "display(X_all.head())  # print the first 5 rows\n"
   ]
  },
  {
   "cell_type": "code",
   "execution_count": 12,
   "metadata": {
    "collapsed": false
   },
   "outputs": [
    {
     "name": "stdout",
     "output_type": "stream",
     "text": [
      "\n",
      "Target values:-\n"
     ]
    },
    {
     "data": {
      "text/plain": [
       "0     no\n",
       "1     no\n",
       "2    yes\n",
       "3    yes\n",
       "4    yes\n",
       "Name: passed, dtype: object"
      ]
     },
     "execution_count": 12,
     "metadata": {},
     "output_type": "execute_result"
    }
   ],
   "source": [
    "print \"\\nTarget values:-\"\n",
    "y_all = student_data[target_col]  # corresponding targets/labels\n",
    "y_all.head()"
   ]
  },
  {
   "cell_type": "markdown",
   "metadata": {},
   "source": [
    "### Preprocess feature columns\n",
    "\n",
    "As you can see, there are several non-numeric columns that need to be converted! Many of them are simply `yes`/`no`, e.g. `internet`. These can be reasonably converted into `1`/`0` (binary) values.\n",
    "\n",
    "Other columns, like `Mjob` and `Fjob`, have more than two values, and are known as _categorical variables_. The recommended way to handle such a column is to create as many columns as possible values (e.g. `Fjob_teacher`, `Fjob_other`, `Fjob_services`, etc.), and assign a `1` to one of them and `0` to all others.\n",
    "\n",
    "These generated columns are sometimes called _dummy variables_, and we will use the [`pandas.get_dummies()`](http://pandas.pydata.org/pandas-docs/stable/generated/pandas.get_dummies.html?highlight=get_dummies#pandas.get_dummies) function to perform this transformation."
   ]
  },
  {
   "cell_type": "code",
   "execution_count": 13,
   "metadata": {
    "collapsed": false
   },
   "outputs": [
    {
     "name": "stdout",
     "output_type": "stream",
     "text": [
      "Processed feature columns (48):-\n",
      "['school_GP', 'school_MS', 'sex_F', 'sex_M', 'age', 'address_R', 'address_U', 'famsize_GT3', 'famsize_LE3', 'Pstatus_A', 'Pstatus_T', 'Medu', 'Fedu', 'Mjob_at_home', 'Mjob_health', 'Mjob_other', 'Mjob_services', 'Mjob_teacher', 'Fjob_at_home', 'Fjob_health', 'Fjob_other', 'Fjob_services', 'Fjob_teacher', 'reason_course', 'reason_home', 'reason_other', 'reason_reputation', 'guardian_father', 'guardian_mother', 'guardian_other', 'traveltime', 'studytime', 'failures', 'schoolsup', 'famsup', 'paid', 'activities', 'nursery', 'higher', 'internet', 'romantic', 'famrel', 'freetime', 'goout', 'Dalc', 'Walc', 'health', 'absences']\n"
     ]
    }
   ],
   "source": [
    "# Preprocess feature columns\n",
    "def preprocess_features(X):\n",
    "    outX = pd.DataFrame(index=X.index)  # output dataframe, initially empty\n",
    "\n",
    "    # Check each column\n",
    "    for col, col_data in X.iteritems():\n",
    "        # If data type is non-numeric, try to replace all yes/no values with 1/0\n",
    "        if col_data.dtype == object:\n",
    "            col_data = col_data.replace(['yes', 'no'], [1, 0])\n",
    "        # Note: This should change the data type for yes/no columns to int\n",
    "\n",
    "        # If still non-numeric, convert to one or more dummy variables\n",
    "        if col_data.dtype == object:\n",
    "            col_data = pd.get_dummies(col_data, prefix=col)  # e.g. 'school' => 'school_GP', 'school_MS'\n",
    "\n",
    "        outX = outX.join(col_data)  # collect column(s) in output dataframe\n",
    "\n",
    "    return outX\n",
    "\n",
    "X_all = preprocess_features(X_all)\n",
    "print \"Processed feature columns ({}):-\\n{}\".format(len(X_all.columns), list(X_all.columns))"
   ]
  },
  {
   "cell_type": "markdown",
   "metadata": {},
   "source": [
    "### Split data into training and test sets\n",
    "\n",
    "So far, we have converted all _categorical_ features into numeric values. In this next step, we split the data (both features and corresponding labels) into training and test sets."
   ]
  },
  {
   "cell_type": "code",
   "execution_count": 14,
   "metadata": {
    "collapsed": false
   },
   "outputs": [
    {
     "name": "stdout",
     "output_type": "stream",
     "text": [
      "Training set: 250 samples\n",
      "Test set:      145 samples\n"
     ]
    }
   ],
   "source": [
    "# First, decide how many training vs test samples you want\n",
    "num_all = student_data.shape[0]  # same as len(student_data)\n",
    "num_train = 250  # about 75% of the data\n",
    "num_test = num_all - num_train\n",
    "\n",
    "# TODO: Then, select features (X) and corresponding labels (y) for the training and test sets\n",
    "# Note: Shuffle the data or randomly select samples to avoid any bias due to ordering in the dataset\n",
    "from sklearn import cross_validation as cv\n",
    "\n",
    "test_size=np.float(num_test)/num_all\n",
    "X_train, X_test, y_train, y_test = cv.train_test_split(X_all, y_all, test_size=num_test, \n",
    "                                                       random_state=42)\n",
    "\n",
    "print \"Training set: {} samples\".format(X_train.shape[0])\n",
    "print \"Test set:      {} samples\".format(X_test.shape[0])\n",
    "# Note: If you need a validation set, extract it from within training data"
   ]
  },
  {
   "cell_type": "markdown",
   "metadata": {},
   "source": [
    "## 4. Training and Evaluating Models\n",
    "Choose 3 supervised learning models that are available in scikit-learn, and appropriate for this problem. For each model:\n",
    "\n",
    "- What are the general applications of this model? What are its strengths and weaknesses?\n",
    "- Given what you know about the data so far, why did you choose this model to apply?\n",
    "- Fit this model to the training data, try to predict labels (for both training and test sets), and measure the F<sub>1</sub> score. Repeat this process with different training set sizes (100, 200, 300), keeping test set constant.\n",
    "\n",
    "Produce a table showing training time, prediction time, F<sub>1</sub> score on training set and F<sub>1</sub> score on test set, for each training set size.\n",
    "\n",
    "Note: You need to produce 3 such tables - one for each model."
   ]
  },
  {
   "cell_type": "markdown",
   "metadata": {},
   "source": [
    "#### Define a class to collect performance measures for each experiment"
   ]
  },
  {
   "cell_type": "code",
   "execution_count": 15,
   "metadata": {
    "collapsed": true
   },
   "outputs": [],
   "source": [
    "class PerformanceTable(object):\n",
    "    '''\n",
    "    Collect measures of performance for a specific experiment\n",
    "    '''\n",
    "\n",
    "    MEASURES = [\"TRAIN_TIME\", \"PREDICT_TIME_TRAIN\", \"PREDICT_TIME_TEST\", \"F1SCORE_TRAIN\", \"F1SCORE_TEST\"]\n",
    "    \n",
    "    def __init__(self, training_set_sizes):\n",
    "        '''\n",
    "        Constructor\n",
    "        '''\n",
    "        self.table = pd.DataFrame(columns=PerformanceTable.MEASURES, index=training_set_sizes)\n",
    "        self.table.index.name = '# samples'"
   ]
  },
  {
   "cell_type": "code",
   "execution_count": 16,
   "metadata": {
    "collapsed": false
   },
   "outputs": [],
   "source": [
    "# Train a model\n",
    "import time\n",
    "\n",
    "def train_classifier(clf, X_train, y_train):\n",
    "    #print \"Training {}...\".format(clf.__class__.__name__)\n",
    "    start = time.time()\n",
    "    clf.fit(X_train, y_train)\n",
    "    end = time.time()\n",
    "    training_time = end - start\n",
    "    #print \"Done!\\nTraining time (secs): {:.3f}\".format(training_time)\n",
    "    return training_time\n",
    "\n",
    "# TODO: Choose a model, import it and instantiate an object\n",
    "from sklearn.tree import DecisionTreeClassifier \n",
    "clf = DecisionTreeClassifier(min_samples_leaf=5,min_weight_fraction_leaf=0.02, max_depth=3, class_weight='balanced')\n",
    "\n",
    "# Fit model to training data\n",
    "#training_time= train_classifier(clf, X_train, y_train)  # note: using entire training set here\n",
    "#print clf  # you can inspect the learned model by printing it\n",
    "#print clf"
   ]
  },
  {
   "cell_type": "code",
   "execution_count": 17,
   "metadata": {
    "collapsed": false
   },
   "outputs": [],
   "source": [
    "# Predict on training set and compute F1 score\n",
    "from sklearn.metrics import f1_score\n",
    "\n",
    "def predict_labels(clf, features, target):\n",
    "    #print \"Predicting labels using {}...\".format(clf.__class__.__name__)\n",
    "    start = time.time()\n",
    "    y_pred = clf.predict(features)\n",
    "    end = time.time()\n",
    "    predict_time = end - start\n",
    "    #print \"Done!\\nPrediction time (secs): {:.3f}\".format(predict_time)\n",
    "#    print \"Predictions: {}, {}\".format(y_pred[:5], type(y_pred))\n",
    "#    print \"Targets: {}, {}\".format(target[:5], type(target))\n",
    "    return f1_score(target.astype(str), y_pred.astype(str), pos_label='yes'), predict_time\n",
    "\n",
    "#train_f1_score,_ = predict_labels(clf, X_train, y_train)\n",
    "#print \"F1 score for training set: {}\".format(train_f1_score)"
   ]
  },
  {
   "cell_type": "code",
   "execution_count": 18,
   "metadata": {
    "collapsed": false
   },
   "outputs": [],
   "source": [
    "# Predict on test data\n",
    "#print \"F1 score for test set: {}\".format(predict_labels(clf, X_test, y_test))"
   ]
  },
  {
   "cell_type": "code",
   "execution_count": 23,
   "metadata": {
    "collapsed": false
   },
   "outputs": [
    {
     "name": "stdout",
     "output_type": "stream",
     "text": [
      "Perfomance table for DecisionTreeClassifier: \n",
      "(*** note ***: times are expressed in milliseconds)\n"
     ]
    },
    {
     "data": {
      "text/html": [
       "<div>\n",
       "<table border=\"1\" class=\"dataframe\">\n",
       "  <thead>\n",
       "    <tr style=\"text-align: right;\">\n",
       "      <th></th>\n",
       "      <th>TRAIN_TIME</th>\n",
       "      <th>PREDICT_TIME_TRAIN</th>\n",
       "      <th>PREDICT_TIME_TEST</th>\n",
       "      <th>F1SCORE_TRAIN</th>\n",
       "      <th>F1SCORE_TEST</th>\n",
       "    </tr>\n",
       "    <tr>\n",
       "      <th># samples</th>\n",
       "      <th></th>\n",
       "      <th></th>\n",
       "      <th></th>\n",
       "      <th></th>\n",
       "      <th></th>\n",
       "    </tr>\n",
       "  </thead>\n",
       "  <tbody>\n",
       "    <tr>\n",
       "      <th>25</th>\n",
       "      <td>0.989914</td>\n",
       "      <td>38.018</td>\n",
       "      <td>0.486135</td>\n",
       "      <td>0.971429</td>\n",
       "      <td>0.734043</td>\n",
       "    </tr>\n",
       "    <tr>\n",
       "      <th>50</th>\n",
       "      <td>0.543118</td>\n",
       "      <td>0.235081</td>\n",
       "      <td>0.379086</td>\n",
       "      <td>0.807692</td>\n",
       "      <td>0.556291</td>\n",
       "    </tr>\n",
       "    <tr>\n",
       "      <th>75</th>\n",
       "      <td>0.611067</td>\n",
       "      <td>0.298023</td>\n",
       "      <td>0.28801</td>\n",
       "      <td>0.280702</td>\n",
       "      <td>0.252101</td>\n",
       "    </tr>\n",
       "    <tr>\n",
       "      <th>100</th>\n",
       "      <td>0.574112</td>\n",
       "      <td>0.267029</td>\n",
       "      <td>0.550985</td>\n",
       "      <td>0.58</td>\n",
       "      <td>0.492537</td>\n",
       "    </tr>\n",
       "    <tr>\n",
       "      <th>125</th>\n",
       "      <td>0.655174</td>\n",
       "      <td>0.391006</td>\n",
       "      <td>0.381947</td>\n",
       "      <td>0.825581</td>\n",
       "      <td>0.777778</td>\n",
       "    </tr>\n",
       "    <tr>\n",
       "      <th>150</th>\n",
       "      <td>0.643969</td>\n",
       "      <td>0.305176</td>\n",
       "      <td>0.292063</td>\n",
       "      <td>0.830918</td>\n",
       "      <td>0.758974</td>\n",
       "    </tr>\n",
       "    <tr>\n",
       "      <th>175</th>\n",
       "      <td>0.671864</td>\n",
       "      <td>0.332117</td>\n",
       "      <td>0.296831</td>\n",
       "      <td>0.818182</td>\n",
       "      <td>0.767677</td>\n",
       "    </tr>\n",
       "    <tr>\n",
       "      <th>200</th>\n",
       "      <td>0.72813</td>\n",
       "      <td>0.334978</td>\n",
       "      <td>0.291824</td>\n",
       "      <td>0.818505</td>\n",
       "      <td>0.77451</td>\n",
       "    </tr>\n",
       "    <tr>\n",
       "      <th>225</th>\n",
       "      <td>0.657082</td>\n",
       "      <td>0.333071</td>\n",
       "      <td>0.287056</td>\n",
       "      <td>0.820189</td>\n",
       "      <td>0.768473</td>\n",
       "    </tr>\n",
       "    <tr>\n",
       "      <th>250</th>\n",
       "      <td>0.99802</td>\n",
       "      <td>0.364065</td>\n",
       "      <td>0.303984</td>\n",
       "      <td>0.81768</td>\n",
       "      <td>0.792453</td>\n",
       "    </tr>\n",
       "  </tbody>\n",
       "</table>\n",
       "</div>"
      ],
      "text/plain": [
       "          TRAIN_TIME PREDICT_TIME_TRAIN PREDICT_TIME_TEST F1SCORE_TRAIN F1SCORE_TEST\n",
       "# samples                                                                           \n",
       "25          0.989914             38.018          0.486135      0.971429     0.734043\n",
       "50          0.543118           0.235081          0.379086      0.807692     0.556291\n",
       "75          0.611067           0.298023           0.28801      0.280702     0.252101\n",
       "100         0.574112           0.267029          0.550985          0.58     0.492537\n",
       "125         0.655174           0.391006          0.381947      0.825581     0.777778\n",
       "150         0.643969           0.305176          0.292063      0.830918     0.758974\n",
       "175         0.671864           0.332117          0.296831      0.818182     0.767677\n",
       "200          0.72813           0.334978          0.291824      0.818505      0.77451\n",
       "225         0.657082           0.333071          0.287056      0.820189     0.768473\n",
       "250          0.99802           0.364065          0.303984       0.81768     0.792453"
      ]
     },
     "execution_count": 23,
     "metadata": {},
     "output_type": "execute_result"
    }
   ],
   "source": [
    "# Train and predict using different training set sizes\n",
    "def train_predict(clf, X_train, y_train, X_test, y_test):\n",
    "    #print \"------------------------------------------\"\n",
    "    #print \"Training set size: {}\".format(len(X_train))\n",
    "    training_time = train_classifier(clf, X_train, y_train)\n",
    "    F1Score_train, predict_time_train = predict_labels(clf, X_train, y_train)\n",
    "    #print \"F1 score for training set: {}\".format(F1Score_train)\n",
    "    F1Score_test, predict_time_test = predict_labels(clf, X_test, y_test)\n",
    "    #print \"F1 score for test set: {}\".format(F1Score_test)\n",
    "    return training_time, F1Score_train, predict_time_train, F1Score_test, predict_time_test\n",
    "\n",
    "# TODO: Run the helper function above for desired subsets of training data\n",
    "\n",
    "# Kind of learning curve function\n",
    "def train_predict_lc(clf, X_train, y_train, X_test, y_test, training_set_sizes):\n",
    "    perf = PerformanceTable(training_set_sizes)\n",
    "    for train_set_size in training_set_sizes:\n",
    "        training_time, F1Score_train, predict_time_train, F1Score_test, predict_time_test = train_predict(clf, \n",
    "                                                X_train[:train_set_size],y_train[:train_set_size], X_test, y_test)\n",
    "        perf.table['TRAIN_TIME'][train_set_size] = training_time*1000 # milliseconds\n",
    "        perf.table['PREDICT_TIME_TRAIN'][train_set_size] = predict_time_train*1000 # milliseconds\n",
    "        perf.table['PREDICT_TIME_TEST'][train_set_size] = predict_time_test*1000 # milliseconds\n",
    "        perf.table['F1SCORE_TRAIN'][train_set_size] = F1Score_train\n",
    "        perf.table['F1SCORE_TEST'][train_set_size] = F1Score_test\n",
    "    \n",
    "    return perf\n",
    "    \n",
    "training_set_sizes = range(25,251,25)\n",
    "perf_1 = train_predict_lc(clf, X_train, y_train, X_test, y_test, training_set_sizes)\n",
    "    \n",
    "print \"Perfomance table for DecisionTreeClassifier: \"\n",
    "print \"(*** note ***: times are expressed in milliseconds)\" \n",
    "perf_1.table\n",
    "# Note: Keep the test set constant"
   ]
  },
  {
   "cell_type": "markdown",
   "metadata": {},
   "source": [
    "Let's show these results ina graph:"
   ]
  },
  {
   "cell_type": "code",
   "execution_count": 24,
   "metadata": {
    "collapsed": false
   },
   "outputs": [
    {
     "data": {
      "image/png": "[encoded data removed]",
      "text/plain": [
       "<matplotlib.figure.Figure at 0x116725c50>"
      ]
     },
     "metadata": {},
     "output_type": "display_data"
    }
   ],
   "source": [
    "ax = perf_1.table[['F1SCORE_TRAIN','F1SCORE_TEST']].plot(title=\"F1SCORE\",grid=True,figsize=(9,5.06))"
   ]
  },
  {
   "cell_type": "code",
   "execution_count": 25,
   "metadata": {
    "collapsed": false
   },
   "outputs": [
    {
     "data": {
      "image/png": "[encoded data removed]",
      "text/plain": [
       "<matplotlib.figure.Figure at 0x117105390>"
      ]
     },
     "metadata": {},
     "output_type": "display_data"
    }
   ],
   "source": [
    "ax = perf_1.table[[\"TRAIN_TIME\", \"PREDICT_TIME_TRAIN\", \"PREDICT_TIME_TEST\"]].plot(title=\"ELAPSED TIMES\",\n",
    "                                                                                grid=True,figsize=(9,5.06))"
   ]
  },
  {
   "cell_type": "code",
   "execution_count": 26,
   "metadata": {
    "collapsed": false
   },
   "outputs": [],
   "source": [
    "# Second model\n",
    "from sklearn.naive_bayes import GaussianNB \n",
    "clf = GaussianNB()\n",
    "\n",
    "# Fit model to training data\n",
    "#training_time = train_classifier(clf, X_train, y_train)  # note: using entire training set here\n",
    "#print clf  # you can inspect the learned model by printing it\n",
    "#print clf"
   ]
  },
  {
   "cell_type": "code",
   "execution_count": 27,
   "metadata": {
    "collapsed": false
   },
   "outputs": [],
   "source": [
    "#train_f1_score = predict_labels(clf, X_train, y_train)\n",
    "#print \"F1 score for training set: {}\".format(train_f1_score)"
   ]
  },
  {
   "cell_type": "code",
   "execution_count": 28,
   "metadata": {
    "collapsed": false
   },
   "outputs": [],
   "source": [
    "# Predict on test data\n",
    "#print \"F1 score for test set: {}\".format(predict_labels(clf, X_test, y_test))"
   ]
  },
  {
   "cell_type": "code",
   "execution_count": 29,
   "metadata": {
    "collapsed": false
   },
   "outputs": [
    {
     "name": "stdout",
     "output_type": "stream",
     "text": [
      "Perfomance table for GaussianNB: \n",
      "(*** note ***: times are expressed in milliseconds)\n"
     ]
    },
    {
     "data": {
      "text/html": [
       "<div>\n",
       "<table border=\"1\" class=\"dataframe\">\n",
       "  <thead>\n",
       "    <tr style=\"text-align: right;\">\n",
       "      <th></th>\n",
       "      <th>TRAIN_TIME</th>\n",
       "      <th>PREDICT_TIME_TRAIN</th>\n",
       "      <th>PREDICT_TIME_TEST</th>\n",
       "      <th>F1SCORE_TRAIN</th>\n",
       "      <th>F1SCORE_TEST</th>\n",
       "    </tr>\n",
       "    <tr>\n",
       "      <th># samples</th>\n",
       "      <th></th>\n",
       "      <th></th>\n",
       "      <th></th>\n",
       "      <th></th>\n",
       "      <th></th>\n",
       "    </tr>\n",
       "  </thead>\n",
       "  <tbody>\n",
       "    <tr>\n",
       "      <th>25</th>\n",
       "      <td>0.940084</td>\n",
       "      <td>0.310183</td>\n",
       "      <td>0.407934</td>\n",
       "      <td>0.971429</td>\n",
       "      <td>0.734043</td>\n",
       "    </tr>\n",
       "    <tr>\n",
       "      <th>50</th>\n",
       "      <td>0.656843</td>\n",
       "      <td>0.234842</td>\n",
       "      <td>0.305891</td>\n",
       "      <td>0.807692</td>\n",
       "      <td>0.556291</td>\n",
       "    </tr>\n",
       "    <tr>\n",
       "      <th>75</th>\n",
       "      <td>0.567913</td>\n",
       "      <td>0.261784</td>\n",
       "      <td>0.290871</td>\n",
       "      <td>0.280702</td>\n",
       "      <td>0.252101</td>\n",
       "    </tr>\n",
       "    <tr>\n",
       "      <th>100</th>\n",
       "      <td>0.625134</td>\n",
       "      <td>0.373125</td>\n",
       "      <td>0.306845</td>\n",
       "      <td>0.58</td>\n",
       "      <td>0.492537</td>\n",
       "    </tr>\n",
       "    <tr>\n",
       "      <th>125</th>\n",
       "      <td>0.722885</td>\n",
       "      <td>0.56386</td>\n",
       "      <td>0.379801</td>\n",
       "      <td>0.825581</td>\n",
       "      <td>0.777778</td>\n",
       "    </tr>\n",
       "    <tr>\n",
       "      <th>150</th>\n",
       "      <td>0.689983</td>\n",
       "      <td>0.31805</td>\n",
       "      <td>0.447989</td>\n",
       "      <td>0.830918</td>\n",
       "      <td>0.758974</td>\n",
       "    </tr>\n",
       "    <tr>\n",
       "      <th>175</th>\n",
       "      <td>0.872135</td>\n",
       "      <td>0.374079</td>\n",
       "      <td>0.679016</td>\n",
       "      <td>0.818182</td>\n",
       "      <td>0.767677</td>\n",
       "    </tr>\n",
       "    <tr>\n",
       "      <th>200</th>\n",
       "      <td>1.11794</td>\n",
       "      <td>0.859976</td>\n",
       "      <td>0.375032</td>\n",
       "      <td>0.818505</td>\n",
       "      <td>0.77451</td>\n",
       "    </tr>\n",
       "    <tr>\n",
       "      <th>225</th>\n",
       "      <td>0.936031</td>\n",
       "      <td>0.457048</td>\n",
       "      <td>0.331879</td>\n",
       "      <td>0.820189</td>\n",
       "      <td>0.768473</td>\n",
       "    </tr>\n",
       "    <tr>\n",
       "      <th>250</th>\n",
       "      <td>0.755072</td>\n",
       "      <td>0.369072</td>\n",
       "      <td>0.313997</td>\n",
       "      <td>0.81768</td>\n",
       "      <td>0.792453</td>\n",
       "    </tr>\n",
       "  </tbody>\n",
       "</table>\n",
       "</div>"
      ],
      "text/plain": [
       "          TRAIN_TIME PREDICT_TIME_TRAIN PREDICT_TIME_TEST F1SCORE_TRAIN F1SCORE_TEST\n",
       "# samples                                                                           \n",
       "25          0.940084           0.310183          0.407934      0.971429     0.734043\n",
       "50          0.656843           0.234842          0.305891      0.807692     0.556291\n",
       "75          0.567913           0.261784          0.290871      0.280702     0.252101\n",
       "100         0.625134           0.373125          0.306845          0.58     0.492537\n",
       "125         0.722885            0.56386          0.379801      0.825581     0.777778\n",
       "150         0.689983            0.31805          0.447989      0.830918     0.758974\n",
       "175         0.872135           0.374079          0.679016      0.818182     0.767677\n",
       "200          1.11794           0.859976          0.375032      0.818505      0.77451\n",
       "225         0.936031           0.457048          0.331879      0.820189     0.768473\n",
       "250         0.755072           0.369072          0.313997       0.81768     0.792453"
      ]
     },
     "execution_count": 29,
     "metadata": {},
     "output_type": "execute_result"
    }
   ],
   "source": [
    "# Run the helper function above for desired subsets of training data\n",
    "perf_2 = train_predict_lc(clf, X_train, y_train, X_test, y_test, training_set_sizes)\n",
    "print \"Perfomance table for GaussianNB: \"\n",
    "print \"(*** note ***: times are expressed in milliseconds)\" \n",
    "perf_2.table\n",
    "# Note: Keep the test set constant"
   ]
  },
  {
   "cell_type": "markdown",
   "metadata": {},
   "source": [
    "Let's diplay above data in graphs for Score and for timings, as we did for DecisionTreeClassifier:"
   ]
  },
  {
   "cell_type": "code",
   "execution_count": 30,
   "metadata": {
    "collapsed": false
   },
   "outputs": [
    {
     "name": "stdout",
     "output_type": "stream",
     "text": [
      "\n"
     ]
    },
    {
     "data": {
      "image/png": "[encoded data removed]",
      "text/plain": [
       "<matplotlib.figure.Figure at 0x117274210>"
      ]
     },
     "metadata": {},
     "output_type": "display_data"
    },
    {
     "data": {
      "image/png": "[encoded data removed]",
      "text/plain": [
       "<matplotlib.figure.Figure at 0x117274350>"
      ]
     },
     "metadata": {},
     "output_type": "display_data"
    }
   ],
   "source": [
    "ax = perf_2.table[['F1SCORE_TRAIN','F1SCORE_TEST']].plot(title=\"F1SCORE\",grid=True,figsize=(9,5.06))\n",
    "print\n",
    "ax = perf_2.table[[\"TRAIN_TIME\", \"PREDICT_TIME_TRAIN\", \"PREDICT_TIME_TEST\"]].plot(title=\"ELAPSED TIMES\",\n",
    "                                                                                grid=True,figsize=(9,5.06))"
   ]
  },
  {
   "cell_type": "code",
   "execution_count": 31,
   "metadata": {
    "collapsed": false
   },
   "outputs": [
    {
     "name": "stdout",
     "output_type": "stream",
     "text": [
      "Perfomance table for GaussianNB: \n",
      "(*** note ***: times are expressed in milliseconds)\n"
     ]
    },
    {
     "data": {
      "text/html": [
       "<div>\n",
       "<table border=\"1\" class=\"dataframe\">\n",
       "  <thead>\n",
       "    <tr style=\"text-align: right;\">\n",
       "      <th></th>\n",
       "      <th>TRAIN_TIME</th>\n",
       "      <th>PREDICT_TIME_TRAIN</th>\n",
       "      <th>PREDICT_TIME_TEST</th>\n",
       "      <th>F1SCORE_TRAIN</th>\n",
       "      <th>F1SCORE_TEST</th>\n",
       "    </tr>\n",
       "    <tr>\n",
       "      <th># samples</th>\n",
       "      <th></th>\n",
       "      <th></th>\n",
       "      <th></th>\n",
       "      <th></th>\n",
       "      <th></th>\n",
       "    </tr>\n",
       "  </thead>\n",
       "  <tbody>\n",
       "    <tr>\n",
       "      <th>25</th>\n",
       "      <td>126.376</td>\n",
       "      <td>0.699043</td>\n",
       "      <td>73.9951</td>\n",
       "      <td>1</td>\n",
       "      <td>0.754717</td>\n",
       "    </tr>\n",
       "    <tr>\n",
       "      <th>50</th>\n",
       "      <td>0.612974</td>\n",
       "      <td>0.146866</td>\n",
       "      <td>0.161171</td>\n",
       "      <td>0.984127</td>\n",
       "      <td>0.714286</td>\n",
       "    </tr>\n",
       "    <tr>\n",
       "      <th>75</th>\n",
       "      <td>0.828981</td>\n",
       "      <td>0.625134</td>\n",
       "      <td>0.154018</td>\n",
       "      <td>0.914286</td>\n",
       "      <td>0.75</td>\n",
       "    </tr>\n",
       "    <tr>\n",
       "      <th>100</th>\n",
       "      <td>1.08886</td>\n",
       "      <td>0.144005</td>\n",
       "      <td>0.150919</td>\n",
       "      <td>0.916667</td>\n",
       "      <td>0.742857</td>\n",
       "    </tr>\n",
       "    <tr>\n",
       "      <th>125</th>\n",
       "      <td>1.09696</td>\n",
       "      <td>0.144958</td>\n",
       "      <td>0.14782</td>\n",
       "      <td>0.88172</td>\n",
       "      <td>0.775701</td>\n",
       "    </tr>\n",
       "    <tr>\n",
       "      <th>150</th>\n",
       "      <td>1.31488</td>\n",
       "      <td>0.157118</td>\n",
       "      <td>0.65589</td>\n",
       "      <td>0.873874</td>\n",
       "      <td>0.783019</td>\n",
       "    </tr>\n",
       "    <tr>\n",
       "      <th>175</th>\n",
       "      <td>1.52111</td>\n",
       "      <td>0.159979</td>\n",
       "      <td>0.151873</td>\n",
       "      <td>0.882129</td>\n",
       "      <td>0.785047</td>\n",
       "    </tr>\n",
       "    <tr>\n",
       "      <th>200</th>\n",
       "      <td>1.64509</td>\n",
       "      <td>0.169039</td>\n",
       "      <td>0.153065</td>\n",
       "      <td>0.869565</td>\n",
       "      <td>0.775701</td>\n",
       "    </tr>\n",
       "    <tr>\n",
       "      <th>225</th>\n",
       "      <td>1.98817</td>\n",
       "      <td>0.177145</td>\n",
       "      <td>0.154972</td>\n",
       "      <td>0.875</td>\n",
       "      <td>0.769953</td>\n",
       "    </tr>\n",
       "    <tr>\n",
       "      <th>250</th>\n",
       "      <td>1.91784</td>\n",
       "      <td>0.167847</td>\n",
       "      <td>0.153065</td>\n",
       "      <td>0.857143</td>\n",
       "      <td>0.796209</td>\n",
       "    </tr>\n",
       "  </tbody>\n",
       "</table>\n",
       "</div>"
      ],
      "text/plain": [
       "          TRAIN_TIME PREDICT_TIME_TRAIN PREDICT_TIME_TEST F1SCORE_TRAIN F1SCORE_TEST\n",
       "# samples                                                                           \n",
       "25           126.376           0.699043           73.9951             1     0.754717\n",
       "50          0.612974           0.146866          0.161171      0.984127     0.714286\n",
       "75          0.828981           0.625134          0.154018      0.914286         0.75\n",
       "100          1.08886           0.144005          0.150919      0.916667     0.742857\n",
       "125          1.09696           0.144958           0.14782       0.88172     0.775701\n",
       "150          1.31488           0.157118           0.65589      0.873874     0.783019\n",
       "175          1.52111           0.159979          0.151873      0.882129     0.785047\n",
       "200          1.64509           0.169039          0.153065      0.869565     0.775701\n",
       "225          1.98817           0.177145          0.154972         0.875     0.769953\n",
       "250          1.91784           0.167847          0.153065      0.857143     0.796209"
      ]
     },
     "execution_count": 31,
     "metadata": {},
     "output_type": "execute_result"
    }
   ],
   "source": [
    "# Third model\n",
    "from sklearn.linear_model import LogisticRegression \n",
    "clf = LogisticRegression(penalty='l2', max_iter=300)#, class_weight=\"balanced\")\n",
    "\n",
    "# Run the helper function above for desired subsets of training data\n",
    "perf_3 = train_predict_lc(clf, X_train, y_train, X_test, y_test, training_set_sizes)\n",
    "print \"Perfomance table for GaussianNB: \"\n",
    "print \"(*** note ***: times are expressed in milliseconds)\" \n",
    "perf_3.table\n",
    "# Note: Keep the test set constant"
   ]
  },
  {
   "cell_type": "markdown",
   "metadata": {},
   "source": [
    "Let's diplay above data in graphs for Score and for timings, as we did before:"
   ]
  },
  {
   "cell_type": "code",
   "execution_count": 32,
   "metadata": {
    "collapsed": false
   },
   "outputs": [
    {
     "name": "stdout",
     "output_type": "stream",
     "text": [
      "\n"
     ]
    },
    {
     "data": {
      "image/png": "[encoded data removed]",
      "text/plain": [
       "<matplotlib.figure.Figure at 0x11725e510>"
      ]
     },
     "metadata": {},
     "output_type": "display_data"
    },
    {
     "data": {
      "image/png": "[encoded data removed]",
      "text/plain": [
       "<matplotlib.figure.Figure at 0x117d27110>"
      ]
     },
     "metadata": {},
     "output_type": "display_data"
    }
   ],
   "source": [
    "ax = perf_3.table[['F1SCORE_TRAIN','F1SCORE_TEST']].plot(title=\"F1SCORE\",grid=True,figsize=(9,5.06))\n",
    "print\n",
    "ax = perf_3.table[[\"TRAIN_TIME\", \"PREDICT_TIME_TRAIN\", \"PREDICT_TIME_TEST\"]].plot(title=\"ELAPSED TIMES\",\n",
    "                                                                                grid=True,figsize=(9,5.06))"
   ]
  },
  {
   "cell_type": "code",
   "execution_count": 33,
   "metadata": {
    "collapsed": false
   },
   "outputs": [
    {
     "name": "stdout",
     "output_type": "stream",
     "text": [
      "SGDClassifier(alpha=0.0001, average=False, class_weight='balanced',\n",
      "       epsilon=0.1, eta0=0.0, fit_intercept=True, l1_ratio=0.15,\n",
      "       learning_rate='optimal', loss='hinge', n_iter=5, n_jobs=1,\n",
      "       penalty='l2', power_t=0.5, random_state=None, shuffle=True,\n",
      "       verbose=0, warm_start=False)\n"
     ]
    }
   ],
   "source": [
    "# model 4\n",
    "from sklearn.linear_model import SGDClassifier \n",
    "clf = SGDClassifier(shuffle=True, class_weight='balanced')\n",
    "\n",
    "# Fit model to training data\n",
    "train_classifier(clf, X_train, y_train)  # note: using entire training set here\n",
    "#print clf  # you can inspect the learned model by printing it\n",
    "print clf"
   ]
  },
  {
   "cell_type": "code",
   "execution_count": 34,
   "metadata": {
    "collapsed": false
   },
   "outputs": [
    {
     "name": "stdout",
     "output_type": "stream",
     "text": [
      "F1 score for training set: (0.15789473684210525, 0.0005431175231933594)\n"
     ]
    }
   ],
   "source": [
    "train_f1_score = predict_labels(clf, X_train, y_train)\n",
    "print \"F1 score for training set: {}\".format(train_f1_score)"
   ]
  },
  {
   "cell_type": "code",
   "execution_count": 35,
   "metadata": {
    "collapsed": false
   },
   "outputs": [
    {
     "name": "stdout",
     "output_type": "stream",
     "text": [
      "F1 score for test set: (0.22641509433962262, 0.0004949569702148438)\n"
     ]
    }
   ],
   "source": [
    "# Predict on test data\n",
    "print \"F1 score for test set: {}\".format(predict_labels(clf, X_test, y_test))"
   ]
  },
  {
   "cell_type": "code",
   "execution_count": 45,
   "metadata": {
    "collapsed": false
   },
   "outputs": [
    {
     "name": "stdout",
     "output_type": "stream",
     "text": [
      "------------------------------------------\n",
      "Training set size: 50\n",
      "Training SGDClassifier...\n",
      "Done!\n",
      "Training time (secs): 0.001\n",
      "Predicting labels using SGDClassifier...\n",
      "Done!\n",
      "Prediction time (secs): 0.000\n",
      "F1 score for training set: 0.805555555556\n",
      "Predicting labels using SGDClassifier...\n",
      "Done!\n",
      "Prediction time (secs): 0.000\n",
      "F1 score for test set: 0.746268656716\n",
      "------------------------------------------\n",
      "Training set size: 75\n",
      "Training SGDClassifier...\n",
      "Done!\n",
      "Training time (secs): 0.001\n",
      "Predicting labels using SGDClassifier...\n",
      "Done!\n",
      "Prediction time (secs): 0.000\n",
      "F1 score for training set: 0.8\n",
      "Predicting labels using SGDClassifier...\n",
      "Done!\n",
      "Prediction time (secs): 0.000\n",
      "F1 score for test set: 0.774193548387\n",
      "------------------------------------------\n",
      "Training set size: 100\n",
      "Training SGDClassifier...\n",
      "Done!\n",
      "Training time (secs): 0.001\n",
      "Predicting labels using SGDClassifier...\n",
      "Done!\n",
      "Prediction time (secs): 0.000\n",
      "F1 score for training set: 0.530612244898\n",
      "Predicting labels using SGDClassifier...\n",
      "Done!\n",
      "Prediction time (secs): 0.000\n",
      "F1 score for test set: 0.626262626263\n",
      "------------------------------------------\n",
      "Training set size: 125\n",
      "Training SGDClassifier...\n",
      "Done!\n",
      "Training time (secs): 0.001\n",
      "Predicting labels using SGDClassifier...\n",
      "Done!\n",
      "Prediction time (secs): 0.000\n",
      "F1 score for training set: 0.796116504854\n",
      "Predicting labels using SGDClassifier...\n",
      "Done!\n",
      "Prediction time (secs): 0.000\n",
      "F1 score for test set: 0.774193548387\n",
      "------------------------------------------\n",
      "Training set size: 150\n",
      "Training SGDClassifier...\n",
      "Done!\n",
      "Training time (secs): 0.001\n",
      "Predicting labels using SGDClassifier...\n",
      "Done!\n",
      "Prediction time (secs): 0.000\n",
      "F1 score for training set: 0.168067226891\n",
      "Predicting labels using SGDClassifier...\n",
      "Done!\n",
      "Prediction time (secs): 0.000\n",
      "F1 score for test set: 0.0923076923077\n",
      "------------------------------------------\n",
      "Training set size: 175\n",
      "Training SGDClassifier...\n",
      "Done!\n",
      "Training time (secs): 0.006\n",
      "Predicting labels using SGDClassifier...\n",
      "Done!\n",
      "Prediction time (secs): 0.000\n",
      "F1 score for training set: 0.816326530612\n",
      "Predicting labels using SGDClassifier...\n",
      "Done!\n",
      "Prediction time (secs): 0.000\n",
      "F1 score for test set: 0.766233766234\n",
      "------------------------------------------\n",
      "Training set size: 200\n",
      "Training SGDClassifier...\n",
      "Done!\n",
      "Training time (secs): 0.001\n",
      "Predicting labels using SGDClassifier...\n",
      "Done!\n",
      "Prediction time (secs): 0.000\n",
      "F1 score for training set: 0.264150943396\n",
      "Predicting labels using SGDClassifier...\n",
      "Done!\n",
      "Prediction time (secs): 0.000\n",
      "F1 score for test set: 0.346666666667\n",
      "------------------------------------------\n",
      "Training set size: 225\n",
      "Training SGDClassifier...\n",
      "Done!\n",
      "Training time (secs): 0.001\n",
      "Predicting labels using SGDClassifier...\n",
      "Done!\n",
      "Prediction time (secs): 0.000\n",
      "F1 score for training set: 0.757281553398\n",
      "Predicting labels using SGDClassifier...\n",
      "Done!\n",
      "Prediction time (secs): 0.000\n",
      "F1 score for test set: 0.766917293233\n",
      "------------------------------------------\n",
      "Training set size: 250\n",
      "Training SGDClassifier...\n",
      "Done!\n",
      "Training time (secs): 0.001\n",
      "Predicting labels using SGDClassifier...\n",
      "Done!\n",
      "Prediction time (secs): 0.000\n",
      "F1 score for training set: 0.689419795222\n",
      "Predicting labels using SGDClassifier...\n",
      "Done!\n",
      "Prediction time (secs): 0.000\n",
      "F1 score for test set: 0.666666666667\n",
      "------------------------------------------\n",
      "Training set size: 275\n",
      "Training SGDClassifier...\n",
      "Done!\n",
      "Training time (secs): 0.001\n",
      "Predicting labels using SGDClassifier...\n",
      "Done!\n",
      "Prediction time (secs): 0.000\n",
      "F1 score for training set: 0.830434782609\n",
      "Predicting labels using SGDClassifier...\n",
      "Done!\n",
      "Prediction time (secs): 0.000\n",
      "F1 score for test set: 0.779220779221\n",
      "------------------------------------------\n",
      "Training set size: 300\n",
      "Training SGDClassifier...\n",
      "Done!\n",
      "Training time (secs): 0.001\n",
      "Predicting labels using SGDClassifier...\n",
      "Done!\n",
      "Prediction time (secs): 0.000\n",
      "F1 score for training set: 0.779411764706\n",
      "Predicting labels using SGDClassifier...\n",
      "Done!\n",
      "Prediction time (secs): 0.000\n",
      "F1 score for test set: 0.755905511811\n"
     ]
    }
   ],
   "source": [
    "# Run the helper function above for desired subsets of training data\n",
    "for train_set_size in range(50,301,25):\n",
    "    #print \"Using training set size {}:\".format(train_set_size)\n",
    "    train_predict(clf, X_train[:train_set_size], y_train[:train_set_size], X_test, y_test)\n",
    "# Note: Keep the test set constant"
   ]
  },
  {
   "cell_type": "markdown",
   "metadata": {},
   "source": [
    "## 5. Choosing the Best Model\n",
    "\n",
    "- Based on the experiments you performed earlier, in 1-2 paragraphs explain to the board of supervisors what single model you chose as the best model. Which model is generally the most appropriate based on the available data, limited resources, cost, and performance?\n",
    "- In 1-2 paragraphs explain to the board of supervisors in layman's terms how the final model chosen is supposed to work (for example if you chose a Decision Tree or Support Vector Machine, how does it make a prediction).\n",
    "- Fine-tune the model. Use Gridsearch with at least one important parameter tuned and with at least 3 settings. Use the entire training set for this.\n",
    "- What is the model's final F<sub>1</sub> score?"
   ]
  },
  {
   "cell_type": "code",
   "execution_count": null,
   "metadata": {
    "collapsed": true
   },
   "outputs": [],
   "source": [
    "# TODO: Fine-tune your model and report the best F1 score"
   ]
  }
 ],
 "metadata": {
  "kernelspec": {
   "display_name": "Python 2",
   "language": "python",
   "name": "python2"
  },
  "language_info": {
   "codemirror_mode": {
    "name": "ipython",
    "version": 2
   },
   "file_extension": ".py",
   "mimetype": "text/x-python",
   "name": "python",
   "nbconvert_exporter": "python",
   "pygments_lexer": "ipython2",
   "version": "2.7.11"
  }
 },
 "nbformat": 4,
 "nbformat_minor": 0
}
