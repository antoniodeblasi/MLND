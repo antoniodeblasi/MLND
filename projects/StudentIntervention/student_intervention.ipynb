{
 "cells": [
  {
   "cell_type": "markdown",
   "metadata": {},
   "source": [
    "# Project 2: Supervised Learning\n",
    "### Building a Student Intervention System"
   ]
  },
  {
   "cell_type": "markdown",
   "metadata": {},
   "source": [
    "## 1. Classification vs Regression\n",
    "\n",
    "Your goal is to identify students who might need early intervention - which type of supervised machine learning problem is this, classification or regression? Why?\n",
    "\n",
    "<span style=\"color:#107896\", max-width=\"105ex\">\n",
    "This is a binary classification problem, since the prediction the system is required to do is of categorical kind, out of two mutually exclusive outputs, that is: \"student passes\" and \"student fails\"\n",
    "</span>"
   ]
  },
  {
   "cell_type": "markdown",
   "metadata": {},
   "source": [
    "## 2. Exploring the Data\n",
    "\n",
    "Let's go ahead and read in the student dataset first.\n",
    "\n",
    "_To execute a code cell, click inside it and press **Shift+Enter**._"
   ]
  },
  {
   "cell_type": "code",
   "execution_count": 405,
   "metadata": {
    "collapsed": false
   },
   "outputs": [],
   "source": [
    "# Import libraries\n",
    "%matplotlib inline\n",
    "import numpy as np\n",
    "import pandas as pd\n",
    "import matplotlib\n",
    "import matplotlib.pyplot as plt\n",
    "\n",
    "\n",
    "pd.set_option('display.width', 500)"
   ]
  },
  {
   "cell_type": "code",
   "execution_count": 406,
   "metadata": {
    "collapsed": false
   },
   "outputs": [
    {
     "name": "stdout",
     "output_type": "stream",
     "text": [
      "Student data read successfully!\n"
     ]
    }
   ],
   "source": [
    "# Read student data\n",
    "student_data = pd.read_csv(\"student-data.csv\")\n",
    "print \"Student data read successfully!\"\n",
    "# Note: The last column 'passed' is the target/label, all other are feature columns"
   ]
  },
  {
   "cell_type": "markdown",
   "metadata": {},
   "source": [
    "Now, can you find out the following facts about the dataset?\n",
    "- Total number of students\n",
    "- Number of students who passed\n",
    "- Number of students who failed\n",
    "- Graduation rate of the class (%)\n",
    "- Number of features\n",
    "\n",
    "_Use the code block below to compute these values. Instructions/steps are marked using **TODO**s._"
   ]
  },
  {
   "cell_type": "code",
   "execution_count": 407,
   "metadata": {
    "collapsed": false
   },
   "outputs": [
    {
     "name": "stdout",
     "output_type": "stream",
     "text": [
      "\n",
      "Total number of students:      395\n",
      "Number of students who passed: 265\n",
      "Number of students who failed: 130\n",
      "Number of features:            30\n",
      "Graduation rate of the class:  67.09%\n"
     ]
    }
   ],
   "source": [
    "# TODO: Compute desired values - replace each '?' with an appropriate expression/function call\n",
    "n_students = student_data.shape[0]\n",
    "n_features = student_data.shape[1] - 1\n",
    "n_passed = student_data.passed.value_counts()['yes']\n",
    "n_failed = student_data.passed.value_counts()['no']\n",
    "grad_rate = np.float(n_passed)/n_students*100\n",
    "print \"\\nTotal number of students:      {}\".format(n_students)\n",
    "print \"Number of students who passed: {}\".format(n_passed)\n",
    "print \"Number of students who failed: {}\".format(n_failed)\n",
    "print \"Number of features:            {}\".format(n_features)\n",
    "print \"Graduation rate of the class:  {:.2f}%\".format(grad_rate)"
   ]
  },
  {
   "cell_type": "markdown",
   "metadata": {},
   "source": [
    "#### A more detailed view of available data through a Data Quality Report"
   ]
  },
  {
   "cell_type": "markdown",
   "metadata": {},
   "source": [
    "Let's define a Python class that collects more detailed central tendency information about the available data"
   ]
  },
  {
   "cell_type": "code",
   "execution_count": 408,
   "metadata": {
    "collapsed": true
   },
   "outputs": [],
   "source": [
    "class DataQualityReport(object):    \n",
    "    '''\n",
    "    Report about data basic statistics\n",
    "    '''\n",
    "    \n",
    "    CONT_TABLE_COLS = ['count', 'missing', 'cardinality', 'min', '1st_quartile', \n",
    "                       'mean', 'median', '3rd_quartile', 'max', 'std_dev']\n",
    "    CAT_TABLE_COLS  = ['count', 'missing', 'cardinality', 'mode', 'mode_freq', \n",
    "                       'mode_percent', '2nd_mode', '2nd_mode_freq', '2nd_mode_percent']\n",
    "        \n",
    "    def __init__(self, df, continuous_features, categorical_features):\n",
    "        '''\n",
    "        Constructor\n",
    "        Parameters:\n",
    "            df - pandas DataFrame object containing the dataset\n",
    "            categorical_features - the list of feature names of categorical type\n",
    "            continuous_features - the list of feature names of continuous type\n",
    "        '''\n",
    "        self._continuous_features   = continuous_features\n",
    "        self._categorical_features  = categorical_features\n",
    "\n",
    "        self.cont_table = pd.DataFrame(columns=DataQualityReport.CONT_TABLE_COLS, index=continuous_features)\n",
    "        self.cat_table  = pd.DataFrame(columns=DataQualityReport.CAT_TABLE_COLS, index=categorical_features)\n",
    "        self.cont_table.index.name = 'feature'\n",
    "        self.cat_table.index.name = 'feature'\n",
    "        stats = df.describe()\n",
    "        self._populate_cont_table(df, stats)\n",
    "        self._populate_cat_table(df, stats)\n",
    "  \n",
    "    def _populate_cont_table(self, df, stats):\n",
    "        for feature in self._continuous_features:\n",
    "            self.cont_table['count'][feature]           = df[feature].value_counts().sum()\n",
    "            self.cont_table['missing'][feature]         = df[feature].isnull().sum()\n",
    "            self.cont_table['cardinality'][feature]     = df[feature].unique().shape[0]\n",
    "            self.cont_table['min'][feature]             = stats[feature]['min']\n",
    "            self.cont_table['1st_quartile'][feature]    = stats[feature]['25%']\n",
    "            self.cont_table['mean'][feature]            = stats[feature]['mean']\n",
    "            self.cont_table['median'][feature]          = stats[feature]['50%']\n",
    "            self.cont_table['3rd_quartile'][feature]    = stats[feature]['75%']\n",
    "            self.cont_table['max'][feature]             = stats[feature]['max']\n",
    "            self.cont_table['std_dev'][feature]         = stats[feature]['std']\n",
    "            \n",
    "            \n",
    "    def _populate_cat_table(self, df, stats):\n",
    "        for feature in self._categorical_features:\n",
    "            self.cat_table['count'][feature]           = df[feature].value_counts().sum()\n",
    "            self.cat_table['missing'][feature]         = df[feature].isnull().sum()\n",
    "            self.cat_table['cardinality'][feature]     = df[feature].unique().shape[0]\n",
    "            vc = df[feature].value_counts()\n",
    "            self.cat_table['mode'][feature]            = vc.index[0]\n",
    "            self.cat_table['mode_freq'][feature]       = vc.values[0]\n",
    "            self.cat_table['mode_percent'][feature]    = float(vc.values[0])/vc.sum()*100\n",
    "            if vc.shape[0] > 1:\n",
    "                self.cat_table['2nd_mode'][feature]            = vc.index[1]\n",
    "                self.cat_table['2nd_mode_freq'][feature]       = vc.values[1]\n",
    "                self.cat_table['2nd_mode_percent'][feature]    = float(vc.values[1])/vc.sum()*100"
   ]
  },
  {
   "cell_type": "markdown",
   "metadata": {},
   "source": [
    "In our dataset, we find the following continuous/numeric descriptive features:"
   ]
  },
  {
   "cell_type": "code",
   "execution_count": 409,
   "metadata": {
    "collapsed": true
   },
   "outputs": [],
   "source": [
    "numeric_features = ['age', 'Medu', 'Fedu', 'traveltime', 'studytime', 'failures', 'famrel', 'freetime', \n",
    "                    'goout', 'Dalc', 'Walc', 'health', 'absences']"
   ]
  },
  {
   "cell_type": "markdown",
   "metadata": {},
   "source": [
    "and the following categorical features:"
   ]
  },
  {
   "cell_type": "code",
   "execution_count": 410,
   "metadata": {
    "collapsed": true
   },
   "outputs": [],
   "source": [
    "categorical_features = ['school', 'sex', 'address', 'famsize', 'Pstatus', 'Mjob', 'Fjob', 'reason', 'guardian', \n",
    "                        'schoolsup', 'famsup', 'paid', 'activities', 'nursery', 'higher','internet', 'romantic']"
   ]
  },
  {
   "cell_type": "markdown",
   "metadata": {},
   "source": [
    "Let's build a data quality report:"
   ]
  },
  {
   "cell_type": "code",
   "execution_count": 411,
   "metadata": {
    "collapsed": false
   },
   "outputs": [],
   "source": [
    "dqr = DataQualityReport(student_data, numeric_features, categorical_features)"
   ]
  },
  {
   "cell_type": "markdown",
   "metadata": {},
   "source": [
    "print data quality report for numeric features:"
   ]
  },
  {
   "cell_type": "code",
   "execution_count": 412,
   "metadata": {
    "collapsed": false
   },
   "outputs": [
    {
     "name": "stdout",
     "output_type": "stream",
     "text": [
      "\n",
      "NUMERIC FEATURES DATA QUALITY REPORT:\n"
     ]
    },
    {
     "data": {
      "text/html": [
       "<div>\n",
       "<table border=\"1\" class=\"dataframe\">\n",
       "  <thead>\n",
       "    <tr style=\"text-align: right;\">\n",
       "      <th></th>\n",
       "      <th>count</th>\n",
       "      <th>missing</th>\n",
       "      <th>cardinality</th>\n",
       "      <th>min</th>\n",
       "      <th>1st_quartile</th>\n",
       "      <th>mean</th>\n",
       "      <th>median</th>\n",
       "      <th>3rd_quartile</th>\n",
       "      <th>max</th>\n",
       "      <th>std_dev</th>\n",
       "    </tr>\n",
       "    <tr>\n",
       "      <th>feature</th>\n",
       "      <th></th>\n",
       "      <th></th>\n",
       "      <th></th>\n",
       "      <th></th>\n",
       "      <th></th>\n",
       "      <th></th>\n",
       "      <th></th>\n",
       "      <th></th>\n",
       "      <th></th>\n",
       "      <th></th>\n",
       "    </tr>\n",
       "  </thead>\n",
       "  <tbody>\n",
       "    <tr>\n",
       "      <th>age</th>\n",
       "      <td>395</td>\n",
       "      <td>0</td>\n",
       "      <td>8</td>\n",
       "      <td>15</td>\n",
       "      <td>16</td>\n",
       "      <td>16.6962</td>\n",
       "      <td>17</td>\n",
       "      <td>18</td>\n",
       "      <td>22</td>\n",
       "      <td>1.27604</td>\n",
       "    </tr>\n",
       "    <tr>\n",
       "      <th>Medu</th>\n",
       "      <td>395</td>\n",
       "      <td>0</td>\n",
       "      <td>5</td>\n",
       "      <td>0</td>\n",
       "      <td>2</td>\n",
       "      <td>2.74937</td>\n",
       "      <td>3</td>\n",
       "      <td>4</td>\n",
       "      <td>4</td>\n",
       "      <td>1.09474</td>\n",
       "    </tr>\n",
       "    <tr>\n",
       "      <th>Fedu</th>\n",
       "      <td>395</td>\n",
       "      <td>0</td>\n",
       "      <td>5</td>\n",
       "      <td>0</td>\n",
       "      <td>2</td>\n",
       "      <td>2.52152</td>\n",
       "      <td>2</td>\n",
       "      <td>3</td>\n",
       "      <td>4</td>\n",
       "      <td>1.0882</td>\n",
       "    </tr>\n",
       "    <tr>\n",
       "      <th>traveltime</th>\n",
       "      <td>395</td>\n",
       "      <td>0</td>\n",
       "      <td>4</td>\n",
       "      <td>1</td>\n",
       "      <td>1</td>\n",
       "      <td>1.4481</td>\n",
       "      <td>1</td>\n",
       "      <td>2</td>\n",
       "      <td>4</td>\n",
       "      <td>0.697505</td>\n",
       "    </tr>\n",
       "    <tr>\n",
       "      <th>studytime</th>\n",
       "      <td>395</td>\n",
       "      <td>0</td>\n",
       "      <td>4</td>\n",
       "      <td>1</td>\n",
       "      <td>1</td>\n",
       "      <td>2.03544</td>\n",
       "      <td>2</td>\n",
       "      <td>2</td>\n",
       "      <td>4</td>\n",
       "      <td>0.83924</td>\n",
       "    </tr>\n",
       "    <tr>\n",
       "      <th>failures</th>\n",
       "      <td>395</td>\n",
       "      <td>0</td>\n",
       "      <td>4</td>\n",
       "      <td>0</td>\n",
       "      <td>0</td>\n",
       "      <td>0.334177</td>\n",
       "      <td>0</td>\n",
       "      <td>0</td>\n",
       "      <td>3</td>\n",
       "      <td>0.743651</td>\n",
       "    </tr>\n",
       "    <tr>\n",
       "      <th>famrel</th>\n",
       "      <td>395</td>\n",
       "      <td>0</td>\n",
       "      <td>5</td>\n",
       "      <td>1</td>\n",
       "      <td>4</td>\n",
       "      <td>3.9443</td>\n",
       "      <td>4</td>\n",
       "      <td>5</td>\n",
       "      <td>5</td>\n",
       "      <td>0.896659</td>\n",
       "    </tr>\n",
       "    <tr>\n",
       "      <th>freetime</th>\n",
       "      <td>395</td>\n",
       "      <td>0</td>\n",
       "      <td>5</td>\n",
       "      <td>1</td>\n",
       "      <td>3</td>\n",
       "      <td>3.23544</td>\n",
       "      <td>3</td>\n",
       "      <td>4</td>\n",
       "      <td>5</td>\n",
       "      <td>0.998862</td>\n",
       "    </tr>\n",
       "    <tr>\n",
       "      <th>goout</th>\n",
       "      <td>395</td>\n",
       "      <td>0</td>\n",
       "      <td>5</td>\n",
       "      <td>1</td>\n",
       "      <td>2</td>\n",
       "      <td>3.10886</td>\n",
       "      <td>3</td>\n",
       "      <td>4</td>\n",
       "      <td>5</td>\n",
       "      <td>1.11328</td>\n",
       "    </tr>\n",
       "    <tr>\n",
       "      <th>Dalc</th>\n",
       "      <td>395</td>\n",
       "      <td>0</td>\n",
       "      <td>5</td>\n",
       "      <td>1</td>\n",
       "      <td>1</td>\n",
       "      <td>1.48101</td>\n",
       "      <td>1</td>\n",
       "      <td>2</td>\n",
       "      <td>5</td>\n",
       "      <td>0.890741</td>\n",
       "    </tr>\n",
       "    <tr>\n",
       "      <th>Walc</th>\n",
       "      <td>395</td>\n",
       "      <td>0</td>\n",
       "      <td>5</td>\n",
       "      <td>1</td>\n",
       "      <td>1</td>\n",
       "      <td>2.29114</td>\n",
       "      <td>2</td>\n",
       "      <td>3</td>\n",
       "      <td>5</td>\n",
       "      <td>1.2879</td>\n",
       "    </tr>\n",
       "    <tr>\n",
       "      <th>health</th>\n",
       "      <td>395</td>\n",
       "      <td>0</td>\n",
       "      <td>5</td>\n",
       "      <td>1</td>\n",
       "      <td>3</td>\n",
       "      <td>3.55443</td>\n",
       "      <td>4</td>\n",
       "      <td>5</td>\n",
       "      <td>5</td>\n",
       "      <td>1.3903</td>\n",
       "    </tr>\n",
       "    <tr>\n",
       "      <th>absences</th>\n",
       "      <td>395</td>\n",
       "      <td>0</td>\n",
       "      <td>34</td>\n",
       "      <td>0</td>\n",
       "      <td>0</td>\n",
       "      <td>5.70886</td>\n",
       "      <td>4</td>\n",
       "      <td>8</td>\n",
       "      <td>75</td>\n",
       "      <td>8.0031</td>\n",
       "    </tr>\n",
       "  </tbody>\n",
       "</table>\n",
       "</div>"
      ],
      "text/plain": [
       "           count missing cardinality min 1st_quartile      mean median 3rd_quartile max   std_dev\n",
       "feature                                                                                          \n",
       "age          395       0           8  15           16   16.6962     17           18  22   1.27604\n",
       "Medu         395       0           5   0            2   2.74937      3            4   4   1.09474\n",
       "Fedu         395       0           5   0            2   2.52152      2            3   4    1.0882\n",
       "traveltime   395       0           4   1            1    1.4481      1            2   4  0.697505\n",
       "studytime    395       0           4   1            1   2.03544      2            2   4   0.83924\n",
       "failures     395       0           4   0            0  0.334177      0            0   3  0.743651\n",
       "famrel       395       0           5   1            4    3.9443      4            5   5  0.896659\n",
       "freetime     395       0           5   1            3   3.23544      3            4   5  0.998862\n",
       "goout        395       0           5   1            2   3.10886      3            4   5   1.11328\n",
       "Dalc         395       0           5   1            1   1.48101      1            2   5  0.890741\n",
       "Walc         395       0           5   1            1   2.29114      2            3   5    1.2879\n",
       "health       395       0           5   1            3   3.55443      4            5   5    1.3903\n",
       "absences     395       0          34   0            0   5.70886      4            8  75    8.0031"
      ]
     },
     "execution_count": 412,
     "metadata": {},
     "output_type": "execute_result"
    }
   ],
   "source": [
    "print \"\\nNUMERIC FEATURES DATA QUALITY REPORT:\"\n",
    "dqr.cont_table"
   ]
  },
  {
   "cell_type": "markdown",
   "metadata": {},
   "source": [
    "and print data quality report table for categorical features:"
   ]
  },
  {
   "cell_type": "code",
   "execution_count": 413,
   "metadata": {
    "collapsed": false
   },
   "outputs": [
    {
     "name": "stdout",
     "output_type": "stream",
     "text": [
      "\n",
      "CATEGORICAL FEATURES DATA QUALITY REPORT:\n"
     ]
    },
    {
     "data": {
      "text/html": [
       "<div>\n",
       "<table border=\"1\" class=\"dataframe\">\n",
       "  <thead>\n",
       "    <tr style=\"text-align: right;\">\n",
       "      <th></th>\n",
       "      <th>count</th>\n",
       "      <th>missing</th>\n",
       "      <th>cardinality</th>\n",
       "      <th>mode</th>\n",
       "      <th>mode_freq</th>\n",
       "      <th>mode_percent</th>\n",
       "      <th>2nd_mode</th>\n",
       "      <th>2nd_mode_freq</th>\n",
       "      <th>2nd_mode_percent</th>\n",
       "    </tr>\n",
       "    <tr>\n",
       "      <th>feature</th>\n",
       "      <th></th>\n",
       "      <th></th>\n",
       "      <th></th>\n",
       "      <th></th>\n",
       "      <th></th>\n",
       "      <th></th>\n",
       "      <th></th>\n",
       "      <th></th>\n",
       "      <th></th>\n",
       "    </tr>\n",
       "  </thead>\n",
       "  <tbody>\n",
       "    <tr>\n",
       "      <th>school</th>\n",
       "      <td>395</td>\n",
       "      <td>0</td>\n",
       "      <td>2</td>\n",
       "      <td>GP</td>\n",
       "      <td>349</td>\n",
       "      <td>88.3544</td>\n",
       "      <td>MS</td>\n",
       "      <td>46</td>\n",
       "      <td>11.6456</td>\n",
       "    </tr>\n",
       "    <tr>\n",
       "      <th>sex</th>\n",
       "      <td>395</td>\n",
       "      <td>0</td>\n",
       "      <td>2</td>\n",
       "      <td>F</td>\n",
       "      <td>208</td>\n",
       "      <td>52.6582</td>\n",
       "      <td>M</td>\n",
       "      <td>187</td>\n",
       "      <td>47.3418</td>\n",
       "    </tr>\n",
       "    <tr>\n",
       "      <th>address</th>\n",
       "      <td>395</td>\n",
       "      <td>0</td>\n",
       "      <td>2</td>\n",
       "      <td>U</td>\n",
       "      <td>307</td>\n",
       "      <td>77.7215</td>\n",
       "      <td>R</td>\n",
       "      <td>88</td>\n",
       "      <td>22.2785</td>\n",
       "    </tr>\n",
       "    <tr>\n",
       "      <th>famsize</th>\n",
       "      <td>395</td>\n",
       "      <td>0</td>\n",
       "      <td>2</td>\n",
       "      <td>GT3</td>\n",
       "      <td>281</td>\n",
       "      <td>71.1392</td>\n",
       "      <td>LE3</td>\n",
       "      <td>114</td>\n",
       "      <td>28.8608</td>\n",
       "    </tr>\n",
       "    <tr>\n",
       "      <th>Pstatus</th>\n",
       "      <td>395</td>\n",
       "      <td>0</td>\n",
       "      <td>2</td>\n",
       "      <td>T</td>\n",
       "      <td>354</td>\n",
       "      <td>89.6203</td>\n",
       "      <td>A</td>\n",
       "      <td>41</td>\n",
       "      <td>10.3797</td>\n",
       "    </tr>\n",
       "    <tr>\n",
       "      <th>Mjob</th>\n",
       "      <td>395</td>\n",
       "      <td>0</td>\n",
       "      <td>5</td>\n",
       "      <td>other</td>\n",
       "      <td>141</td>\n",
       "      <td>35.6962</td>\n",
       "      <td>services</td>\n",
       "      <td>103</td>\n",
       "      <td>26.0759</td>\n",
       "    </tr>\n",
       "    <tr>\n",
       "      <th>Fjob</th>\n",
       "      <td>395</td>\n",
       "      <td>0</td>\n",
       "      <td>5</td>\n",
       "      <td>other</td>\n",
       "      <td>217</td>\n",
       "      <td>54.9367</td>\n",
       "      <td>services</td>\n",
       "      <td>111</td>\n",
       "      <td>28.1013</td>\n",
       "    </tr>\n",
       "    <tr>\n",
       "      <th>reason</th>\n",
       "      <td>395</td>\n",
       "      <td>0</td>\n",
       "      <td>4</td>\n",
       "      <td>course</td>\n",
       "      <td>145</td>\n",
       "      <td>36.7089</td>\n",
       "      <td>home</td>\n",
       "      <td>109</td>\n",
       "      <td>27.5949</td>\n",
       "    </tr>\n",
       "    <tr>\n",
       "      <th>guardian</th>\n",
       "      <td>395</td>\n",
       "      <td>0</td>\n",
       "      <td>3</td>\n",
       "      <td>mother</td>\n",
       "      <td>273</td>\n",
       "      <td>69.1139</td>\n",
       "      <td>father</td>\n",
       "      <td>90</td>\n",
       "      <td>22.7848</td>\n",
       "    </tr>\n",
       "    <tr>\n",
       "      <th>schoolsup</th>\n",
       "      <td>395</td>\n",
       "      <td>0</td>\n",
       "      <td>2</td>\n",
       "      <td>no</td>\n",
       "      <td>344</td>\n",
       "      <td>87.0886</td>\n",
       "      <td>yes</td>\n",
       "      <td>51</td>\n",
       "      <td>12.9114</td>\n",
       "    </tr>\n",
       "    <tr>\n",
       "      <th>famsup</th>\n",
       "      <td>395</td>\n",
       "      <td>0</td>\n",
       "      <td>2</td>\n",
       "      <td>yes</td>\n",
       "      <td>242</td>\n",
       "      <td>61.2658</td>\n",
       "      <td>no</td>\n",
       "      <td>153</td>\n",
       "      <td>38.7342</td>\n",
       "    </tr>\n",
       "    <tr>\n",
       "      <th>paid</th>\n",
       "      <td>395</td>\n",
       "      <td>0</td>\n",
       "      <td>2</td>\n",
       "      <td>no</td>\n",
       "      <td>214</td>\n",
       "      <td>54.1772</td>\n",
       "      <td>yes</td>\n",
       "      <td>181</td>\n",
       "      <td>45.8228</td>\n",
       "    </tr>\n",
       "    <tr>\n",
       "      <th>activities</th>\n",
       "      <td>395</td>\n",
       "      <td>0</td>\n",
       "      <td>2</td>\n",
       "      <td>yes</td>\n",
       "      <td>201</td>\n",
       "      <td>50.8861</td>\n",
       "      <td>no</td>\n",
       "      <td>194</td>\n",
       "      <td>49.1139</td>\n",
       "    </tr>\n",
       "    <tr>\n",
       "      <th>nursery</th>\n",
       "      <td>395</td>\n",
       "      <td>0</td>\n",
       "      <td>2</td>\n",
       "      <td>yes</td>\n",
       "      <td>314</td>\n",
       "      <td>79.4937</td>\n",
       "      <td>no</td>\n",
       "      <td>81</td>\n",
       "      <td>20.5063</td>\n",
       "    </tr>\n",
       "    <tr>\n",
       "      <th>higher</th>\n",
       "      <td>395</td>\n",
       "      <td>0</td>\n",
       "      <td>2</td>\n",
       "      <td>yes</td>\n",
       "      <td>375</td>\n",
       "      <td>94.9367</td>\n",
       "      <td>no</td>\n",
       "      <td>20</td>\n",
       "      <td>5.06329</td>\n",
       "    </tr>\n",
       "    <tr>\n",
       "      <th>internet</th>\n",
       "      <td>395</td>\n",
       "      <td>0</td>\n",
       "      <td>2</td>\n",
       "      <td>yes</td>\n",
       "      <td>329</td>\n",
       "      <td>83.2911</td>\n",
       "      <td>no</td>\n",
       "      <td>66</td>\n",
       "      <td>16.7089</td>\n",
       "    </tr>\n",
       "    <tr>\n",
       "      <th>romantic</th>\n",
       "      <td>395</td>\n",
       "      <td>0</td>\n",
       "      <td>2</td>\n",
       "      <td>no</td>\n",
       "      <td>263</td>\n",
       "      <td>66.5823</td>\n",
       "      <td>yes</td>\n",
       "      <td>132</td>\n",
       "      <td>33.4177</td>\n",
       "    </tr>\n",
       "  </tbody>\n",
       "</table>\n",
       "</div>"
      ],
      "text/plain": [
       "           count missing cardinality    mode mode_freq mode_percent  2nd_mode 2nd_mode_freq 2nd_mode_percent\n",
       "feature                                                                                                     \n",
       "school       395       0           2      GP       349      88.3544        MS            46          11.6456\n",
       "sex          395       0           2       F       208      52.6582         M           187          47.3418\n",
       "address      395       0           2       U       307      77.7215         R            88          22.2785\n",
       "famsize      395       0           2     GT3       281      71.1392       LE3           114          28.8608\n",
       "Pstatus      395       0           2       T       354      89.6203         A            41          10.3797\n",
       "Mjob         395       0           5   other       141      35.6962  services           103          26.0759\n",
       "Fjob         395       0           5   other       217      54.9367  services           111          28.1013\n",
       "reason       395       0           4  course       145      36.7089      home           109          27.5949\n",
       "guardian     395       0           3  mother       273      69.1139    father            90          22.7848\n",
       "schoolsup    395       0           2      no       344      87.0886       yes            51          12.9114\n",
       "famsup       395       0           2     yes       242      61.2658        no           153          38.7342\n",
       "paid         395       0           2      no       214      54.1772       yes           181          45.8228\n",
       "activities   395       0           2     yes       201      50.8861        no           194          49.1139\n",
       "nursery      395       0           2     yes       314      79.4937        no            81          20.5063\n",
       "higher       395       0           2     yes       375      94.9367        no            20          5.06329\n",
       "internet     395       0           2     yes       329      83.2911        no            66          16.7089\n",
       "romantic     395       0           2      no       263      66.5823       yes           132          33.4177"
      ]
     },
     "execution_count": 413,
     "metadata": {},
     "output_type": "execute_result"
    }
   ],
   "source": [
    "print \"\\nCATEGORICAL FEATURES DATA QUALITY REPORT:\"\n",
    "dqr.cat_table"
   ]
  },
  {
   "cell_type": "markdown",
   "metadata": {},
   "source": [
    "## 3. Preparing the Data\n",
    "In this section, we will prepare the data for modeling, training and testing.\n",
    "\n",
    "### Identify feature and target columns\n",
    "It is often the case that the data you obtain contains non-numeric features. This can be a problem, as most machine learning algorithms expect numeric data to perform computations with.\n",
    "\n",
    "Let's first separate our data into feature and target columns, and see if any features are non-numeric.<br/>\n",
    "**Note**: For this dataset, the last column (`'passed'`) is the target or label we are trying to predict."
   ]
  },
  {
   "cell_type": "code",
   "execution_count": 414,
   "metadata": {
    "collapsed": false
   },
   "outputs": [
    {
     "name": "stdout",
     "output_type": "stream",
     "text": [
      "Feature column(s):-\n",
      "['school', 'sex', 'age', 'address', 'famsize', 'Pstatus', 'Medu', 'Fedu', 'Mjob', 'Fjob', 'reason', 'guardian', 'traveltime', 'studytime', 'failures', 'schoolsup', 'famsup', 'paid', 'activities', 'nursery', 'higher', 'internet', 'romantic', 'famrel', 'freetime', 'goout', 'Dalc', 'Walc', 'health', 'absences']\n",
      "\n",
      "Target column: passed\n"
     ]
    }
   ],
   "source": [
    "# Extract feature (X) and target (y) columns\n",
    "\n",
    "feature_cols = list(student_data.columns[:-1])  # all columns but last are features\n",
    "target_col = student_data.columns[-1]  # last column is the target/label\n",
    "print \"Feature column(s):-\\n{}\".format(feature_cols)\n",
    "print\n",
    "print \"Target column: {}\".format(target_col)"
   ]
  },
  {
   "cell_type": "code",
   "execution_count": 415,
   "metadata": {
    "collapsed": false
   },
   "outputs": [
    {
     "name": "stdout",
     "output_type": "stream",
     "text": [
      "\n",
      "Feature values:-\n"
     ]
    },
    {
     "data": {
      "text/html": [
       "<div>\n",
       "<table border=\"1\" class=\"dataframe\">\n",
       "  <thead>\n",
       "    <tr style=\"text-align: right;\">\n",
       "      <th></th>\n",
       "      <th>school</th>\n",
       "      <th>sex</th>\n",
       "      <th>age</th>\n",
       "      <th>address</th>\n",
       "      <th>famsize</th>\n",
       "      <th>Pstatus</th>\n",
       "      <th>Medu</th>\n",
       "      <th>Fedu</th>\n",
       "      <th>Mjob</th>\n",
       "      <th>Fjob</th>\n",
       "      <th>...</th>\n",
       "      <th>higher</th>\n",
       "      <th>internet</th>\n",
       "      <th>romantic</th>\n",
       "      <th>famrel</th>\n",
       "      <th>freetime</th>\n",
       "      <th>goout</th>\n",
       "      <th>Dalc</th>\n",
       "      <th>Walc</th>\n",
       "      <th>health</th>\n",
       "      <th>absences</th>\n",
       "    </tr>\n",
       "  </thead>\n",
       "  <tbody>\n",
       "    <tr>\n",
       "      <th>0</th>\n",
       "      <td>GP</td>\n",
       "      <td>F</td>\n",
       "      <td>18</td>\n",
       "      <td>U</td>\n",
       "      <td>GT3</td>\n",
       "      <td>A</td>\n",
       "      <td>4</td>\n",
       "      <td>4</td>\n",
       "      <td>at_home</td>\n",
       "      <td>teacher</td>\n",
       "      <td>...</td>\n",
       "      <td>yes</td>\n",
       "      <td>no</td>\n",
       "      <td>no</td>\n",
       "      <td>4</td>\n",
       "      <td>3</td>\n",
       "      <td>4</td>\n",
       "      <td>1</td>\n",
       "      <td>1</td>\n",
       "      <td>3</td>\n",
       "      <td>6</td>\n",
       "    </tr>\n",
       "    <tr>\n",
       "      <th>1</th>\n",
       "      <td>GP</td>\n",
       "      <td>F</td>\n",
       "      <td>17</td>\n",
       "      <td>U</td>\n",
       "      <td>GT3</td>\n",
       "      <td>T</td>\n",
       "      <td>1</td>\n",
       "      <td>1</td>\n",
       "      <td>at_home</td>\n",
       "      <td>other</td>\n",
       "      <td>...</td>\n",
       "      <td>yes</td>\n",
       "      <td>yes</td>\n",
       "      <td>no</td>\n",
       "      <td>5</td>\n",
       "      <td>3</td>\n",
       "      <td>3</td>\n",
       "      <td>1</td>\n",
       "      <td>1</td>\n",
       "      <td>3</td>\n",
       "      <td>4</td>\n",
       "    </tr>\n",
       "    <tr>\n",
       "      <th>2</th>\n",
       "      <td>GP</td>\n",
       "      <td>F</td>\n",
       "      <td>15</td>\n",
       "      <td>U</td>\n",
       "      <td>LE3</td>\n",
       "      <td>T</td>\n",
       "      <td>1</td>\n",
       "      <td>1</td>\n",
       "      <td>at_home</td>\n",
       "      <td>other</td>\n",
       "      <td>...</td>\n",
       "      <td>yes</td>\n",
       "      <td>yes</td>\n",
       "      <td>no</td>\n",
       "      <td>4</td>\n",
       "      <td>3</td>\n",
       "      <td>2</td>\n",
       "      <td>2</td>\n",
       "      <td>3</td>\n",
       "      <td>3</td>\n",
       "      <td>10</td>\n",
       "    </tr>\n",
       "    <tr>\n",
       "      <th>3</th>\n",
       "      <td>GP</td>\n",
       "      <td>F</td>\n",
       "      <td>15</td>\n",
       "      <td>U</td>\n",
       "      <td>GT3</td>\n",
       "      <td>T</td>\n",
       "      <td>4</td>\n",
       "      <td>2</td>\n",
       "      <td>health</td>\n",
       "      <td>services</td>\n",
       "      <td>...</td>\n",
       "      <td>yes</td>\n",
       "      <td>yes</td>\n",
       "      <td>yes</td>\n",
       "      <td>3</td>\n",
       "      <td>2</td>\n",
       "      <td>2</td>\n",
       "      <td>1</td>\n",
       "      <td>1</td>\n",
       "      <td>5</td>\n",
       "      <td>2</td>\n",
       "    </tr>\n",
       "    <tr>\n",
       "      <th>4</th>\n",
       "      <td>GP</td>\n",
       "      <td>F</td>\n",
       "      <td>16</td>\n",
       "      <td>U</td>\n",
       "      <td>GT3</td>\n",
       "      <td>T</td>\n",
       "      <td>3</td>\n",
       "      <td>3</td>\n",
       "      <td>other</td>\n",
       "      <td>other</td>\n",
       "      <td>...</td>\n",
       "      <td>yes</td>\n",
       "      <td>no</td>\n",
       "      <td>no</td>\n",
       "      <td>4</td>\n",
       "      <td>3</td>\n",
       "      <td>2</td>\n",
       "      <td>1</td>\n",
       "      <td>2</td>\n",
       "      <td>5</td>\n",
       "      <td>4</td>\n",
       "    </tr>\n",
       "  </tbody>\n",
       "</table>\n",
       "<p>5 rows × 30 columns</p>\n",
       "</div>"
      ],
      "text/plain": [
       "  school sex  age address famsize Pstatus  Medu  Fedu     Mjob      Fjob   ...    higher internet  romantic  famrel  freetime goout Dalc Walc health absences\n",
       "0     GP   F   18       U     GT3       A     4     4  at_home   teacher   ...       yes       no        no       4         3     4    1    1      3        6\n",
       "1     GP   F   17       U     GT3       T     1     1  at_home     other   ...       yes      yes        no       5         3     3    1    1      3        4\n",
       "2     GP   F   15       U     LE3       T     1     1  at_home     other   ...       yes      yes        no       4         3     2    2    3      3       10\n",
       "3     GP   F   15       U     GT3       T     4     2   health  services   ...       yes      yes       yes       3         2     2    1    1      5        2\n",
       "4     GP   F   16       U     GT3       T     3     3    other     other   ...       yes       no        no       4         3     2    1    2      5        4\n",
       "\n",
       "[5 rows x 30 columns]"
      ]
     },
     "metadata": {},
     "output_type": "display_data"
    }
   ],
   "source": [
    "X_all = student_data[feature_cols]  # feature values for all students\n",
    "print \"\\nFeature values:-\"\n",
    "display(X_all.head())  # print the first 5 rows\n"
   ]
  },
  {
   "cell_type": "code",
   "execution_count": 416,
   "metadata": {
    "collapsed": false
   },
   "outputs": [
    {
     "name": "stdout",
     "output_type": "stream",
     "text": [
      "\n",
      "Target values:-\n"
     ]
    },
    {
     "data": {
      "text/plain": [
       "0     no\n",
       "1     no\n",
       "2    yes\n",
       "3    yes\n",
       "4    yes\n",
       "Name: passed, dtype: object"
      ]
     },
     "execution_count": 416,
     "metadata": {},
     "output_type": "execute_result"
    }
   ],
   "source": [
    "print \"\\nTarget values:-\"\n",
    "y_all = student_data[target_col]  # corresponding targets/labels\n",
    "y_all.head()"
   ]
  },
  {
   "cell_type": "markdown",
   "metadata": {},
   "source": [
    "### Preprocess feature columns\n",
    "\n",
    "As you can see, there are several non-numeric columns that need to be converted! Many of them are simply `yes`/`no`, e.g. `internet`. These can be reasonably converted into `1`/`0` (binary) values.\n",
    "\n",
    "Other columns, like `Mjob` and `Fjob`, have more than two values, and are known as _categorical variables_. The recommended way to handle such a column is to create as many columns as possible values (e.g. `Fjob_teacher`, `Fjob_other`, `Fjob_services`, etc.), and assign a `1` to one of them and `0` to all others.\n",
    "\n",
    "These generated columns are sometimes called _dummy variables_, and we will use the [`pandas.get_dummies()`](http://pandas.pydata.org/pandas-docs/stable/generated/pandas.get_dummies.html?highlight=get_dummies#pandas.get_dummies) function to perform this transformation."
   ]
  },
  {
   "cell_type": "code",
   "execution_count": 417,
   "metadata": {
    "collapsed": false
   },
   "outputs": [
    {
     "name": "stdout",
     "output_type": "stream",
     "text": [
      "Processed feature columns (48):-\n",
      "['school_GP', 'school_MS', 'sex_F', 'sex_M', 'age', 'address_R', 'address_U', 'famsize_GT3', 'famsize_LE3', 'Pstatus_A', 'Pstatus_T', 'Medu', 'Fedu', 'Mjob_at_home', 'Mjob_health', 'Mjob_other', 'Mjob_services', 'Mjob_teacher', 'Fjob_at_home', 'Fjob_health', 'Fjob_other', 'Fjob_services', 'Fjob_teacher', 'reason_course', 'reason_home', 'reason_other', 'reason_reputation', 'guardian_father', 'guardian_mother', 'guardian_other', 'traveltime', 'studytime', 'failures', 'schoolsup', 'famsup', 'paid', 'activities', 'nursery', 'higher', 'internet', 'romantic', 'famrel', 'freetime', 'goout', 'Dalc', 'Walc', 'health', 'absences']\n"
     ]
    }
   ],
   "source": [
    "# Preprocess feature columns\n",
    "def preprocess_features(X):\n",
    "    outX = pd.DataFrame(index=X.index)  # output dataframe, initially empty\n",
    "\n",
    "    # Check each column\n",
    "    for col, col_data in X.iteritems():\n",
    "        # If data type is non-numeric, try to replace all yes/no values with 1/0\n",
    "        if col_data.dtype == object:\n",
    "            col_data = col_data.replace(['yes', 'no'], [1, 0])\n",
    "        # Note: This should change the data type for yes/no columns to int\n",
    "\n",
    "        # If still non-numeric, convert to one or more dummy variables\n",
    "        if col_data.dtype == object:\n",
    "            col_data = pd.get_dummies(col_data, prefix=col)  # e.g. 'school' => 'school_GP', 'school_MS'\n",
    "\n",
    "        outX = outX.join(col_data)  # collect column(s) in output dataframe\n",
    "\n",
    "    return outX\n",
    "\n",
    "X_all = preprocess_features(X_all)\n",
    "print \"Processed feature columns ({}):-\\n{}\".format(len(X_all.columns), list(X_all.columns))"
   ]
  },
  {
   "cell_type": "markdown",
   "metadata": {},
   "source": [
    "### Split data into training and test sets\n",
    "\n",
    "So far, we have converted all _categorical_ features into numeric values. In this next step, we split the data (both features and corresponding labels) into training and test sets."
   ]
  },
  {
   "cell_type": "code",
   "execution_count": 480,
   "metadata": {
    "collapsed": false
   },
   "outputs": [
    {
     "name": "stdout",
     "output_type": "stream",
     "text": [
      "Training set: 300 samples\n",
      "Test set:      95 samples\n"
     ]
    }
   ],
   "source": [
    "# First, decide how many training vs test samples you want\n",
    "num_all = student_data.shape[0]  # same as len(student_data)\n",
    "num_train = 300  # about 75% of the data\n",
    "num_test = num_all - num_train\n",
    "\n",
    "# TODO: Then, select features (X) and corresponding labels (y) for the training and test sets\n",
    "# Note: Shuffle the data or randomly select samples to avoid any bias due to ordering in the dataset\n",
    "from sklearn import cross_validation as cv\n",
    "\n",
    "X_train, X_test, y_train, y_test = cv.train_test_split(X_all, y_all, test_size=num_test, \n",
    "                                                       random_state=433024223)\n",
    "\n",
    "print \"Training set: {} samples\".format(X_train.shape[0])\n",
    "print \"Test set:      {} samples\".format(X_test.shape[0])\n",
    "# Note: If you need a validation set, extract it from within training data"
   ]
  },
  {
   "cell_type": "markdown",
   "metadata": {},
   "source": [
    "Verify that proportions for the target feature levels, namely 'yes' and 'no', are kept afpter dataset splitting:"
   ]
  },
  {
   "cell_type": "code",
   "execution_count": 481,
   "metadata": {
    "collapsed": false
   },
   "outputs": [
    {
     "name": "stdout",
     "output_type": "stream",
     "text": [
      "Rate of passed in training set is 67.67%\n"
     ]
    }
   ],
   "source": [
    "print \"Rate of passed in training set is {:.2f}%\".format(100.0*y_train.value_counts()['yes']/num_train)"
   ]
  },
  {
   "cell_type": "code",
   "execution_count": 482,
   "metadata": {
    "collapsed": false
   },
   "outputs": [
    {
     "name": "stdout",
     "output_type": "stream",
     "text": [
      "Rate of passed in test set is 65.26%\n"
     ]
    }
   ],
   "source": [
    "print \"Rate of passed in test set is {:.2f}%\".format(100.0*y_test.value_counts()['yes']/num_test)"
   ]
  },
  {
   "cell_type": "markdown",
   "metadata": {},
   "source": [
    "## 4. Training and Evaluating Models\n",
    "Choose 3 supervised learning models that are available in scikit-learn, and appropriate for this problem. For each model:\n",
    "\n",
    "- What are the general applications of this model? What are its strengths and weaknesses?\n",
    "- Given what you know about the data so far, why did you choose this model to apply?\n",
    "- Fit this model to the training data, try to predict labels (for both training and test sets), and measure the F<sub>1</sub> score. Repeat this process with different training set sizes (100, 200, 300), keeping test set constant.\n",
    "\n",
    "Produce a table showing training time, prediction time, F<sub>1</sub> score on training set and F<sub>1</sub> score on test set, for each training set size.\n",
    "\n",
    "Note: You need to produce 3 such tables - one for each model."
   ]
  },
  {
   "cell_type": "markdown",
   "metadata": {},
   "source": [
    "#### Define a class to collect performance measures for each experiment"
   ]
  },
  {
   "cell_type": "code",
   "execution_count": 483,
   "metadata": {
    "collapsed": true
   },
   "outputs": [],
   "source": [
    "class PerformanceTable(object):\n",
    "    '''\n",
    "    Collect measures of performance for a specific experiment\n",
    "    '''\n",
    "\n",
    "    MEASURES = [\"TRAIN_TIME\", \"PREDICT_TIME_TRAIN\", \"PREDICT_TIME_TEST\", \"F1SCORE_TRAIN\", \"F1SCORE_TEST\"]\n",
    "    \n",
    "    def __init__(self, training_set_sizes):\n",
    "        '''\n",
    "        Constructor\n",
    "        '''\n",
    "        self.table = pd.DataFrame(columns=PerformanceTable.MEASURES, index=training_set_sizes)\n",
    "        self.table.index.name = '# samples'"
   ]
  },
  {
   "cell_type": "code",
   "execution_count": 528,
   "metadata": {
    "collapsed": false
   },
   "outputs": [],
   "source": [
    "# Train a model\n",
    "import time\n",
    "\n",
    "def train_classifier(clf, X_train, y_train):\n",
    "    start = time.time()\n",
    "    clf.fit(X_train, y_train)\n",
    "    end = time.time()\n",
    "    training_time = end - start\n",
    "    return training_time\n",
    "\n",
    "# TODO: Choose a model, import it and instantiate an object\n",
    "from sklearn.tree import DecisionTreeClassifier \n",
    "clf = DecisionTreeClassifier(min_samples_leaf=9,min_weight_fraction_leaf=0.02, max_depth=4, class_weight='balanced')"
   ]
  },
  {
   "cell_type": "code",
   "execution_count": 529,
   "metadata": {
    "collapsed": false
   },
   "outputs": [],
   "source": [
    "# Predict on training set and compute F1 score\n",
    "from sklearn.metrics import f1_score\n",
    "\n",
    "def predict_labels(clf, features, target):\n",
    "    start = time.time()\n",
    "    y_pred = clf.predict(features)\n",
    "    end = time.time()\n",
    "    predict_time = end - start\n",
    "    \n",
    "    return f1_score(target.astype(str), y_pred.astype(str), pos_label='yes'), predict_time"
   ]
  },
  {
   "cell_type": "code",
   "execution_count": 530,
   "metadata": {
    "collapsed": false
   },
   "outputs": [
    {
     "name": "stdout",
     "output_type": "stream",
     "text": [
      "Perfomance table for DecisionTreeClassifier: \n",
      "(*** note ***: times are expressed in milliseconds)\n"
     ]
    },
    {
     "data": {
      "text/html": [
       "<div>\n",
       "<table border=\"1\" class=\"dataframe\">\n",
       "  <thead>\n",
       "    <tr style=\"text-align: right;\">\n",
       "      <th></th>\n",
       "      <th>TRAIN_TIME</th>\n",
       "      <th>PREDICT_TIME_TRAIN</th>\n",
       "      <th>PREDICT_TIME_TEST</th>\n",
       "      <th>F1SCORE_TRAIN</th>\n",
       "      <th>F1SCORE_TEST</th>\n",
       "    </tr>\n",
       "    <tr>\n",
       "      <th># samples</th>\n",
       "      <th></th>\n",
       "      <th></th>\n",
       "      <th></th>\n",
       "      <th></th>\n",
       "      <th></th>\n",
       "    </tr>\n",
       "  </thead>\n",
       "  <tbody>\n",
       "    <tr>\n",
       "      <th>15</th>\n",
       "      <td>0.720024</td>\n",
       "      <td>0.285149</td>\n",
       "      <td>0.185966</td>\n",
       "      <td>0</td>\n",
       "      <td>0</td>\n",
       "    </tr>\n",
       "    <tr>\n",
       "      <th>30</th>\n",
       "      <td>0.534058</td>\n",
       "      <td>0.165939</td>\n",
       "      <td>0.175953</td>\n",
       "      <td>0.820513</td>\n",
       "      <td>0.751773</td>\n",
       "    </tr>\n",
       "    <tr>\n",
       "      <th>45</th>\n",
       "      <td>0.830173</td>\n",
       "      <td>0.19598</td>\n",
       "      <td>0.303984</td>\n",
       "      <td>0.769231</td>\n",
       "      <td>0.530973</td>\n",
       "    </tr>\n",
       "    <tr>\n",
       "      <th>60</th>\n",
       "      <td>0.883102</td>\n",
       "      <td>0.185013</td>\n",
       "      <td>0.188828</td>\n",
       "      <td>0.760563</td>\n",
       "      <td>0.530973</td>\n",
       "    </tr>\n",
       "    <tr>\n",
       "      <th>75</th>\n",
       "      <td>0.870943</td>\n",
       "      <td>0.198126</td>\n",
       "      <td>0.182867</td>\n",
       "      <td>0.828283</td>\n",
       "      <td>0.68254</td>\n",
       "    </tr>\n",
       "    <tr>\n",
       "      <th>90</th>\n",
       "      <td>0.724077</td>\n",
       "      <td>0.174046</td>\n",
       "      <td>0.216961</td>\n",
       "      <td>0.823529</td>\n",
       "      <td>0.75</td>\n",
       "    </tr>\n",
       "    <tr>\n",
       "      <th>105</th>\n",
       "      <td>0.730991</td>\n",
       "      <td>0.174046</td>\n",
       "      <td>0.182152</td>\n",
       "      <td>0.82963</td>\n",
       "      <td>0.727273</td>\n",
       "    </tr>\n",
       "    <tr>\n",
       "      <th>120</th>\n",
       "      <td>0.815153</td>\n",
       "      <td>0.181913</td>\n",
       "      <td>0.175953</td>\n",
       "      <td>0.732824</td>\n",
       "      <td>0.62963</td>\n",
       "    </tr>\n",
       "    <tr>\n",
       "      <th>135</th>\n",
       "      <td>0.87595</td>\n",
       "      <td>0.193119</td>\n",
       "      <td>0.169992</td>\n",
       "      <td>0.804734</td>\n",
       "      <td>0.741379</td>\n",
       "    </tr>\n",
       "    <tr>\n",
       "      <th>150</th>\n",
       "      <td>1.11794</td>\n",
       "      <td>0.187159</td>\n",
       "      <td>0.159025</td>\n",
       "      <td>0.802083</td>\n",
       "      <td>0.741379</td>\n",
       "    </tr>\n",
       "    <tr>\n",
       "      <th>165</th>\n",
       "      <td>0.822067</td>\n",
       "      <td>0.173092</td>\n",
       "      <td>0.158072</td>\n",
       "      <td>0.790476</td>\n",
       "      <td>0.741379</td>\n",
       "    </tr>\n",
       "    <tr>\n",
       "      <th>180</th>\n",
       "      <td>0.813007</td>\n",
       "      <td>0.169992</td>\n",
       "      <td>0.149965</td>\n",
       "      <td>0.719212</td>\n",
       "      <td>0.697248</td>\n",
       "    </tr>\n",
       "    <tr>\n",
       "      <th>195</th>\n",
       "      <td>0.842094</td>\n",
       "      <td>0.170946</td>\n",
       "      <td>0.152826</td>\n",
       "      <td>0.837037</td>\n",
       "      <td>0.746032</td>\n",
       "    </tr>\n",
       "    <tr>\n",
       "      <th>210</th>\n",
       "      <td>1.04284</td>\n",
       "      <td>0.197887</td>\n",
       "      <td>0.152111</td>\n",
       "      <td>0.77821</td>\n",
       "      <td>0.684685</td>\n",
       "    </tr>\n",
       "    <tr>\n",
       "      <th>225</th>\n",
       "      <td>0.954866</td>\n",
       "      <td>0.178099</td>\n",
       "      <td>0.145197</td>\n",
       "      <td>0.839344</td>\n",
       "      <td>0.709677</td>\n",
       "    </tr>\n",
       "    <tr>\n",
       "      <th>240</th>\n",
       "      <td>0.972986</td>\n",
       "      <td>0.18096</td>\n",
       "      <td>0.147104</td>\n",
       "      <td>0.829851</td>\n",
       "      <td>0.808824</td>\n",
       "    </tr>\n",
       "    <tr>\n",
       "      <th>255</th>\n",
       "      <td>1.04403</td>\n",
       "      <td>0.183105</td>\n",
       "      <td>0.160933</td>\n",
       "      <td>0.820809</td>\n",
       "      <td>0.763359</td>\n",
       "    </tr>\n",
       "    <tr>\n",
       "      <th>270</th>\n",
       "      <td>1.15299</td>\n",
       "      <td>0.185013</td>\n",
       "      <td>0.133991</td>\n",
       "      <td>0.820652</td>\n",
       "      <td>0.748092</td>\n",
       "    </tr>\n",
       "    <tr>\n",
       "      <th>285</th>\n",
       "      <td>1.34802</td>\n",
       "      <td>0.252962</td>\n",
       "      <td>0.237942</td>\n",
       "      <td>0.826531</td>\n",
       "      <td>0.748092</td>\n",
       "    </tr>\n",
       "    <tr>\n",
       "      <th>300</th>\n",
       "      <td>1.15895</td>\n",
       "      <td>0.193119</td>\n",
       "      <td>0.144958</td>\n",
       "      <td>0.806202</td>\n",
       "      <td>0.766667</td>\n",
       "    </tr>\n",
       "  </tbody>\n",
       "</table>\n",
       "</div>"
      ],
      "text/plain": [
       "          TRAIN_TIME PREDICT_TIME_TRAIN PREDICT_TIME_TEST F1SCORE_TRAIN F1SCORE_TEST\n",
       "# samples                                                                           \n",
       "15          0.720024           0.285149          0.185966             0            0\n",
       "30          0.534058           0.165939          0.175953      0.820513     0.751773\n",
       "45          0.830173            0.19598          0.303984      0.769231     0.530973\n",
       "60          0.883102           0.185013          0.188828      0.760563     0.530973\n",
       "75          0.870943           0.198126          0.182867      0.828283      0.68254\n",
       "90          0.724077           0.174046          0.216961      0.823529         0.75\n",
       "105         0.730991           0.174046          0.182152       0.82963     0.727273\n",
       "120         0.815153           0.181913          0.175953      0.732824      0.62963\n",
       "135          0.87595           0.193119          0.169992      0.804734     0.741379\n",
       "150          1.11794           0.187159          0.159025      0.802083     0.741379\n",
       "165         0.822067           0.173092          0.158072      0.790476     0.741379\n",
       "180         0.813007           0.169992          0.149965      0.719212     0.697248\n",
       "195         0.842094           0.170946          0.152826      0.837037     0.746032\n",
       "210          1.04284           0.197887          0.152111       0.77821     0.684685\n",
       "225         0.954866           0.178099          0.145197      0.839344     0.709677\n",
       "240         0.972986            0.18096          0.147104      0.829851     0.808824\n",
       "255          1.04403           0.183105          0.160933      0.820809     0.763359\n",
       "270          1.15299           0.185013          0.133991      0.820652     0.748092\n",
       "285          1.34802           0.252962          0.237942      0.826531     0.748092\n",
       "300          1.15895           0.193119          0.144958      0.806202     0.766667"
      ]
     },
     "execution_count": 530,
     "metadata": {},
     "output_type": "execute_result"
    }
   ],
   "source": [
    "# Train and predict using different training set sizes\n",
    "def train_predict(clf, X_train, y_train, X_test, y_test):\n",
    "    training_time = train_classifier(clf, X_train, y_train)\n",
    "    F1Score_train, predict_time_train = predict_labels(clf, X_train, y_train)\n",
    "    F1Score_test, predict_time_test = predict_labels(clf, X_test, y_test)\n",
    "    return training_time, F1Score_train, predict_time_train, F1Score_test, predict_time_test\n",
    "\n",
    "# TODO: Run the helper function above for desired subsets of training data\n",
    "\n",
    "# Kind of learning curve function\n",
    "def train_predict_lc(clf, X_train, y_train, X_test, y_test, training_set_sizes):\n",
    "    perf = PerformanceTable(training_set_sizes)\n",
    "    for train_set_size in training_set_sizes:\n",
    "        training_time, F1Score_train, predict_time_train, F1Score_test, predict_time_test = train_predict(clf, \n",
    "                                                X_train[:train_set_size],y_train[:train_set_size], X_test, y_test)\n",
    "        perf.table['TRAIN_TIME'][train_set_size] = training_time*1000 # milliseconds\n",
    "        perf.table['PREDICT_TIME_TRAIN'][train_set_size] = predict_time_train*1000 # milliseconds\n",
    "        perf.table['PREDICT_TIME_TEST'][train_set_size] = predict_time_test*1000 # milliseconds\n",
    "        perf.table['F1SCORE_TRAIN'][train_set_size] = F1Score_train\n",
    "        perf.table['F1SCORE_TEST'][train_set_size] = F1Score_test\n",
    "    \n",
    "    return perf\n",
    "\n",
    "step = 15\n",
    "training_set_sizes = range(step,num_train+1,step)\n",
    "perf_1 = train_predict_lc(clf, X_train, y_train, X_test, y_test, training_set_sizes)\n",
    "    \n",
    "print \"Perfomance table for DecisionTreeClassifier: \"\n",
    "print \"(*** note ***: times are expressed in milliseconds)\" \n",
    "perf_1.table\n",
    "# Note: Keep the test set constant"
   ]
  },
  {
   "cell_type": "markdown",
   "metadata": {},
   "source": [
    "Let's show these results ina graph:"
   ]
  },
  {
   "cell_type": "code",
   "execution_count": 531,
   "metadata": {
    "collapsed": false
   },
   "outputs": [
    {
     "data": {
      "image/png": "[encoded data removed]",
      "text/plain": [
       "<matplotlib.figure.Figure at 0x117ec1550>"
      ]
     },
     "metadata": {},
     "output_type": "display_data"
    }
   ],
   "source": [
    "def plot_learning_curve(performance_table, classifier_name):\n",
    "    ax = performance_table.table[['F1SCORE_TRAIN','F1SCORE_TEST']].plot(\n",
    "        title=\"{} learning curve\".format(classifier_name), \n",
    "        grid=True,figsize=(9,5.06))\n",
    "                                                                        \n",
    "plot_learning_curve(perf_1, clf.__class__.__name__)"
   ]
  },
  {
   "cell_type": "code",
   "execution_count": 488,
   "metadata": {
    "collapsed": false
   },
   "outputs": [
    {
     "data": {
      "image/png": "[encoded data removed]",
      "text/plain": [
       "<matplotlib.figure.Figure at 0x118e082d0>"
      ]
     },
     "metadata": {},
     "output_type": "display_data"
    }
   ],
   "source": [
    "def plot_timings(performance_table, classifier_name):\n",
    "    ax = performance_table.table[[\"TRAIN_TIME\", \"PREDICT_TIME_TRAIN\", \"PREDICT_TIME_TEST\"]].plot(title=classifier_name,\n",
    "                                                                                grid=True,figsize=(9,5.06))\n",
    "\n",
    "plot_timings(perf_1, clf.__class__.__name__)"
   ]
  },
  {
   "cell_type": "code",
   "execution_count": 489,
   "metadata": {
    "collapsed": false
   },
   "outputs": [
    {
     "name": "stdout",
     "output_type": "stream",
     "text": [
      "Perfomance table for GaussianNB: \n",
      "(*** note ***: times are expressed in milliseconds)\n"
     ]
    },
    {
     "data": {
      "text/html": [
       "<div>\n",
       "<table border=\"1\" class=\"dataframe\">\n",
       "  <thead>\n",
       "    <tr style=\"text-align: right;\">\n",
       "      <th></th>\n",
       "      <th>TRAIN_TIME</th>\n",
       "      <th>PREDICT_TIME_TRAIN</th>\n",
       "      <th>PREDICT_TIME_TEST</th>\n",
       "      <th>F1SCORE_TRAIN</th>\n",
       "      <th>F1SCORE_TEST</th>\n",
       "    </tr>\n",
       "    <tr>\n",
       "      <th># samples</th>\n",
       "      <th></th>\n",
       "      <th></th>\n",
       "      <th></th>\n",
       "      <th></th>\n",
       "      <th></th>\n",
       "    </tr>\n",
       "  </thead>\n",
       "  <tbody>\n",
       "    <tr>\n",
       "      <th>15</th>\n",
       "      <td>0.858068</td>\n",
       "      <td>0.355959</td>\n",
       "      <td>0.303984</td>\n",
       "      <td>0.9</td>\n",
       "      <td>0.692913</td>\n",
       "    </tr>\n",
       "    <tr>\n",
       "      <th>30</th>\n",
       "      <td>0.551939</td>\n",
       "      <td>0.227213</td>\n",
       "      <td>0.263929</td>\n",
       "      <td>0.615385</td>\n",
       "      <td>0.382979</td>\n",
       "    </tr>\n",
       "    <tr>\n",
       "      <th>45</th>\n",
       "      <td>0.49901</td>\n",
       "      <td>0.209808</td>\n",
       "      <td>0.257015</td>\n",
       "      <td>0.734694</td>\n",
       "      <td>0.45098</td>\n",
       "    </tr>\n",
       "    <tr>\n",
       "      <th>60</th>\n",
       "      <td>0.562906</td>\n",
       "      <td>0.352144</td>\n",
       "      <td>0.29397</td>\n",
       "      <td>0.716418</td>\n",
       "      <td>0.54902</td>\n",
       "    </tr>\n",
       "    <tr>\n",
       "      <th>75</th>\n",
       "      <td>0.626802</td>\n",
       "      <td>0.272036</td>\n",
       "      <td>0.293016</td>\n",
       "      <td>0.705882</td>\n",
       "      <td>0.5</td>\n",
       "    </tr>\n",
       "    <tr>\n",
       "      <th>90</th>\n",
       "      <td>0.801086</td>\n",
       "      <td>0.360012</td>\n",
       "      <td>0.365973</td>\n",
       "      <td>0.854962</td>\n",
       "      <td>0.75</td>\n",
       "    </tr>\n",
       "    <tr>\n",
       "      <th>105</th>\n",
       "      <td>0.633955</td>\n",
       "      <td>0.284195</td>\n",
       "      <td>0.515938</td>\n",
       "      <td>0.870748</td>\n",
       "      <td>0.75</td>\n",
       "    </tr>\n",
       "    <tr>\n",
       "      <th>120</th>\n",
       "      <td>0.852108</td>\n",
       "      <td>0.317097</td>\n",
       "      <td>0.457048</td>\n",
       "      <td>0.846626</td>\n",
       "      <td>0.730159</td>\n",
       "    </tr>\n",
       "    <tr>\n",
       "      <th>135</th>\n",
       "      <td>0.831127</td>\n",
       "      <td>0.329018</td>\n",
       "      <td>0.352144</td>\n",
       "      <td>0.834225</td>\n",
       "      <td>0.723077</td>\n",
       "    </tr>\n",
       "    <tr>\n",
       "      <th>150</th>\n",
       "      <td>0.668049</td>\n",
       "      <td>0.30899</td>\n",
       "      <td>0.288963</td>\n",
       "      <td>0.84507</td>\n",
       "      <td>0.692913</td>\n",
       "    </tr>\n",
       "    <tr>\n",
       "      <th>165</th>\n",
       "      <td>0.736952</td>\n",
       "      <td>0.322104</td>\n",
       "      <td>0.285149</td>\n",
       "      <td>0.835443</td>\n",
       "      <td>0.728682</td>\n",
       "    </tr>\n",
       "    <tr>\n",
       "      <th>180</th>\n",
       "      <td>0.686169</td>\n",
       "      <td>0.334024</td>\n",
       "      <td>0.333071</td>\n",
       "      <td>0.834646</td>\n",
       "      <td>0.708661</td>\n",
       "    </tr>\n",
       "    <tr>\n",
       "      <th>195</th>\n",
       "      <td>0.746965</td>\n",
       "      <td>0.342846</td>\n",
       "      <td>0.307083</td>\n",
       "      <td>0.829091</td>\n",
       "      <td>0.71875</td>\n",
       "    </tr>\n",
       "    <tr>\n",
       "      <th>210</th>\n",
       "      <td>0.79298</td>\n",
       "      <td>0.340939</td>\n",
       "      <td>0.256777</td>\n",
       "      <td>0.810997</td>\n",
       "      <td>0.72</td>\n",
       "    </tr>\n",
       "    <tr>\n",
       "      <th>225</th>\n",
       "      <td>0.613928</td>\n",
       "      <td>0.325203</td>\n",
       "      <td>0.255108</td>\n",
       "      <td>0.825397</td>\n",
       "      <td>0.72</td>\n",
       "    </tr>\n",
       "    <tr>\n",
       "      <th>240</th>\n",
       "      <td>0.621796</td>\n",
       "      <td>0.329971</td>\n",
       "      <td>0.251055</td>\n",
       "      <td>0.815476</td>\n",
       "      <td>0.757576</td>\n",
       "    </tr>\n",
       "    <tr>\n",
       "      <th>255</th>\n",
       "      <td>0.631094</td>\n",
       "      <td>0.341892</td>\n",
       "      <td>0.310898</td>\n",
       "      <td>0.812325</td>\n",
       "      <td>0.757576</td>\n",
       "    </tr>\n",
       "    <tr>\n",
       "      <th>270</th>\n",
       "      <td>0.801086</td>\n",
       "      <td>0.550985</td>\n",
       "      <td>0.32115</td>\n",
       "      <td>0.817942</td>\n",
       "      <td>0.766917</td>\n",
       "    </tr>\n",
       "    <tr>\n",
       "      <th>285</th>\n",
       "      <td>0.725985</td>\n",
       "      <td>0.375986</td>\n",
       "      <td>0.272989</td>\n",
       "      <td>0.818627</td>\n",
       "      <td>0.746269</td>\n",
       "    </tr>\n",
       "    <tr>\n",
       "      <th>300</th>\n",
       "      <td>0.702858</td>\n",
       "      <td>0.370026</td>\n",
       "      <td>0.262976</td>\n",
       "      <td>0.816901</td>\n",
       "      <td>0.746269</td>\n",
       "    </tr>\n",
       "  </tbody>\n",
       "</table>\n",
       "</div>"
      ],
      "text/plain": [
       "          TRAIN_TIME PREDICT_TIME_TRAIN PREDICT_TIME_TEST F1SCORE_TRAIN F1SCORE_TEST\n",
       "# samples                                                                           \n",
       "15          0.858068           0.355959          0.303984           0.9     0.692913\n",
       "30          0.551939           0.227213          0.263929      0.615385     0.382979\n",
       "45           0.49901           0.209808          0.257015      0.734694      0.45098\n",
       "60          0.562906           0.352144           0.29397      0.716418      0.54902\n",
       "75          0.626802           0.272036          0.293016      0.705882          0.5\n",
       "90          0.801086           0.360012          0.365973      0.854962         0.75\n",
       "105         0.633955           0.284195          0.515938      0.870748         0.75\n",
       "120         0.852108           0.317097          0.457048      0.846626     0.730159\n",
       "135         0.831127           0.329018          0.352144      0.834225     0.723077\n",
       "150         0.668049            0.30899          0.288963       0.84507     0.692913\n",
       "165         0.736952           0.322104          0.285149      0.835443     0.728682\n",
       "180         0.686169           0.334024          0.333071      0.834646     0.708661\n",
       "195         0.746965           0.342846          0.307083      0.829091      0.71875\n",
       "210          0.79298           0.340939          0.256777      0.810997         0.72\n",
       "225         0.613928           0.325203          0.255108      0.825397         0.72\n",
       "240         0.621796           0.329971          0.251055      0.815476     0.757576\n",
       "255         0.631094           0.341892          0.310898      0.812325     0.757576\n",
       "270         0.801086           0.550985           0.32115      0.817942     0.766917\n",
       "285         0.725985           0.375986          0.272989      0.818627     0.746269\n",
       "300         0.702858           0.370026          0.262976      0.816901     0.746269"
      ]
     },
     "execution_count": 489,
     "metadata": {},
     "output_type": "execute_result"
    }
   ],
   "source": [
    "# Second model\n",
    "from sklearn.naive_bayes import GaussianNB \n",
    "clf = GaussianNB()\n",
    "\n",
    "perf_2 = train_predict_lc(clf, X_train, y_train, X_test, y_test, training_set_sizes)\n",
    "print \"Perfomance table for GaussianNB: \"\n",
    "print \"(*** note ***: times are expressed in milliseconds)\" \n",
    "perf_2.table"
   ]
  },
  {
   "cell_type": "markdown",
   "metadata": {},
   "source": [
    "Let's diplay above data in graphs for Score and for timings, as we did for DecisionTreeClassifier:"
   ]
  },
  {
   "cell_type": "code",
   "execution_count": 490,
   "metadata": {
    "collapsed": false
   },
   "outputs": [
    {
     "data": {
      "image/png": "[encoded data removed]",
      "text/plain": [
       "<matplotlib.figure.Figure at 0x1170b5750>"
      ]
     },
     "metadata": {},
     "output_type": "display_data"
    },
    {
     "data": {
      "image/png": "[encoded data removed]",
      "text/plain": [
       "<matplotlib.figure.Figure at 0x1184fc910>"
      ]
     },
     "metadata": {},
     "output_type": "display_data"
    }
   ],
   "source": [
    "plot_learning_curve(perf_2, clf.__class__.__name__)\n",
    "plot_timings(perf_2, clf.__class__.__name__)"
   ]
  },
  {
   "cell_type": "code",
   "execution_count": 491,
   "metadata": {
    "collapsed": false
   },
   "outputs": [
    {
     "name": "stdout",
     "output_type": "stream",
     "text": [
      "Perfomance table for LogisticRegression: \n",
      "(*** note ***: times are expressed in milliseconds)\n"
     ]
    },
    {
     "data": {
      "text/html": [
       "<div>\n",
       "<table border=\"1\" class=\"dataframe\">\n",
       "  <thead>\n",
       "    <tr style=\"text-align: right;\">\n",
       "      <th></th>\n",
       "      <th>TRAIN_TIME</th>\n",
       "      <th>PREDICT_TIME_TRAIN</th>\n",
       "      <th>PREDICT_TIME_TEST</th>\n",
       "      <th>F1SCORE_TRAIN</th>\n",
       "      <th>F1SCORE_TEST</th>\n",
       "    </tr>\n",
       "    <tr>\n",
       "      <th># samples</th>\n",
       "      <th></th>\n",
       "      <th></th>\n",
       "      <th></th>\n",
       "      <th></th>\n",
       "      <th></th>\n",
       "    </tr>\n",
       "  </thead>\n",
       "  <tbody>\n",
       "    <tr>\n",
       "      <th>15</th>\n",
       "      <td>0.6001</td>\n",
       "      <td>0.360012</td>\n",
       "      <td>0.184059</td>\n",
       "      <td>1</td>\n",
       "      <td>0.522523</td>\n",
       "    </tr>\n",
       "    <tr>\n",
       "      <th>30</th>\n",
       "      <td>0.528097</td>\n",
       "      <td>0.142097</td>\n",
       "      <td>0.149012</td>\n",
       "      <td>0.947368</td>\n",
       "      <td>0.786207</td>\n",
       "    </tr>\n",
       "    <tr>\n",
       "      <th>45</th>\n",
       "      <td>0.633955</td>\n",
       "      <td>0.148058</td>\n",
       "      <td>0.145912</td>\n",
       "      <td>0.95082</td>\n",
       "      <td>0.783217</td>\n",
       "    </tr>\n",
       "    <tr>\n",
       "      <th>60</th>\n",
       "      <td>0.694036</td>\n",
       "      <td>0.138998</td>\n",
       "      <td>0.144005</td>\n",
       "      <td>0.953488</td>\n",
       "      <td>0.780142</td>\n",
       "    </tr>\n",
       "    <tr>\n",
       "      <th>75</th>\n",
       "      <td>0.877857</td>\n",
       "      <td>0.149012</td>\n",
       "      <td>0.144958</td>\n",
       "      <td>0.93578</td>\n",
       "      <td>0.791667</td>\n",
       "    </tr>\n",
       "    <tr>\n",
       "      <th>90</th>\n",
       "      <td>0.969887</td>\n",
       "      <td>0.149965</td>\n",
       "      <td>0.163078</td>\n",
       "      <td>0.893939</td>\n",
       "      <td>0.826087</td>\n",
       "    </tr>\n",
       "    <tr>\n",
       "      <th>105</th>\n",
       "      <td>1.13297</td>\n",
       "      <td>0.198126</td>\n",
       "      <td>0.176907</td>\n",
       "      <td>0.893333</td>\n",
       "      <td>0.791045</td>\n",
       "    </tr>\n",
       "    <tr>\n",
       "      <th>120</th>\n",
       "      <td>1.28102</td>\n",
       "      <td>0.478029</td>\n",
       "      <td>0.200987</td>\n",
       "      <td>0.858824</td>\n",
       "      <td>0.791045</td>\n",
       "    </tr>\n",
       "    <tr>\n",
       "      <th>135</th>\n",
       "      <td>1.62005</td>\n",
       "      <td>2.48313</td>\n",
       "      <td>0.179052</td>\n",
       "      <td>0.868687</td>\n",
       "      <td>0.828571</td>\n",
       "    </tr>\n",
       "    <tr>\n",
       "      <th>150</th>\n",
       "      <td>1.77717</td>\n",
       "      <td>4.86493</td>\n",
       "      <td>0.193119</td>\n",
       "      <td>0.876106</td>\n",
       "      <td>0.830986</td>\n",
       "    </tr>\n",
       "    <tr>\n",
       "      <th>165</th>\n",
       "      <td>1.544</td>\n",
       "      <td>0.530005</td>\n",
       "      <td>0.175953</td>\n",
       "      <td>0.865079</td>\n",
       "      <td>0.805556</td>\n",
       "    </tr>\n",
       "    <tr>\n",
       "      <th>180</th>\n",
       "      <td>1.79195</td>\n",
       "      <td>2.99001</td>\n",
       "      <td>0.179052</td>\n",
       "      <td>0.862454</td>\n",
       "      <td>0.8</td>\n",
       "    </tr>\n",
       "    <tr>\n",
       "      <th>195</th>\n",
       "      <td>1.78289</td>\n",
       "      <td>0.347853</td>\n",
       "      <td>0.187159</td>\n",
       "      <td>0.865979</td>\n",
       "      <td>0.808824</td>\n",
       "    </tr>\n",
       "    <tr>\n",
       "      <th>210</th>\n",
       "      <td>1.80888</td>\n",
       "      <td>0.166893</td>\n",
       "      <td>0.143051</td>\n",
       "      <td>0.856209</td>\n",
       "      <td>0.808824</td>\n",
       "    </tr>\n",
       "    <tr>\n",
       "      <th>225</th>\n",
       "      <td>1.80197</td>\n",
       "      <td>0.168085</td>\n",
       "      <td>0.178814</td>\n",
       "      <td>0.859701</td>\n",
       "      <td>0.8</td>\n",
       "    </tr>\n",
       "    <tr>\n",
       "      <th>240</th>\n",
       "      <td>2.37393</td>\n",
       "      <td>0.22316</td>\n",
       "      <td>0.178099</td>\n",
       "      <td>0.845938</td>\n",
       "      <td>0.808824</td>\n",
       "    </tr>\n",
       "    <tr>\n",
       "      <th>255</th>\n",
       "      <td>2.28</td>\n",
       "      <td>0.176191</td>\n",
       "      <td>0.145912</td>\n",
       "      <td>0.845745</td>\n",
       "      <td>0.8</td>\n",
       "    </tr>\n",
       "    <tr>\n",
       "      <th>270</th>\n",
       "      <td>2.32816</td>\n",
       "      <td>0.165939</td>\n",
       "      <td>0.144005</td>\n",
       "      <td>0.846348</td>\n",
       "      <td>0.788321</td>\n",
       "    </tr>\n",
       "    <tr>\n",
       "      <th>285</th>\n",
       "      <td>2.49195</td>\n",
       "      <td>0.307083</td>\n",
       "      <td>0.167847</td>\n",
       "      <td>0.851064</td>\n",
       "      <td>0.779412</td>\n",
       "    </tr>\n",
       "    <tr>\n",
       "      <th>300</th>\n",
       "      <td>2.47288</td>\n",
       "      <td>0.179768</td>\n",
       "      <td>0.183105</td>\n",
       "      <td>0.848073</td>\n",
       "      <td>0.779412</td>\n",
       "    </tr>\n",
       "  </tbody>\n",
       "</table>\n",
       "</div>"
      ],
      "text/plain": [
       "          TRAIN_TIME PREDICT_TIME_TRAIN PREDICT_TIME_TEST F1SCORE_TRAIN F1SCORE_TEST\n",
       "# samples                                                                           \n",
       "15            0.6001           0.360012          0.184059             1     0.522523\n",
       "30          0.528097           0.142097          0.149012      0.947368     0.786207\n",
       "45          0.633955           0.148058          0.145912       0.95082     0.783217\n",
       "60          0.694036           0.138998          0.144005      0.953488     0.780142\n",
       "75          0.877857           0.149012          0.144958       0.93578     0.791667\n",
       "90          0.969887           0.149965          0.163078      0.893939     0.826087\n",
       "105          1.13297           0.198126          0.176907      0.893333     0.791045\n",
       "120          1.28102           0.478029          0.200987      0.858824     0.791045\n",
       "135          1.62005            2.48313          0.179052      0.868687     0.828571\n",
       "150          1.77717            4.86493          0.193119      0.876106     0.830986\n",
       "165            1.544           0.530005          0.175953      0.865079     0.805556\n",
       "180          1.79195            2.99001          0.179052      0.862454          0.8\n",
       "195          1.78289           0.347853          0.187159      0.865979     0.808824\n",
       "210          1.80888           0.166893          0.143051      0.856209     0.808824\n",
       "225          1.80197           0.168085          0.178814      0.859701          0.8\n",
       "240          2.37393            0.22316          0.178099      0.845938     0.808824\n",
       "255             2.28           0.176191          0.145912      0.845745          0.8\n",
       "270          2.32816           0.165939          0.144005      0.846348     0.788321\n",
       "285          2.49195           0.307083          0.167847      0.851064     0.779412\n",
       "300          2.47288           0.179768          0.183105      0.848073     0.779412"
      ]
     },
     "execution_count": 491,
     "metadata": {},
     "output_type": "execute_result"
    }
   ],
   "source": [
    "# Third model\n",
    "from sklearn.linear_model import LogisticRegression \n",
    "clf = LogisticRegression(penalty='l2', max_iter=300)#, class_weight=\"balanced\")\n",
    "\n",
    "perf_3 = train_predict_lc(clf, X_train, y_train, X_test, y_test, training_set_sizes)\n",
    "print \"Perfomance table for {}: \".format(clf.__class__.__name__)\n",
    "print \"(*** note ***: times are expressed in milliseconds)\" \n",
    "perf_3.table"
   ]
  },
  {
   "cell_type": "markdown",
   "metadata": {},
   "source": [
    "Let's diplay above data in graphs for Score and for timings, as we did before:"
   ]
  },
  {
   "cell_type": "code",
   "execution_count": 492,
   "metadata": {
    "collapsed": false
   },
   "outputs": [
    {
     "data": {
      "image/png": "[encoded data removed]",
      "text/plain": [
       "<matplotlib.figure.Figure at 0x103f13990>"
      ]
     },
     "metadata": {},
     "output_type": "display_data"
    },
    {
     "data": {
      "image/png": "[encoded data removed]",
      "text/plain": [
       "<matplotlib.figure.Figure at 0x118102910>"
      ]
     },
     "metadata": {},
     "output_type": "display_data"
    }
   ],
   "source": [
    "plot_learning_curve(perf_3, clf.__class__.__name__)\n",
    "plot_timings(perf_3, clf.__class__.__name__)"
   ]
  },
  {
   "cell_type": "markdown",
   "metadata": {},
   "source": [
    "## 5. Choosing the Best Model\n",
    "\n",
    "- Based on the experiments you performed earlier, in 1-2 paragraphs explain to the board of supervisors what single model you chose as the best model. Which model is generally the most appropriate based on the available data, limited resources, cost, and performance?\n",
    "- In 1-2 paragraphs explain to the board of supervisors in layman's terms how the final model chosen is supposed to work (for example if you chose a Decision Tree or Support Vector Machine, how does it make a prediction).\n",
    "- Fine-tune the model. Use Gridsearch with at least one important parameter tuned and with at least 3 settings. Use the entire training set for this.\n",
    "- What is the model's final F<sub>1</sub> score?"
   ]
  },
  {
   "cell_type": "code",
   "execution_count": 495,
   "metadata": {
    "collapsed": false
   },
   "outputs": [
    {
     "name": "stdout",
     "output_type": "stream",
     "text": [
      "0.799003229205\n",
      "0.802816901408\n"
     ]
    }
   ],
   "source": [
    "# TODO: Fine-tune your model and report the best F1 score\n",
    "from sklearn.grid_search import GridSearchCV\n",
    "\n",
    "def scorer_fun(clf,X,target):\n",
    "    prediction=clf.predict(X)\n",
    "    return f1_score(target.astype(str), prediction.astype(str), \n",
    "                    pos_label='yes')\n",
    "\n",
    "clf = DecisionTreeClassifier(min_samples_leaf=8,min_weight_fraction_leaf=0.02, max_depth=3, class_weight='balanced')\n",
    "#clf = DecisionTreeClassifier()\n",
    "param_grid = {'min_weight_fraction_leaf': [0.1,0.2,0.4],\n",
    "              'min_samples_split': [2,4,6,8,10],\n",
    "              'min_samples_leaf': [4,6,8,10,12],\n",
    "              'max_depth': [2,3,4,5,6],\n",
    "             'class_weight': [None, 'balanced']}\n",
    "\n",
    "grid = GridSearchCV(clf, param_grid, scoring=scorer_fun, \n",
    "                    fit_params=None, n_jobs=1, cv=6)\n",
    "grid.fit(X_train, y_train)\n",
    "print grid.best_score_\n",
    "print scorer_fun(grid.best_estimator_,X_test, y_test)"
   ]
  },
  {
   "cell_type": "code",
   "execution_count": 496,
   "metadata": {
    "collapsed": false
   },
   "outputs": [
    {
     "name": "stdout",
     "output_type": "stream",
     "text": [
      "0.784960864258\n",
      "0.779411764706\n"
     ]
    }
   ],
   "source": [
    "clf = LogisticRegression()\n",
    "param_grid = {'penalty': ['l1', 'l2'],\n",
    "              'max_iter': [100,200,300,400,500,1000, 3000]}\n",
    "\n",
    "\n",
    "grid = GridSearchCV(clf, param_grid, scoring=scorer_fun, \n",
    "                    fit_params=None, n_jobs=1, cv=3)\n",
    "grid.fit(X_train[0:300], y_train[0:300])\n",
    "print grid.best_score_\n",
    "print scorer_fun(grid.best_estimator_,X_test, y_test)"
   ]
  },
  {
   "cell_type": "code",
   "execution_count": 497,
   "metadata": {
    "collapsed": false
   },
   "outputs": [
    {
     "name": "stdout",
     "output_type": "stream",
     "text": [
      "0.760911540189\n",
      "0.746268656716\n"
     ]
    }
   ],
   "source": [
    "clf = clf = GaussianNB()\n",
    "param_grid = {}\n",
    "\n",
    "\n",
    "grid = GridSearchCV(clf, param_grid={},scoring=scorer_fun, \n",
    "                    fit_params=None, n_jobs=1, cv=3)\n",
    "grid.fit(X_train[0:300], y_train[0:300])\n",
    "print grid.best_score_\n",
    "print scorer_fun(grid.best_estimator_,X_test, y_test)"
   ]
  },
  {
   "cell_type": "code",
   "execution_count": null,
   "metadata": {
    "collapsed": true
   },
   "outputs": [],
   "source": []
  }
 ],
 "metadata": {
  "kernelspec": {
   "display_name": "Python 2",
   "language": "python",
   "name": "python2"
  },
  "language_info": {
   "codemirror_mode": {
    "name": "ipython",
    "version": 2
   },
   "file_extension": ".py",
   "mimetype": "text/x-python",
   "name": "python",
   "nbconvert_exporter": "python",
   "pygments_lexer": "ipython2",
   "version": "2.7.11"
  }
 },
 "nbformat": 4,
 "nbformat_minor": 0
}
